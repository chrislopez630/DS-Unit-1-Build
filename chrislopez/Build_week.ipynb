{
  "nbformat": 4,
  "nbformat_minor": 0,
  "metadata": {
    "colab": {
      "name": "Build week",
      "provenance": [],
      "authorship_tag": "ABX9TyPUKlCtyr8xnS5FuifngI+d",
      "include_colab_link": true
    },
    "kernelspec": {
      "name": "python3",
      "display_name": "Python 3"
    }
  },
  "cells": [
    {
      "cell_type": "markdown",
      "metadata": {
        "id": "view-in-github",
        "colab_type": "text"
      },
      "source": [
        "<a href=\"https://colab.research.google.com/github/chrislopez630/DS-Unit-1-Build-aster.github.io/blob/master/chrislopez/Build_week.ipynb\" target=\"_parent\"><img src=\"https://colab.research.google.com/assets/colab-badge.svg\" alt=\"Open In Colab\"/></a>"
      ]
    },
    {
      "cell_type": "markdown",
      "metadata": {
        "id": "nNKBjjyC72TR",
        "colab_type": "text"
      },
      "source": [
        "##My main look was to see the amount of races incarcerated in the years and see which race incarceration goes higher within the years but my dataset does not let me check the years when I try to look for years \n",
        "\n",
        "Student research question is concise, direct, and practical. Student can communicate their main findings in 1-2 sentences. Student potentially had to alter their course on the projects based on the problem and the data, these learnings are documented and articulated by the project."
      ]
    },
    {
      "cell_type": "markdown",
      "metadata": {
        "id": "5Ar8QVvIfqFI",
        "colab_type": "text"
      },
      "source": [
        "\n",
        "##Loading Dataset onto data frame\n",
        "\n"
      ]
    },
    {
      "cell_type": "code",
      "metadata": {
        "id": "Zp9eCe7PcRVK",
        "colab_type": "code",
        "colab": {}
      },
      "source": [
        "import pandas as pd\n",
        "import numpy as np\n",
        "df = pd.read_csv('https://raw.githubusercontent.com/chrislopez630/DS-Unit-1-Build-aster.github.io/master/daily-inmates-in-custody.csv')"
      ],
      "execution_count": 282,
      "outputs": []
    },
    {
      "cell_type": "code",
      "metadata": {
        "id": "qbnmeP8uFMZZ",
        "colab_type": "code",
        "colab": {
          "base_uri": "https://localhost:8080/",
          "height": 34
        },
        "outputId": "f97018b0-e154-4b1b-faa1-5570adacb68c"
      },
      "source": [
        "print(df.shape)"
      ],
      "execution_count": 390,
      "outputs": [
        {
          "output_type": "stream",
          "text": [
            "(6818, 15)\n"
          ],
          "name": "stdout"
        }
      ]
    },
    {
      "cell_type": "code",
      "metadata": {
        "id": "80X8-0yVq5eq",
        "colab_type": "code",
        "colab": {
          "base_uri": "https://localhost:8080/",
          "height": 204
        },
        "outputId": "89478b5c-1e1b-4597-88e5-6504a03573b2"
      },
      "source": [
        "df.head()"
      ],
      "execution_count": 283,
      "outputs": [
        {
          "output_type": "execute_result",
          "data": {
            "text/html": [
              "<div>\n",
              "<style scoped>\n",
              "    .dataframe tbody tr th:only-of-type {\n",
              "        vertical-align: middle;\n",
              "    }\n",
              "\n",
              "    .dataframe tbody tr th {\n",
              "        vertical-align: top;\n",
              "    }\n",
              "\n",
              "    .dataframe thead th {\n",
              "        text-align: right;\n",
              "    }\n",
              "</style>\n",
              "<table border=\"1\" class=\"dataframe\">\n",
              "  <thead>\n",
              "    <tr style=\"text-align: right;\">\n",
              "      <th></th>\n",
              "      <th>INMATEID</th>\n",
              "      <th>ADMITTED_DT</th>\n",
              "      <th>DISCHARGED_DT</th>\n",
              "      <th>CUSTODY_LEVEL</th>\n",
              "      <th>BRADH</th>\n",
              "      <th>RACE</th>\n",
              "      <th>GENDER</th>\n",
              "      <th>AGE</th>\n",
              "      <th>INMATE_STATUS_CODE</th>\n",
              "      <th>SEALED</th>\n",
              "      <th>SRG_FLG</th>\n",
              "      <th>TOP_CHARGE</th>\n",
              "      <th>INFRACTION</th>\n",
              "    </tr>\n",
              "  </thead>\n",
              "  <tbody>\n",
              "    <tr>\n",
              "      <th>0</th>\n",
              "      <td>152258</td>\n",
              "      <td>2018-08-24T01:46:33.000</td>\n",
              "      <td>NaN</td>\n",
              "      <td>MIN</td>\n",
              "      <td>Y</td>\n",
              "      <td>W</td>\n",
              "      <td>M</td>\n",
              "      <td>54.0</td>\n",
              "      <td>DE</td>\n",
              "      <td>N</td>\n",
              "      <td>N</td>\n",
              "      <td>140.25</td>\n",
              "      <td>N</td>\n",
              "    </tr>\n",
              "    <tr>\n",
              "      <th>1</th>\n",
              "      <td>89404</td>\n",
              "      <td>2019-10-16T11:06:07.000</td>\n",
              "      <td>NaN</td>\n",
              "      <td>MAX</td>\n",
              "      <td>N</td>\n",
              "      <td>B</td>\n",
              "      <td>M</td>\n",
              "      <td>29.0</td>\n",
              "      <td>DEP</td>\n",
              "      <td>N</td>\n",
              "      <td>Y</td>\n",
              "      <td>120.14</td>\n",
              "      <td>N</td>\n",
              "    </tr>\n",
              "    <tr>\n",
              "      <th>2</th>\n",
              "      <td>7049</td>\n",
              "      <td>2019-11-10T02:32:10.000</td>\n",
              "      <td>NaN</td>\n",
              "      <td>MAX</td>\n",
              "      <td>N</td>\n",
              "      <td>B</td>\n",
              "      <td>M</td>\n",
              "      <td>38.0</td>\n",
              "      <td>DEP</td>\n",
              "      <td>N</td>\n",
              "      <td>N</td>\n",
              "      <td>140.15</td>\n",
              "      <td>N</td>\n",
              "    </tr>\n",
              "    <tr>\n",
              "      <th>3</th>\n",
              "      <td>20207729</td>\n",
              "      <td>2019-10-23T03:26:50.000</td>\n",
              "      <td>NaN</td>\n",
              "      <td>MIN</td>\n",
              "      <td>N</td>\n",
              "      <td>W</td>\n",
              "      <td>M</td>\n",
              "      <td>29.0</td>\n",
              "      <td>CS</td>\n",
              "      <td>N</td>\n",
              "      <td>N</td>\n",
              "      <td>156.10</td>\n",
              "      <td>N</td>\n",
              "    </tr>\n",
              "    <tr>\n",
              "      <th>4</th>\n",
              "      <td>20203998</td>\n",
              "      <td>2019-05-02T01:35:22.000</td>\n",
              "      <td>NaN</td>\n",
              "      <td>MAX</td>\n",
              "      <td>Y</td>\n",
              "      <td>B</td>\n",
              "      <td>M</td>\n",
              "      <td>27.0</td>\n",
              "      <td>DE</td>\n",
              "      <td>N</td>\n",
              "      <td>N</td>\n",
              "      <td>125.25</td>\n",
              "      <td>Y</td>\n",
              "    </tr>\n",
              "  </tbody>\n",
              "</table>\n",
              "</div>"
            ],
            "text/plain": [
              "   INMATEID              ADMITTED_DT  ...  TOP_CHARGE INFRACTION\n",
              "0    152258  2018-08-24T01:46:33.000  ...      140.25          N\n",
              "1     89404  2019-10-16T11:06:07.000  ...      120.14          N\n",
              "2      7049  2019-11-10T02:32:10.000  ...      140.15          N\n",
              "3  20207729  2019-10-23T03:26:50.000  ...      156.10          N\n",
              "4  20203998  2019-05-02T01:35:22.000  ...      125.25          Y\n",
              "\n",
              "[5 rows x 13 columns]"
            ]
          },
          "metadata": {
            "tags": []
          },
          "execution_count": 283
        }
      ]
    },
    {
      "cell_type": "code",
      "metadata": {
        "id": "EFOfKxv5rEQc",
        "colab_type": "code",
        "colab": {
          "base_uri": "https://localhost:8080/",
          "height": 357
        },
        "outputId": "cb3d29ba-360c-4d84-a89a-48b0c2b7024a"
      },
      "source": [
        "df.info()"
      ],
      "execution_count": 284,
      "outputs": [
        {
          "output_type": "stream",
          "text": [
            "<class 'pandas.core.frame.DataFrame'>\n",
            "RangeIndex: 6818 entries, 0 to 6817\n",
            "Data columns (total 13 columns):\n",
            " #   Column              Non-Null Count  Dtype  \n",
            "---  ------              --------------  -----  \n",
            " 0   INMATEID            6818 non-null   int64  \n",
            " 1   ADMITTED_DT         6818 non-null   object \n",
            " 2   DISCHARGED_DT       0 non-null      float64\n",
            " 3   CUSTODY_LEVEL       6703 non-null   object \n",
            " 4   BRADH               6818 non-null   object \n",
            " 5   RACE                6789 non-null   object \n",
            " 6   GENDER              6789 non-null   object \n",
            " 7   AGE                 6805 non-null   float64\n",
            " 8   INMATE_STATUS_CODE  6818 non-null   object \n",
            " 9   SEALED              6818 non-null   object \n",
            " 10  SRG_FLG             6818 non-null   object \n",
            " 11  TOP_CHARGE          5795 non-null   object \n",
            " 12  INFRACTION          6818 non-null   object \n",
            "dtypes: float64(2), int64(1), object(10)\n",
            "memory usage: 692.6+ KB\n"
          ],
          "name": "stdout"
        }
      ]
    },
    {
      "cell_type": "code",
      "metadata": {
        "id": "4jz5hyGIrdtT",
        "colab_type": "code",
        "colab": {}
      },
      "source": [
        "df['admitted'] = pd.to_datetime(df['ADMITTED_DT'])"
      ],
      "execution_count": 285,
      "outputs": []
    },
    {
      "cell_type": "code",
      "metadata": {
        "id": "AgkGBi7ZsXco",
        "colab_type": "code",
        "colab": {
          "base_uri": "https://localhost:8080/",
          "height": 374
        },
        "outputId": "e7e1cf2d-7990-460c-9157-e35abbed6957"
      },
      "source": [
        "df['year'] = df['admitted'].dt.year\n",
        "df.head()"
      ],
      "execution_count": 377,
      "outputs": [
        {
          "output_type": "execute_result",
          "data": {
            "text/html": [
              "<div>\n",
              "<style scoped>\n",
              "    .dataframe tbody tr th:only-of-type {\n",
              "        vertical-align: middle;\n",
              "    }\n",
              "\n",
              "    .dataframe tbody tr th {\n",
              "        vertical-align: top;\n",
              "    }\n",
              "\n",
              "    .dataframe thead th {\n",
              "        text-align: right;\n",
              "    }\n",
              "</style>\n",
              "<table border=\"1\" class=\"dataframe\">\n",
              "  <thead>\n",
              "    <tr style=\"text-align: right;\">\n",
              "      <th></th>\n",
              "      <th>INMATEID</th>\n",
              "      <th>ADMITTED_DT</th>\n",
              "      <th>DISCHARGED_DT</th>\n",
              "      <th>CUSTODY_LEVEL</th>\n",
              "      <th>BRADH</th>\n",
              "      <th>RACE</th>\n",
              "      <th>GENDER</th>\n",
              "      <th>AGE</th>\n",
              "      <th>INMATE_STATUS_CODE</th>\n",
              "      <th>SEALED</th>\n",
              "      <th>SRG_FLG</th>\n",
              "      <th>TOP_CHARGE</th>\n",
              "      <th>INFRACTION</th>\n",
              "      <th>admitted</th>\n",
              "      <th>year</th>\n",
              "    </tr>\n",
              "  </thead>\n",
              "  <tbody>\n",
              "    <tr>\n",
              "      <th>0</th>\n",
              "      <td>152258</td>\n",
              "      <td>2018-08-24T01:46:33.000</td>\n",
              "      <td>NaN</td>\n",
              "      <td>MIN</td>\n",
              "      <td>Y</td>\n",
              "      <td>2.0</td>\n",
              "      <td>M</td>\n",
              "      <td>54.0</td>\n",
              "      <td>DE</td>\n",
              "      <td>N</td>\n",
              "      <td>N</td>\n",
              "      <td>140.25</td>\n",
              "      <td>N</td>\n",
              "      <td>2018-08-24 01:46:33</td>\n",
              "      <td>2018</td>\n",
              "    </tr>\n",
              "    <tr>\n",
              "      <th>1</th>\n",
              "      <td>89404</td>\n",
              "      <td>2019-10-16T11:06:07.000</td>\n",
              "      <td>NaN</td>\n",
              "      <td>MAX</td>\n",
              "      <td>N</td>\n",
              "      <td>0.0</td>\n",
              "      <td>M</td>\n",
              "      <td>29.0</td>\n",
              "      <td>DEP</td>\n",
              "      <td>N</td>\n",
              "      <td>Y</td>\n",
              "      <td>120.14</td>\n",
              "      <td>N</td>\n",
              "      <td>2019-10-16 11:06:07</td>\n",
              "      <td>2019</td>\n",
              "    </tr>\n",
              "    <tr>\n",
              "      <th>2</th>\n",
              "      <td>7049</td>\n",
              "      <td>2019-11-10T02:32:10.000</td>\n",
              "      <td>NaN</td>\n",
              "      <td>MAX</td>\n",
              "      <td>N</td>\n",
              "      <td>0.0</td>\n",
              "      <td>M</td>\n",
              "      <td>38.0</td>\n",
              "      <td>DEP</td>\n",
              "      <td>N</td>\n",
              "      <td>N</td>\n",
              "      <td>140.15</td>\n",
              "      <td>N</td>\n",
              "      <td>2019-11-10 02:32:10</td>\n",
              "      <td>2019</td>\n",
              "    </tr>\n",
              "    <tr>\n",
              "      <th>3</th>\n",
              "      <td>20207729</td>\n",
              "      <td>2019-10-23T03:26:50.000</td>\n",
              "      <td>NaN</td>\n",
              "      <td>MIN</td>\n",
              "      <td>N</td>\n",
              "      <td>2.0</td>\n",
              "      <td>M</td>\n",
              "      <td>29.0</td>\n",
              "      <td>CS</td>\n",
              "      <td>N</td>\n",
              "      <td>N</td>\n",
              "      <td>156.10</td>\n",
              "      <td>N</td>\n",
              "      <td>2019-10-23 03:26:50</td>\n",
              "      <td>2019</td>\n",
              "    </tr>\n",
              "    <tr>\n",
              "      <th>4</th>\n",
              "      <td>20203998</td>\n",
              "      <td>2019-05-02T01:35:22.000</td>\n",
              "      <td>NaN</td>\n",
              "      <td>MAX</td>\n",
              "      <td>Y</td>\n",
              "      <td>0.0</td>\n",
              "      <td>M</td>\n",
              "      <td>27.0</td>\n",
              "      <td>DE</td>\n",
              "      <td>N</td>\n",
              "      <td>N</td>\n",
              "      <td>125.25</td>\n",
              "      <td>Y</td>\n",
              "      <td>2019-05-02 01:35:22</td>\n",
              "      <td>2019</td>\n",
              "    </tr>\n",
              "  </tbody>\n",
              "</table>\n",
              "</div>"
            ],
            "text/plain": [
              "   INMATEID              ADMITTED_DT  ...            admitted  year\n",
              "0    152258  2018-08-24T01:46:33.000  ... 2018-08-24 01:46:33  2018\n",
              "1     89404  2019-10-16T11:06:07.000  ... 2019-10-16 11:06:07  2019\n",
              "2      7049  2019-11-10T02:32:10.000  ... 2019-11-10 02:32:10  2019\n",
              "3  20207729  2019-10-23T03:26:50.000  ... 2019-10-23 03:26:50  2019\n",
              "4  20203998  2019-05-02T01:35:22.000  ... 2019-05-02 01:35:22  2019\n",
              "\n",
              "[5 rows x 15 columns]"
            ]
          },
          "metadata": {
            "tags": []
          },
          "execution_count": 377
        }
      ]
    },
    {
      "cell_type": "code",
      "metadata": {
        "id": "JGGbXxG6DAG_",
        "colab_type": "code",
        "colab": {}
      },
      "source": [
        ""
      ],
      "execution_count": null,
      "outputs": []
    },
    {
      "cell_type": "code",
      "metadata": {
        "id": "05Sf9CTOAB_p",
        "colab_type": "code",
        "colab": {
          "base_uri": "https://localhost:8080/",
          "height": 221
        },
        "outputId": "d344bdad-7031-4409-eef4-551f2eb2906b"
      },
      "source": [
        "sr = pd.Series((df['year'] == 2018) & (df['RACE'] == 0.0))\n",
        "  \n",
        "# Print the series \n",
        "print(sr)"
      ],
      "execution_count": 439,
      "outputs": [
        {
          "output_type": "stream",
          "text": [
            "0       False\n",
            "1       False\n",
            "2       False\n",
            "3       False\n",
            "4       False\n",
            "        ...  \n",
            "6813    False\n",
            "6814     True\n",
            "6815     True\n",
            "6816    False\n",
            "6817     True\n",
            "Length: 6818, dtype: bool\n"
          ],
          "name": "stdout"
        }
      ]
    },
    {
      "cell_type": "code",
      "metadata": {
        "id": "JzvLDYpWCtwU",
        "colab_type": "code",
        "colab": {
          "base_uri": "https://localhost:8080/",
          "height": 68
        },
        "outputId": "c105eaa8-d9c4-49e5-f5e0-956a5fd93430"
      },
      "source": [
        "sr.value_counts()"
      ],
      "execution_count": 440,
      "outputs": [
        {
          "output_type": "execute_result",
          "data": {
            "text/plain": [
              "False    6283\n",
              "True      535\n",
              "dtype: int64"
            ]
          },
          "metadata": {
            "tags": []
          },
          "execution_count": 440
        }
      ]
    },
    {
      "cell_type": "code",
      "metadata": {
        "id": "2-UCYEE5CL2Z",
        "colab_type": "code",
        "colab": {
          "base_uri": "https://localhost:8080/",
          "height": 221
        },
        "outputId": "ac8be638-3a13-487f-9528-d7d8aabbbfc8"
      },
      "source": [
        "sry = pd.Series(df['year'] == 0.0)\n",
        "print(sry)"
      ],
      "execution_count": 309,
      "outputs": [
        {
          "output_type": "stream",
          "text": [
            "0       False\n",
            "1       False\n",
            "2       False\n",
            "3       False\n",
            "4       False\n",
            "        ...  \n",
            "6813    False\n",
            "6814    False\n",
            "6815    False\n",
            "6816    False\n",
            "6817    False\n",
            "Name: year, Length: 6818, dtype: bool\n"
          ],
          "name": "stdout"
        }
      ]
    },
    {
      "cell_type": "code",
      "metadata": {
        "id": "VOSh4R2aCYBd",
        "colab_type": "code",
        "colab": {}
      },
      "source": [
        "omg = (sr, sry)"
      ],
      "execution_count": 306,
      "outputs": []
    },
    {
      "cell_type": "code",
      "metadata": {
        "id": "ZIgBg_PoB4fl",
        "colab_type": "code",
        "colab": {
          "base_uri": "https://localhost:8080/",
          "height": 164
        },
        "outputId": "0eac8b78-b9c6-4cf3-d650-442b8cc98af9"
      },
      "source": [
        ""
      ],
      "execution_count": 307,
      "outputs": [
        {
          "output_type": "error",
          "ename": "AttributeError",
          "evalue": "ignored",
          "traceback": [
            "\u001b[0;31m---------------------------------------------------------------------------\u001b[0m",
            "\u001b[0;31mAttributeError\u001b[0m                            Traceback (most recent call last)",
            "\u001b[0;32m<ipython-input-307-73b299cfad8a>\u001b[0m in \u001b[0;36m<module>\u001b[0;34m()\u001b[0m\n\u001b[0;32m----> 1\u001b[0;31m \u001b[0momg\u001b[0m\u001b[0;34m.\u001b[0m\u001b[0mvalue_counts\u001b[0m\u001b[0;34m(\u001b[0m\u001b[0;34m)\u001b[0m\u001b[0;34m\u001b[0m\u001b[0;34m\u001b[0m\u001b[0m\n\u001b[0m",
            "\u001b[0;31mAttributeError\u001b[0m: 'tuple' object has no attribute 'value_counts'"
          ]
        }
      ]
    },
    {
      "cell_type": "code",
      "metadata": {
        "id": "FwKU7y2_3bxZ",
        "colab_type": "code",
        "colab": {
          "base_uri": "https://localhost:8080/",
          "height": 284
        },
        "outputId": "e776acdb-3260-464a-cfae-399127055111"
      },
      "source": [
        "df['RACE'].value_counts()[:5000].plot(kind='bar')"
      ],
      "execution_count": 211,
      "outputs": [
        {
          "output_type": "execute_result",
          "data": {
            "text/plain": [
              "<matplotlib.axes._subplots.AxesSubplot at 0x7fbe6d95c390>"
            ]
          },
          "metadata": {
            "tags": []
          },
          "execution_count": 211
        },
        {
          "output_type": "display_data",
          "data": {
            "image/png": "[encoded data removed]",
            "text/plain": [
              "<Figure size 432x288 with 1 Axes>"
            ]
          },
          "metadata": {
            "tags": [],
            "needs_background": "light"
          }
        }
      ]
    },
    {
      "cell_type": "markdown",
      "metadata": {
        "id": "vVUqK0Ltf0oO",
        "colab_type": "text"
      },
      "source": [
        "##deleting unwated columns (inmate ID, inmate status code, and top charge)"
      ]
    },
    {
      "cell_type": "code",
      "metadata": {
        "id": "UXfeI3vR6P84",
        "colab_type": "code",
        "colab": {}
      },
      "source": [
        "del df['ADMITTED_DT']"
      ],
      "execution_count": 86,
      "outputs": []
    },
    {
      "cell_type": "code",
      "metadata": {
        "id": "5eKeuGj46TWz",
        "colab_type": "code",
        "colab": {
          "base_uri": "https://localhost:8080/",
          "height": 419
        },
        "outputId": "5c5f2c27-bb4c-4059-af72-210c3ebef6ba"
      },
      "source": [
        "df"
      ],
      "execution_count": 87,
      "outputs": [
        {
          "output_type": "execute_result",
          "data": {
            "text/html": [
              "<div>\n",
              "<style scoped>\n",
              "    .dataframe tbody tr th:only-of-type {\n",
              "        vertical-align: middle;\n",
              "    }\n",
              "\n",
              "    .dataframe tbody tr th {\n",
              "        vertical-align: top;\n",
              "    }\n",
              "\n",
              "    .dataframe thead th {\n",
              "        text-align: right;\n",
              "    }\n",
              "</style>\n",
              "<table border=\"1\" class=\"dataframe\">\n",
              "  <thead>\n",
              "    <tr style=\"text-align: right;\">\n",
              "      <th></th>\n",
              "      <th>INMATEID</th>\n",
              "      <th>DISCHARGED_DT</th>\n",
              "      <th>CUSTODY_LEVEL</th>\n",
              "      <th>BRADH</th>\n",
              "      <th>RACE</th>\n",
              "      <th>GENDER</th>\n",
              "      <th>AGE</th>\n",
              "      <th>INMATE_STATUS_CODE</th>\n",
              "      <th>SEALED</th>\n",
              "      <th>SRG_FLG</th>\n",
              "      <th>TOP_CHARGE</th>\n",
              "      <th>INFRACTION</th>\n",
              "      <th>admitted</th>\n",
              "      <th>year</th>\n",
              "    </tr>\n",
              "  </thead>\n",
              "  <tbody>\n",
              "    <tr>\n",
              "      <th>0</th>\n",
              "      <td>152258</td>\n",
              "      <td>NaN</td>\n",
              "      <td>MIN</td>\n",
              "      <td>Y</td>\n",
              "      <td>W</td>\n",
              "      <td>M</td>\n",
              "      <td>54.0</td>\n",
              "      <td>DE</td>\n",
              "      <td>N</td>\n",
              "      <td>N</td>\n",
              "      <td>140.25</td>\n",
              "      <td>N</td>\n",
              "      <td>2018-08-24 01:46:33</td>\n",
              "      <td>2018</td>\n",
              "    </tr>\n",
              "    <tr>\n",
              "      <th>1</th>\n",
              "      <td>89404</td>\n",
              "      <td>NaN</td>\n",
              "      <td>MAX</td>\n",
              "      <td>N</td>\n",
              "      <td>B</td>\n",
              "      <td>M</td>\n",
              "      <td>29.0</td>\n",
              "      <td>DEP</td>\n",
              "      <td>N</td>\n",
              "      <td>Y</td>\n",
              "      <td>120.14</td>\n",
              "      <td>N</td>\n",
              "      <td>2019-10-16 11:06:07</td>\n",
              "      <td>2019</td>\n",
              "    </tr>\n",
              "    <tr>\n",
              "      <th>2</th>\n",
              "      <td>7049</td>\n",
              "      <td>NaN</td>\n",
              "      <td>MAX</td>\n",
              "      <td>N</td>\n",
              "      <td>B</td>\n",
              "      <td>M</td>\n",
              "      <td>38.0</td>\n",
              "      <td>DEP</td>\n",
              "      <td>N</td>\n",
              "      <td>N</td>\n",
              "      <td>140.15</td>\n",
              "      <td>N</td>\n",
              "      <td>2019-11-10 02:32:10</td>\n",
              "      <td>2019</td>\n",
              "    </tr>\n",
              "    <tr>\n",
              "      <th>3</th>\n",
              "      <td>20207729</td>\n",
              "      <td>NaN</td>\n",
              "      <td>MIN</td>\n",
              "      <td>N</td>\n",
              "      <td>W</td>\n",
              "      <td>M</td>\n",
              "      <td>29.0</td>\n",
              "      <td>CS</td>\n",
              "      <td>N</td>\n",
              "      <td>N</td>\n",
              "      <td>156.10</td>\n",
              "      <td>N</td>\n",
              "      <td>2019-10-23 03:26:50</td>\n",
              "      <td>2019</td>\n",
              "    </tr>\n",
              "    <tr>\n",
              "      <th>4</th>\n",
              "      <td>20203998</td>\n",
              "      <td>NaN</td>\n",
              "      <td>MAX</td>\n",
              "      <td>Y</td>\n",
              "      <td>B</td>\n",
              "      <td>M</td>\n",
              "      <td>27.0</td>\n",
              "      <td>DE</td>\n",
              "      <td>N</td>\n",
              "      <td>N</td>\n",
              "      <td>125.25</td>\n",
              "      <td>Y</td>\n",
              "      <td>2019-05-02 01:35:22</td>\n",
              "      <td>2019</td>\n",
              "    </tr>\n",
              "    <tr>\n",
              "      <th>...</th>\n",
              "      <td>...</td>\n",
              "      <td>...</td>\n",
              "      <td>...</td>\n",
              "      <td>...</td>\n",
              "      <td>...</td>\n",
              "      <td>...</td>\n",
              "      <td>...</td>\n",
              "      <td>...</td>\n",
              "      <td>...</td>\n",
              "      <td>...</td>\n",
              "      <td>...</td>\n",
              "      <td>...</td>\n",
              "      <td>...</td>\n",
              "      <td>...</td>\n",
              "    </tr>\n",
              "    <tr>\n",
              "      <th>6813</th>\n",
              "      <td>19225</td>\n",
              "      <td>NaN</td>\n",
              "      <td>MED</td>\n",
              "      <td>Y</td>\n",
              "      <td>B</td>\n",
              "      <td>M</td>\n",
              "      <td>43.0</td>\n",
              "      <td>DE</td>\n",
              "      <td>N</td>\n",
              "      <td>N</td>\n",
              "      <td>125.25</td>\n",
              "      <td>N</td>\n",
              "      <td>2017-02-03 21:36:59</td>\n",
              "      <td>2017</td>\n",
              "    </tr>\n",
              "    <tr>\n",
              "      <th>6814</th>\n",
              "      <td>20093747</td>\n",
              "      <td>NaN</td>\n",
              "      <td>MAX</td>\n",
              "      <td>Y</td>\n",
              "      <td>B</td>\n",
              "      <td>M</td>\n",
              "      <td>46.0</td>\n",
              "      <td>DE</td>\n",
              "      <td>N</td>\n",
              "      <td>N</td>\n",
              "      <td>110-125.25</td>\n",
              "      <td>N</td>\n",
              "      <td>2018-11-14 01:38:36</td>\n",
              "      <td>2018</td>\n",
              "    </tr>\n",
              "    <tr>\n",
              "      <th>6815</th>\n",
              "      <td>93606</td>\n",
              "      <td>NaN</td>\n",
              "      <td>MAX</td>\n",
              "      <td>Y</td>\n",
              "      <td>B</td>\n",
              "      <td>M</td>\n",
              "      <td>35.0</td>\n",
              "      <td>DE</td>\n",
              "      <td>N</td>\n",
              "      <td>Y</td>\n",
              "      <td>110-125.25</td>\n",
              "      <td>Y</td>\n",
              "      <td>2018-01-22 23:57:24</td>\n",
              "      <td>2018</td>\n",
              "    </tr>\n",
              "    <tr>\n",
              "      <th>6816</th>\n",
              "      <td>14481</td>\n",
              "      <td>NaN</td>\n",
              "      <td>MED</td>\n",
              "      <td>N</td>\n",
              "      <td>W</td>\n",
              "      <td>M</td>\n",
              "      <td>40.0</td>\n",
              "      <td>DE</td>\n",
              "      <td>N</td>\n",
              "      <td>N</td>\n",
              "      <td>130.96</td>\n",
              "      <td>N</td>\n",
              "      <td>2017-08-23 17:21:51</td>\n",
              "      <td>2017</td>\n",
              "    </tr>\n",
              "    <tr>\n",
              "      <th>6817</th>\n",
              "      <td>167979</td>\n",
              "      <td>NaN</td>\n",
              "      <td>MIN</td>\n",
              "      <td>N</td>\n",
              "      <td>B</td>\n",
              "      <td>M</td>\n",
              "      <td>43.0</td>\n",
              "      <td>DE</td>\n",
              "      <td>N</td>\n",
              "      <td>N</td>\n",
              "      <td>220.41</td>\n",
              "      <td>N</td>\n",
              "      <td>2018-09-19 16:21:38</td>\n",
              "      <td>2018</td>\n",
              "    </tr>\n",
              "  </tbody>\n",
              "</table>\n",
              "<p>6818 rows × 14 columns</p>\n",
              "</div>"
            ],
            "text/plain": [
              "      INMATEID  DISCHARGED_DT  ...            admitted  year\n",
              "0       152258            NaN  ... 2018-08-24 01:46:33  2018\n",
              "1        89404            NaN  ... 2019-10-16 11:06:07  2019\n",
              "2         7049            NaN  ... 2019-11-10 02:32:10  2019\n",
              "3     20207729            NaN  ... 2019-10-23 03:26:50  2019\n",
              "4     20203998            NaN  ... 2019-05-02 01:35:22  2019\n",
              "...        ...            ...  ...                 ...   ...\n",
              "6813     19225            NaN  ... 2017-02-03 21:36:59  2017\n",
              "6814  20093747            NaN  ... 2018-11-14 01:38:36  2018\n",
              "6815     93606            NaN  ... 2018-01-22 23:57:24  2018\n",
              "6816     14481            NaN  ... 2017-08-23 17:21:51  2017\n",
              "6817    167979            NaN  ... 2018-09-19 16:21:38  2018\n",
              "\n",
              "[6818 rows x 14 columns]"
            ]
          },
          "metadata": {
            "tags": []
          },
          "execution_count": 87
        }
      ]
    },
    {
      "cell_type": "code",
      "metadata": {
        "id": "NDMtAVXkbA38",
        "colab_type": "code",
        "colab": {}
      },
      "source": [
        "del df['INMATE_STATUS_CODE']"
      ],
      "execution_count": 88,
      "outputs": []
    },
    {
      "cell_type": "code",
      "metadata": {
        "id": "1oAb0HUBbE7I",
        "colab_type": "code",
        "colab": {
          "base_uri": "https://localhost:8080/",
          "height": 419
        },
        "outputId": "6ad4ef4e-d1ca-4ed7-ab78-ecd5feb4a1f7"
      },
      "source": [
        "df"
      ],
      "execution_count": 89,
      "outputs": [
        {
          "output_type": "execute_result",
          "data": {
            "text/html": [
              "<div>\n",
              "<style scoped>\n",
              "    .dataframe tbody tr th:only-of-type {\n",
              "        vertical-align: middle;\n",
              "    }\n",
              "\n",
              "    .dataframe tbody tr th {\n",
              "        vertical-align: top;\n",
              "    }\n",
              "\n",
              "    .dataframe thead th {\n",
              "        text-align: right;\n",
              "    }\n",
              "</style>\n",
              "<table border=\"1\" class=\"dataframe\">\n",
              "  <thead>\n",
              "    <tr style=\"text-align: right;\">\n",
              "      <th></th>\n",
              "      <th>INMATEID</th>\n",
              "      <th>DISCHARGED_DT</th>\n",
              "      <th>CUSTODY_LEVEL</th>\n",
              "      <th>BRADH</th>\n",
              "      <th>RACE</th>\n",
              "      <th>GENDER</th>\n",
              "      <th>AGE</th>\n",
              "      <th>SEALED</th>\n",
              "      <th>SRG_FLG</th>\n",
              "      <th>TOP_CHARGE</th>\n",
              "      <th>INFRACTION</th>\n",
              "      <th>admitted</th>\n",
              "      <th>year</th>\n",
              "    </tr>\n",
              "  </thead>\n",
              "  <tbody>\n",
              "    <tr>\n",
              "      <th>0</th>\n",
              "      <td>152258</td>\n",
              "      <td>NaN</td>\n",
              "      <td>MIN</td>\n",
              "      <td>Y</td>\n",
              "      <td>W</td>\n",
              "      <td>M</td>\n",
              "      <td>54.0</td>\n",
              "      <td>N</td>\n",
              "      <td>N</td>\n",
              "      <td>140.25</td>\n",
              "      <td>N</td>\n",
              "      <td>2018-08-24 01:46:33</td>\n",
              "      <td>2018</td>\n",
              "    </tr>\n",
              "    <tr>\n",
              "      <th>1</th>\n",
              "      <td>89404</td>\n",
              "      <td>NaN</td>\n",
              "      <td>MAX</td>\n",
              "      <td>N</td>\n",
              "      <td>B</td>\n",
              "      <td>M</td>\n",
              "      <td>29.0</td>\n",
              "      <td>N</td>\n",
              "      <td>Y</td>\n",
              "      <td>120.14</td>\n",
              "      <td>N</td>\n",
              "      <td>2019-10-16 11:06:07</td>\n",
              "      <td>2019</td>\n",
              "    </tr>\n",
              "    <tr>\n",
              "      <th>2</th>\n",
              "      <td>7049</td>\n",
              "      <td>NaN</td>\n",
              "      <td>MAX</td>\n",
              "      <td>N</td>\n",
              "      <td>B</td>\n",
              "      <td>M</td>\n",
              "      <td>38.0</td>\n",
              "      <td>N</td>\n",
              "      <td>N</td>\n",
              "      <td>140.15</td>\n",
              "      <td>N</td>\n",
              "      <td>2019-11-10 02:32:10</td>\n",
              "      <td>2019</td>\n",
              "    </tr>\n",
              "    <tr>\n",
              "      <th>3</th>\n",
              "      <td>20207729</td>\n",
              "      <td>NaN</td>\n",
              "      <td>MIN</td>\n",
              "      <td>N</td>\n",
              "      <td>W</td>\n",
              "      <td>M</td>\n",
              "      <td>29.0</td>\n",
              "      <td>N</td>\n",
              "      <td>N</td>\n",
              "      <td>156.10</td>\n",
              "      <td>N</td>\n",
              "      <td>2019-10-23 03:26:50</td>\n",
              "      <td>2019</td>\n",
              "    </tr>\n",
              "    <tr>\n",
              "      <th>4</th>\n",
              "      <td>20203998</td>\n",
              "      <td>NaN</td>\n",
              "      <td>MAX</td>\n",
              "      <td>Y</td>\n",
              "      <td>B</td>\n",
              "      <td>M</td>\n",
              "      <td>27.0</td>\n",
              "      <td>N</td>\n",
              "      <td>N</td>\n",
              "      <td>125.25</td>\n",
              "      <td>Y</td>\n",
              "      <td>2019-05-02 01:35:22</td>\n",
              "      <td>2019</td>\n",
              "    </tr>\n",
              "    <tr>\n",
              "      <th>...</th>\n",
              "      <td>...</td>\n",
              "      <td>...</td>\n",
              "      <td>...</td>\n",
              "      <td>...</td>\n",
              "      <td>...</td>\n",
              "      <td>...</td>\n",
              "      <td>...</td>\n",
              "      <td>...</td>\n",
              "      <td>...</td>\n",
              "      <td>...</td>\n",
              "      <td>...</td>\n",
              "      <td>...</td>\n",
              "      <td>...</td>\n",
              "    </tr>\n",
              "    <tr>\n",
              "      <th>6813</th>\n",
              "      <td>19225</td>\n",
              "      <td>NaN</td>\n",
              "      <td>MED</td>\n",
              "      <td>Y</td>\n",
              "      <td>B</td>\n",
              "      <td>M</td>\n",
              "      <td>43.0</td>\n",
              "      <td>N</td>\n",
              "      <td>N</td>\n",
              "      <td>125.25</td>\n",
              "      <td>N</td>\n",
              "      <td>2017-02-03 21:36:59</td>\n",
              "      <td>2017</td>\n",
              "    </tr>\n",
              "    <tr>\n",
              "      <th>6814</th>\n",
              "      <td>20093747</td>\n",
              "      <td>NaN</td>\n",
              "      <td>MAX</td>\n",
              "      <td>Y</td>\n",
              "      <td>B</td>\n",
              "      <td>M</td>\n",
              "      <td>46.0</td>\n",
              "      <td>N</td>\n",
              "      <td>N</td>\n",
              "      <td>110-125.25</td>\n",
              "      <td>N</td>\n",
              "      <td>2018-11-14 01:38:36</td>\n",
              "      <td>2018</td>\n",
              "    </tr>\n",
              "    <tr>\n",
              "      <th>6815</th>\n",
              "      <td>93606</td>\n",
              "      <td>NaN</td>\n",
              "      <td>MAX</td>\n",
              "      <td>Y</td>\n",
              "      <td>B</td>\n",
              "      <td>M</td>\n",
              "      <td>35.0</td>\n",
              "      <td>N</td>\n",
              "      <td>Y</td>\n",
              "      <td>110-125.25</td>\n",
              "      <td>Y</td>\n",
              "      <td>2018-01-22 23:57:24</td>\n",
              "      <td>2018</td>\n",
              "    </tr>\n",
              "    <tr>\n",
              "      <th>6816</th>\n",
              "      <td>14481</td>\n",
              "      <td>NaN</td>\n",
              "      <td>MED</td>\n",
              "      <td>N</td>\n",
              "      <td>W</td>\n",
              "      <td>M</td>\n",
              "      <td>40.0</td>\n",
              "      <td>N</td>\n",
              "      <td>N</td>\n",
              "      <td>130.96</td>\n",
              "      <td>N</td>\n",
              "      <td>2017-08-23 17:21:51</td>\n",
              "      <td>2017</td>\n",
              "    </tr>\n",
              "    <tr>\n",
              "      <th>6817</th>\n",
              "      <td>167979</td>\n",
              "      <td>NaN</td>\n",
              "      <td>MIN</td>\n",
              "      <td>N</td>\n",
              "      <td>B</td>\n",
              "      <td>M</td>\n",
              "      <td>43.0</td>\n",
              "      <td>N</td>\n",
              "      <td>N</td>\n",
              "      <td>220.41</td>\n",
              "      <td>N</td>\n",
              "      <td>2018-09-19 16:21:38</td>\n",
              "      <td>2018</td>\n",
              "    </tr>\n",
              "  </tbody>\n",
              "</table>\n",
              "<p>6818 rows × 13 columns</p>\n",
              "</div>"
            ],
            "text/plain": [
              "      INMATEID  DISCHARGED_DT  ...            admitted  year\n",
              "0       152258            NaN  ... 2018-08-24 01:46:33  2018\n",
              "1        89404            NaN  ... 2019-10-16 11:06:07  2019\n",
              "2         7049            NaN  ... 2019-11-10 02:32:10  2019\n",
              "3     20207729            NaN  ... 2019-10-23 03:26:50  2019\n",
              "4     20203998            NaN  ... 2019-05-02 01:35:22  2019\n",
              "...        ...            ...  ...                 ...   ...\n",
              "6813     19225            NaN  ... 2017-02-03 21:36:59  2017\n",
              "6814  20093747            NaN  ... 2018-11-14 01:38:36  2018\n",
              "6815     93606            NaN  ... 2018-01-22 23:57:24  2018\n",
              "6816     14481            NaN  ... 2017-08-23 17:21:51  2017\n",
              "6817    167979            NaN  ... 2018-09-19 16:21:38  2018\n",
              "\n",
              "[6818 rows x 13 columns]"
            ]
          },
          "metadata": {
            "tags": []
          },
          "execution_count": 89
        }
      ]
    },
    {
      "cell_type": "code",
      "metadata": {
        "id": "UJs8stMYa31t",
        "colab_type": "code",
        "colab": {}
      },
      "source": [
        "del df['SRG_FLG']"
      ],
      "execution_count": 90,
      "outputs": []
    },
    {
      "cell_type": "code",
      "metadata": {
        "id": "w-FzSbkpa7yv",
        "colab_type": "code",
        "colab": {
          "base_uri": "https://localhost:8080/",
          "height": 419
        },
        "outputId": "07c639b0-4ab9-414d-b3c5-64784e647027"
      },
      "source": [
        "df"
      ],
      "execution_count": 91,
      "outputs": [
        {
          "output_type": "execute_result",
          "data": {
            "text/html": [
              "<div>\n",
              "<style scoped>\n",
              "    .dataframe tbody tr th:only-of-type {\n",
              "        vertical-align: middle;\n",
              "    }\n",
              "\n",
              "    .dataframe tbody tr th {\n",
              "        vertical-align: top;\n",
              "    }\n",
              "\n",
              "    .dataframe thead th {\n",
              "        text-align: right;\n",
              "    }\n",
              "</style>\n",
              "<table border=\"1\" class=\"dataframe\">\n",
              "  <thead>\n",
              "    <tr style=\"text-align: right;\">\n",
              "      <th></th>\n",
              "      <th>INMATEID</th>\n",
              "      <th>DISCHARGED_DT</th>\n",
              "      <th>CUSTODY_LEVEL</th>\n",
              "      <th>BRADH</th>\n",
              "      <th>RACE</th>\n",
              "      <th>GENDER</th>\n",
              "      <th>AGE</th>\n",
              "      <th>SEALED</th>\n",
              "      <th>TOP_CHARGE</th>\n",
              "      <th>INFRACTION</th>\n",
              "      <th>admitted</th>\n",
              "      <th>year</th>\n",
              "    </tr>\n",
              "  </thead>\n",
              "  <tbody>\n",
              "    <tr>\n",
              "      <th>0</th>\n",
              "      <td>152258</td>\n",
              "      <td>NaN</td>\n",
              "      <td>MIN</td>\n",
              "      <td>Y</td>\n",
              "      <td>W</td>\n",
              "      <td>M</td>\n",
              "      <td>54.0</td>\n",
              "      <td>N</td>\n",
              "      <td>140.25</td>\n",
              "      <td>N</td>\n",
              "      <td>2018-08-24 01:46:33</td>\n",
              "      <td>2018</td>\n",
              "    </tr>\n",
              "    <tr>\n",
              "      <th>1</th>\n",
              "      <td>89404</td>\n",
              "      <td>NaN</td>\n",
              "      <td>MAX</td>\n",
              "      <td>N</td>\n",
              "      <td>B</td>\n",
              "      <td>M</td>\n",
              "      <td>29.0</td>\n",
              "      <td>N</td>\n",
              "      <td>120.14</td>\n",
              "      <td>N</td>\n",
              "      <td>2019-10-16 11:06:07</td>\n",
              "      <td>2019</td>\n",
              "    </tr>\n",
              "    <tr>\n",
              "      <th>2</th>\n",
              "      <td>7049</td>\n",
              "      <td>NaN</td>\n",
              "      <td>MAX</td>\n",
              "      <td>N</td>\n",
              "      <td>B</td>\n",
              "      <td>M</td>\n",
              "      <td>38.0</td>\n",
              "      <td>N</td>\n",
              "      <td>140.15</td>\n",
              "      <td>N</td>\n",
              "      <td>2019-11-10 02:32:10</td>\n",
              "      <td>2019</td>\n",
              "    </tr>\n",
              "    <tr>\n",
              "      <th>3</th>\n",
              "      <td>20207729</td>\n",
              "      <td>NaN</td>\n",
              "      <td>MIN</td>\n",
              "      <td>N</td>\n",
              "      <td>W</td>\n",
              "      <td>M</td>\n",
              "      <td>29.0</td>\n",
              "      <td>N</td>\n",
              "      <td>156.10</td>\n",
              "      <td>N</td>\n",
              "      <td>2019-10-23 03:26:50</td>\n",
              "      <td>2019</td>\n",
              "    </tr>\n",
              "    <tr>\n",
              "      <th>4</th>\n",
              "      <td>20203998</td>\n",
              "      <td>NaN</td>\n",
              "      <td>MAX</td>\n",
              "      <td>Y</td>\n",
              "      <td>B</td>\n",
              "      <td>M</td>\n",
              "      <td>27.0</td>\n",
              "      <td>N</td>\n",
              "      <td>125.25</td>\n",
              "      <td>Y</td>\n",
              "      <td>2019-05-02 01:35:22</td>\n",
              "      <td>2019</td>\n",
              "    </tr>\n",
              "    <tr>\n",
              "      <th>...</th>\n",
              "      <td>...</td>\n",
              "      <td>...</td>\n",
              "      <td>...</td>\n",
              "      <td>...</td>\n",
              "      <td>...</td>\n",
              "      <td>...</td>\n",
              "      <td>...</td>\n",
              "      <td>...</td>\n",
              "      <td>...</td>\n",
              "      <td>...</td>\n",
              "      <td>...</td>\n",
              "      <td>...</td>\n",
              "    </tr>\n",
              "    <tr>\n",
              "      <th>6813</th>\n",
              "      <td>19225</td>\n",
              "      <td>NaN</td>\n",
              "      <td>MED</td>\n",
              "      <td>Y</td>\n",
              "      <td>B</td>\n",
              "      <td>M</td>\n",
              "      <td>43.0</td>\n",
              "      <td>N</td>\n",
              "      <td>125.25</td>\n",
              "      <td>N</td>\n",
              "      <td>2017-02-03 21:36:59</td>\n",
              "      <td>2017</td>\n",
              "    </tr>\n",
              "    <tr>\n",
              "      <th>6814</th>\n",
              "      <td>20093747</td>\n",
              "      <td>NaN</td>\n",
              "      <td>MAX</td>\n",
              "      <td>Y</td>\n",
              "      <td>B</td>\n",
              "      <td>M</td>\n",
              "      <td>46.0</td>\n",
              "      <td>N</td>\n",
              "      <td>110-125.25</td>\n",
              "      <td>N</td>\n",
              "      <td>2018-11-14 01:38:36</td>\n",
              "      <td>2018</td>\n",
              "    </tr>\n",
              "    <tr>\n",
              "      <th>6815</th>\n",
              "      <td>93606</td>\n",
              "      <td>NaN</td>\n",
              "      <td>MAX</td>\n",
              "      <td>Y</td>\n",
              "      <td>B</td>\n",
              "      <td>M</td>\n",
              "      <td>35.0</td>\n",
              "      <td>N</td>\n",
              "      <td>110-125.25</td>\n",
              "      <td>Y</td>\n",
              "      <td>2018-01-22 23:57:24</td>\n",
              "      <td>2018</td>\n",
              "    </tr>\n",
              "    <tr>\n",
              "      <th>6816</th>\n",
              "      <td>14481</td>\n",
              "      <td>NaN</td>\n",
              "      <td>MED</td>\n",
              "      <td>N</td>\n",
              "      <td>W</td>\n",
              "      <td>M</td>\n",
              "      <td>40.0</td>\n",
              "      <td>N</td>\n",
              "      <td>130.96</td>\n",
              "      <td>N</td>\n",
              "      <td>2017-08-23 17:21:51</td>\n",
              "      <td>2017</td>\n",
              "    </tr>\n",
              "    <tr>\n",
              "      <th>6817</th>\n",
              "      <td>167979</td>\n",
              "      <td>NaN</td>\n",
              "      <td>MIN</td>\n",
              "      <td>N</td>\n",
              "      <td>B</td>\n",
              "      <td>M</td>\n",
              "      <td>43.0</td>\n",
              "      <td>N</td>\n",
              "      <td>220.41</td>\n",
              "      <td>N</td>\n",
              "      <td>2018-09-19 16:21:38</td>\n",
              "      <td>2018</td>\n",
              "    </tr>\n",
              "  </tbody>\n",
              "</table>\n",
              "<p>6818 rows × 12 columns</p>\n",
              "</div>"
            ],
            "text/plain": [
              "      INMATEID  DISCHARGED_DT  ...            admitted  year\n",
              "0       152258            NaN  ... 2018-08-24 01:46:33  2018\n",
              "1        89404            NaN  ... 2019-10-16 11:06:07  2019\n",
              "2         7049            NaN  ... 2019-11-10 02:32:10  2019\n",
              "3     20207729            NaN  ... 2019-10-23 03:26:50  2019\n",
              "4     20203998            NaN  ... 2019-05-02 01:35:22  2019\n",
              "...        ...            ...  ...                 ...   ...\n",
              "6813     19225            NaN  ... 2017-02-03 21:36:59  2017\n",
              "6814  20093747            NaN  ... 2018-11-14 01:38:36  2018\n",
              "6815     93606            NaN  ... 2018-01-22 23:57:24  2018\n",
              "6816     14481            NaN  ... 2017-08-23 17:21:51  2017\n",
              "6817    167979            NaN  ... 2018-09-19 16:21:38  2018\n",
              "\n",
              "[6818 rows x 12 columns]"
            ]
          },
          "metadata": {
            "tags": []
          },
          "execution_count": 91
        }
      ]
    },
    {
      "cell_type": "code",
      "metadata": {
        "id": "kgK43Pu-ay9W",
        "colab_type": "code",
        "colab": {}
      },
      "source": [
        "del df['INFRACTION']"
      ],
      "execution_count": 92,
      "outputs": []
    },
    {
      "cell_type": "code",
      "metadata": {
        "id": "h12of0Pda1k_",
        "colab_type": "code",
        "colab": {
          "base_uri": "https://localhost:8080/",
          "height": 419
        },
        "outputId": "884ad001-2349-4fcf-8801-a243c3739fb8"
      },
      "source": [
        "df"
      ],
      "execution_count": 93,
      "outputs": [
        {
          "output_type": "execute_result",
          "data": {
            "text/html": [
              "<div>\n",
              "<style scoped>\n",
              "    .dataframe tbody tr th:only-of-type {\n",
              "        vertical-align: middle;\n",
              "    }\n",
              "\n",
              "    .dataframe tbody tr th {\n",
              "        vertical-align: top;\n",
              "    }\n",
              "\n",
              "    .dataframe thead th {\n",
              "        text-align: right;\n",
              "    }\n",
              "</style>\n",
              "<table border=\"1\" class=\"dataframe\">\n",
              "  <thead>\n",
              "    <tr style=\"text-align: right;\">\n",
              "      <th></th>\n",
              "      <th>INMATEID</th>\n",
              "      <th>DISCHARGED_DT</th>\n",
              "      <th>CUSTODY_LEVEL</th>\n",
              "      <th>BRADH</th>\n",
              "      <th>RACE</th>\n",
              "      <th>GENDER</th>\n",
              "      <th>AGE</th>\n",
              "      <th>SEALED</th>\n",
              "      <th>TOP_CHARGE</th>\n",
              "      <th>admitted</th>\n",
              "      <th>year</th>\n",
              "    </tr>\n",
              "  </thead>\n",
              "  <tbody>\n",
              "    <tr>\n",
              "      <th>0</th>\n",
              "      <td>152258</td>\n",
              "      <td>NaN</td>\n",
              "      <td>MIN</td>\n",
              "      <td>Y</td>\n",
              "      <td>W</td>\n",
              "      <td>M</td>\n",
              "      <td>54.0</td>\n",
              "      <td>N</td>\n",
              "      <td>140.25</td>\n",
              "      <td>2018-08-24 01:46:33</td>\n",
              "      <td>2018</td>\n",
              "    </tr>\n",
              "    <tr>\n",
              "      <th>1</th>\n",
              "      <td>89404</td>\n",
              "      <td>NaN</td>\n",
              "      <td>MAX</td>\n",
              "      <td>N</td>\n",
              "      <td>B</td>\n",
              "      <td>M</td>\n",
              "      <td>29.0</td>\n",
              "      <td>N</td>\n",
              "      <td>120.14</td>\n",
              "      <td>2019-10-16 11:06:07</td>\n",
              "      <td>2019</td>\n",
              "    </tr>\n",
              "    <tr>\n",
              "      <th>2</th>\n",
              "      <td>7049</td>\n",
              "      <td>NaN</td>\n",
              "      <td>MAX</td>\n",
              "      <td>N</td>\n",
              "      <td>B</td>\n",
              "      <td>M</td>\n",
              "      <td>38.0</td>\n",
              "      <td>N</td>\n",
              "      <td>140.15</td>\n",
              "      <td>2019-11-10 02:32:10</td>\n",
              "      <td>2019</td>\n",
              "    </tr>\n",
              "    <tr>\n",
              "      <th>3</th>\n",
              "      <td>20207729</td>\n",
              "      <td>NaN</td>\n",
              "      <td>MIN</td>\n",
              "      <td>N</td>\n",
              "      <td>W</td>\n",
              "      <td>M</td>\n",
              "      <td>29.0</td>\n",
              "      <td>N</td>\n",
              "      <td>156.10</td>\n",
              "      <td>2019-10-23 03:26:50</td>\n",
              "      <td>2019</td>\n",
              "    </tr>\n",
              "    <tr>\n",
              "      <th>4</th>\n",
              "      <td>20203998</td>\n",
              "      <td>NaN</td>\n",
              "      <td>MAX</td>\n",
              "      <td>Y</td>\n",
              "      <td>B</td>\n",
              "      <td>M</td>\n",
              "      <td>27.0</td>\n",
              "      <td>N</td>\n",
              "      <td>125.25</td>\n",
              "      <td>2019-05-02 01:35:22</td>\n",
              "      <td>2019</td>\n",
              "    </tr>\n",
              "    <tr>\n",
              "      <th>...</th>\n",
              "      <td>...</td>\n",
              "      <td>...</td>\n",
              "      <td>...</td>\n",
              "      <td>...</td>\n",
              "      <td>...</td>\n",
              "      <td>...</td>\n",
              "      <td>...</td>\n",
              "      <td>...</td>\n",
              "      <td>...</td>\n",
              "      <td>...</td>\n",
              "      <td>...</td>\n",
              "    </tr>\n",
              "    <tr>\n",
              "      <th>6813</th>\n",
              "      <td>19225</td>\n",
              "      <td>NaN</td>\n",
              "      <td>MED</td>\n",
              "      <td>Y</td>\n",
              "      <td>B</td>\n",
              "      <td>M</td>\n",
              "      <td>43.0</td>\n",
              "      <td>N</td>\n",
              "      <td>125.25</td>\n",
              "      <td>2017-02-03 21:36:59</td>\n",
              "      <td>2017</td>\n",
              "    </tr>\n",
              "    <tr>\n",
              "      <th>6814</th>\n",
              "      <td>20093747</td>\n",
              "      <td>NaN</td>\n",
              "      <td>MAX</td>\n",
              "      <td>Y</td>\n",
              "      <td>B</td>\n",
              "      <td>M</td>\n",
              "      <td>46.0</td>\n",
              "      <td>N</td>\n",
              "      <td>110-125.25</td>\n",
              "      <td>2018-11-14 01:38:36</td>\n",
              "      <td>2018</td>\n",
              "    </tr>\n",
              "    <tr>\n",
              "      <th>6815</th>\n",
              "      <td>93606</td>\n",
              "      <td>NaN</td>\n",
              "      <td>MAX</td>\n",
              "      <td>Y</td>\n",
              "      <td>B</td>\n",
              "      <td>M</td>\n",
              "      <td>35.0</td>\n",
              "      <td>N</td>\n",
              "      <td>110-125.25</td>\n",
              "      <td>2018-01-22 23:57:24</td>\n",
              "      <td>2018</td>\n",
              "    </tr>\n",
              "    <tr>\n",
              "      <th>6816</th>\n",
              "      <td>14481</td>\n",
              "      <td>NaN</td>\n",
              "      <td>MED</td>\n",
              "      <td>N</td>\n",
              "      <td>W</td>\n",
              "      <td>M</td>\n",
              "      <td>40.0</td>\n",
              "      <td>N</td>\n",
              "      <td>130.96</td>\n",
              "      <td>2017-08-23 17:21:51</td>\n",
              "      <td>2017</td>\n",
              "    </tr>\n",
              "    <tr>\n",
              "      <th>6817</th>\n",
              "      <td>167979</td>\n",
              "      <td>NaN</td>\n",
              "      <td>MIN</td>\n",
              "      <td>N</td>\n",
              "      <td>B</td>\n",
              "      <td>M</td>\n",
              "      <td>43.0</td>\n",
              "      <td>N</td>\n",
              "      <td>220.41</td>\n",
              "      <td>2018-09-19 16:21:38</td>\n",
              "      <td>2018</td>\n",
              "    </tr>\n",
              "  </tbody>\n",
              "</table>\n",
              "<p>6818 rows × 11 columns</p>\n",
              "</div>"
            ],
            "text/plain": [
              "      INMATEID  DISCHARGED_DT  ...            admitted  year\n",
              "0       152258            NaN  ... 2018-08-24 01:46:33  2018\n",
              "1        89404            NaN  ... 2019-10-16 11:06:07  2019\n",
              "2         7049            NaN  ... 2019-11-10 02:32:10  2019\n",
              "3     20207729            NaN  ... 2019-10-23 03:26:50  2019\n",
              "4     20203998            NaN  ... 2019-05-02 01:35:22  2019\n",
              "...        ...            ...  ...                 ...   ...\n",
              "6813     19225            NaN  ... 2017-02-03 21:36:59  2017\n",
              "6814  20093747            NaN  ... 2018-11-14 01:38:36  2018\n",
              "6815     93606            NaN  ... 2018-01-22 23:57:24  2018\n",
              "6816     14481            NaN  ... 2017-08-23 17:21:51  2017\n",
              "6817    167979            NaN  ... 2018-09-19 16:21:38  2018\n",
              "\n",
              "[6818 rows x 11 columns]"
            ]
          },
          "metadata": {
            "tags": []
          },
          "execution_count": 93
        }
      ]
    },
    {
      "cell_type": "code",
      "metadata": {
        "id": "RWK5X7_Pesaj",
        "colab_type": "code",
        "colab": {}
      },
      "source": [
        "del df['DISCHARGED_DT']"
      ],
      "execution_count": 94,
      "outputs": []
    },
    {
      "cell_type": "code",
      "metadata": {
        "id": "nJts5Xu7fYDd",
        "colab_type": "code",
        "colab": {
          "base_uri": "https://localhost:8080/",
          "height": 419
        },
        "outputId": "9d8f681e-3210-4d15-aa32-0fcb5bdbd58c"
      },
      "source": [
        "df"
      ],
      "execution_count": 95,
      "outputs": [
        {
          "output_type": "execute_result",
          "data": {
            "text/html": [
              "<div>\n",
              "<style scoped>\n",
              "    .dataframe tbody tr th:only-of-type {\n",
              "        vertical-align: middle;\n",
              "    }\n",
              "\n",
              "    .dataframe tbody tr th {\n",
              "        vertical-align: top;\n",
              "    }\n",
              "\n",
              "    .dataframe thead th {\n",
              "        text-align: right;\n",
              "    }\n",
              "</style>\n",
              "<table border=\"1\" class=\"dataframe\">\n",
              "  <thead>\n",
              "    <tr style=\"text-align: right;\">\n",
              "      <th></th>\n",
              "      <th>INMATEID</th>\n",
              "      <th>CUSTODY_LEVEL</th>\n",
              "      <th>BRADH</th>\n",
              "      <th>RACE</th>\n",
              "      <th>GENDER</th>\n",
              "      <th>AGE</th>\n",
              "      <th>SEALED</th>\n",
              "      <th>TOP_CHARGE</th>\n",
              "      <th>admitted</th>\n",
              "      <th>year</th>\n",
              "    </tr>\n",
              "  </thead>\n",
              "  <tbody>\n",
              "    <tr>\n",
              "      <th>0</th>\n",
              "      <td>152258</td>\n",
              "      <td>MIN</td>\n",
              "      <td>Y</td>\n",
              "      <td>W</td>\n",
              "      <td>M</td>\n",
              "      <td>54.0</td>\n",
              "      <td>N</td>\n",
              "      <td>140.25</td>\n",
              "      <td>2018-08-24 01:46:33</td>\n",
              "      <td>2018</td>\n",
              "    </tr>\n",
              "    <tr>\n",
              "      <th>1</th>\n",
              "      <td>89404</td>\n",
              "      <td>MAX</td>\n",
              "      <td>N</td>\n",
              "      <td>B</td>\n",
              "      <td>M</td>\n",
              "      <td>29.0</td>\n",
              "      <td>N</td>\n",
              "      <td>120.14</td>\n",
              "      <td>2019-10-16 11:06:07</td>\n",
              "      <td>2019</td>\n",
              "    </tr>\n",
              "    <tr>\n",
              "      <th>2</th>\n",
              "      <td>7049</td>\n",
              "      <td>MAX</td>\n",
              "      <td>N</td>\n",
              "      <td>B</td>\n",
              "      <td>M</td>\n",
              "      <td>38.0</td>\n",
              "      <td>N</td>\n",
              "      <td>140.15</td>\n",
              "      <td>2019-11-10 02:32:10</td>\n",
              "      <td>2019</td>\n",
              "    </tr>\n",
              "    <tr>\n",
              "      <th>3</th>\n",
              "      <td>20207729</td>\n",
              "      <td>MIN</td>\n",
              "      <td>N</td>\n",
              "      <td>W</td>\n",
              "      <td>M</td>\n",
              "      <td>29.0</td>\n",
              "      <td>N</td>\n",
              "      <td>156.10</td>\n",
              "      <td>2019-10-23 03:26:50</td>\n",
              "      <td>2019</td>\n",
              "    </tr>\n",
              "    <tr>\n",
              "      <th>4</th>\n",
              "      <td>20203998</td>\n",
              "      <td>MAX</td>\n",
              "      <td>Y</td>\n",
              "      <td>B</td>\n",
              "      <td>M</td>\n",
              "      <td>27.0</td>\n",
              "      <td>N</td>\n",
              "      <td>125.25</td>\n",
              "      <td>2019-05-02 01:35:22</td>\n",
              "      <td>2019</td>\n",
              "    </tr>\n",
              "    <tr>\n",
              "      <th>...</th>\n",
              "      <td>...</td>\n",
              "      <td>...</td>\n",
              "      <td>...</td>\n",
              "      <td>...</td>\n",
              "      <td>...</td>\n",
              "      <td>...</td>\n",
              "      <td>...</td>\n",
              "      <td>...</td>\n",
              "      <td>...</td>\n",
              "      <td>...</td>\n",
              "    </tr>\n",
              "    <tr>\n",
              "      <th>6813</th>\n",
              "      <td>19225</td>\n",
              "      <td>MED</td>\n",
              "      <td>Y</td>\n",
              "      <td>B</td>\n",
              "      <td>M</td>\n",
              "      <td>43.0</td>\n",
              "      <td>N</td>\n",
              "      <td>125.25</td>\n",
              "      <td>2017-02-03 21:36:59</td>\n",
              "      <td>2017</td>\n",
              "    </tr>\n",
              "    <tr>\n",
              "      <th>6814</th>\n",
              "      <td>20093747</td>\n",
              "      <td>MAX</td>\n",
              "      <td>Y</td>\n",
              "      <td>B</td>\n",
              "      <td>M</td>\n",
              "      <td>46.0</td>\n",
              "      <td>N</td>\n",
              "      <td>110-125.25</td>\n",
              "      <td>2018-11-14 01:38:36</td>\n",
              "      <td>2018</td>\n",
              "    </tr>\n",
              "    <tr>\n",
              "      <th>6815</th>\n",
              "      <td>93606</td>\n",
              "      <td>MAX</td>\n",
              "      <td>Y</td>\n",
              "      <td>B</td>\n",
              "      <td>M</td>\n",
              "      <td>35.0</td>\n",
              "      <td>N</td>\n",
              "      <td>110-125.25</td>\n",
              "      <td>2018-01-22 23:57:24</td>\n",
              "      <td>2018</td>\n",
              "    </tr>\n",
              "    <tr>\n",
              "      <th>6816</th>\n",
              "      <td>14481</td>\n",
              "      <td>MED</td>\n",
              "      <td>N</td>\n",
              "      <td>W</td>\n",
              "      <td>M</td>\n",
              "      <td>40.0</td>\n",
              "      <td>N</td>\n",
              "      <td>130.96</td>\n",
              "      <td>2017-08-23 17:21:51</td>\n",
              "      <td>2017</td>\n",
              "    </tr>\n",
              "    <tr>\n",
              "      <th>6817</th>\n",
              "      <td>167979</td>\n",
              "      <td>MIN</td>\n",
              "      <td>N</td>\n",
              "      <td>B</td>\n",
              "      <td>M</td>\n",
              "      <td>43.0</td>\n",
              "      <td>N</td>\n",
              "      <td>220.41</td>\n",
              "      <td>2018-09-19 16:21:38</td>\n",
              "      <td>2018</td>\n",
              "    </tr>\n",
              "  </tbody>\n",
              "</table>\n",
              "<p>6818 rows × 10 columns</p>\n",
              "</div>"
            ],
            "text/plain": [
              "      INMATEID CUSTODY_LEVEL BRADH  ...  TOP_CHARGE            admitted  year\n",
              "0       152258           MIN     Y  ...      140.25 2018-08-24 01:46:33  2018\n",
              "1        89404           MAX     N  ...      120.14 2019-10-16 11:06:07  2019\n",
              "2         7049           MAX     N  ...      140.15 2019-11-10 02:32:10  2019\n",
              "3     20207729           MIN     N  ...      156.10 2019-10-23 03:26:50  2019\n",
              "4     20203998           MAX     Y  ...      125.25 2019-05-02 01:35:22  2019\n",
              "...        ...           ...   ...  ...         ...                 ...   ...\n",
              "6813     19225           MED     Y  ...      125.25 2017-02-03 21:36:59  2017\n",
              "6814  20093747           MAX     Y  ...  110-125.25 2018-11-14 01:38:36  2018\n",
              "6815     93606           MAX     Y  ...  110-125.25 2018-01-22 23:57:24  2018\n",
              "6816     14481           MED     N  ...      130.96 2017-08-23 17:21:51  2017\n",
              "6817    167979           MIN     N  ...      220.41 2018-09-19 16:21:38  2018\n",
              "\n",
              "[6818 rows x 10 columns]"
            ]
          },
          "metadata": {
            "tags": []
          },
          "execution_count": 95
        }
      ]
    },
    {
      "cell_type": "code",
      "metadata": {
        "id": "LClw7i3OgyHS",
        "colab_type": "code",
        "colab": {}
      },
      "source": [
        "del df['INMATEID']"
      ],
      "execution_count": 96,
      "outputs": []
    },
    {
      "cell_type": "code",
      "metadata": {
        "id": "qlV_iXbWg3qN",
        "colab_type": "code",
        "colab": {
          "base_uri": "https://localhost:8080/",
          "height": 419
        },
        "outputId": "7118bfea-abb7-40e7-dd81-83653034784e"
      },
      "source": [
        "df"
      ],
      "execution_count": 97,
      "outputs": [
        {
          "output_type": "execute_result",
          "data": {
            "text/html": [
              "<div>\n",
              "<style scoped>\n",
              "    .dataframe tbody tr th:only-of-type {\n",
              "        vertical-align: middle;\n",
              "    }\n",
              "\n",
              "    .dataframe tbody tr th {\n",
              "        vertical-align: top;\n",
              "    }\n",
              "\n",
              "    .dataframe thead th {\n",
              "        text-align: right;\n",
              "    }\n",
              "</style>\n",
              "<table border=\"1\" class=\"dataframe\">\n",
              "  <thead>\n",
              "    <tr style=\"text-align: right;\">\n",
              "      <th></th>\n",
              "      <th>CUSTODY_LEVEL</th>\n",
              "      <th>BRADH</th>\n",
              "      <th>RACE</th>\n",
              "      <th>GENDER</th>\n",
              "      <th>AGE</th>\n",
              "      <th>SEALED</th>\n",
              "      <th>TOP_CHARGE</th>\n",
              "      <th>admitted</th>\n",
              "      <th>year</th>\n",
              "    </tr>\n",
              "  </thead>\n",
              "  <tbody>\n",
              "    <tr>\n",
              "      <th>0</th>\n",
              "      <td>MIN</td>\n",
              "      <td>Y</td>\n",
              "      <td>W</td>\n",
              "      <td>M</td>\n",
              "      <td>54.0</td>\n",
              "      <td>N</td>\n",
              "      <td>140.25</td>\n",
              "      <td>2018-08-24 01:46:33</td>\n",
              "      <td>2018</td>\n",
              "    </tr>\n",
              "    <tr>\n",
              "      <th>1</th>\n",
              "      <td>MAX</td>\n",
              "      <td>N</td>\n",
              "      <td>B</td>\n",
              "      <td>M</td>\n",
              "      <td>29.0</td>\n",
              "      <td>N</td>\n",
              "      <td>120.14</td>\n",
              "      <td>2019-10-16 11:06:07</td>\n",
              "      <td>2019</td>\n",
              "    </tr>\n",
              "    <tr>\n",
              "      <th>2</th>\n",
              "      <td>MAX</td>\n",
              "      <td>N</td>\n",
              "      <td>B</td>\n",
              "      <td>M</td>\n",
              "      <td>38.0</td>\n",
              "      <td>N</td>\n",
              "      <td>140.15</td>\n",
              "      <td>2019-11-10 02:32:10</td>\n",
              "      <td>2019</td>\n",
              "    </tr>\n",
              "    <tr>\n",
              "      <th>3</th>\n",
              "      <td>MIN</td>\n",
              "      <td>N</td>\n",
              "      <td>W</td>\n",
              "      <td>M</td>\n",
              "      <td>29.0</td>\n",
              "      <td>N</td>\n",
              "      <td>156.10</td>\n",
              "      <td>2019-10-23 03:26:50</td>\n",
              "      <td>2019</td>\n",
              "    </tr>\n",
              "    <tr>\n",
              "      <th>4</th>\n",
              "      <td>MAX</td>\n",
              "      <td>Y</td>\n",
              "      <td>B</td>\n",
              "      <td>M</td>\n",
              "      <td>27.0</td>\n",
              "      <td>N</td>\n",
              "      <td>125.25</td>\n",
              "      <td>2019-05-02 01:35:22</td>\n",
              "      <td>2019</td>\n",
              "    </tr>\n",
              "    <tr>\n",
              "      <th>...</th>\n",
              "      <td>...</td>\n",
              "      <td>...</td>\n",
              "      <td>...</td>\n",
              "      <td>...</td>\n",
              "      <td>...</td>\n",
              "      <td>...</td>\n",
              "      <td>...</td>\n",
              "      <td>...</td>\n",
              "      <td>...</td>\n",
              "    </tr>\n",
              "    <tr>\n",
              "      <th>6813</th>\n",
              "      <td>MED</td>\n",
              "      <td>Y</td>\n",
              "      <td>B</td>\n",
              "      <td>M</td>\n",
              "      <td>43.0</td>\n",
              "      <td>N</td>\n",
              "      <td>125.25</td>\n",
              "      <td>2017-02-03 21:36:59</td>\n",
              "      <td>2017</td>\n",
              "    </tr>\n",
              "    <tr>\n",
              "      <th>6814</th>\n",
              "      <td>MAX</td>\n",
              "      <td>Y</td>\n",
              "      <td>B</td>\n",
              "      <td>M</td>\n",
              "      <td>46.0</td>\n",
              "      <td>N</td>\n",
              "      <td>110-125.25</td>\n",
              "      <td>2018-11-14 01:38:36</td>\n",
              "      <td>2018</td>\n",
              "    </tr>\n",
              "    <tr>\n",
              "      <th>6815</th>\n",
              "      <td>MAX</td>\n",
              "      <td>Y</td>\n",
              "      <td>B</td>\n",
              "      <td>M</td>\n",
              "      <td>35.0</td>\n",
              "      <td>N</td>\n",
              "      <td>110-125.25</td>\n",
              "      <td>2018-01-22 23:57:24</td>\n",
              "      <td>2018</td>\n",
              "    </tr>\n",
              "    <tr>\n",
              "      <th>6816</th>\n",
              "      <td>MED</td>\n",
              "      <td>N</td>\n",
              "      <td>W</td>\n",
              "      <td>M</td>\n",
              "      <td>40.0</td>\n",
              "      <td>N</td>\n",
              "      <td>130.96</td>\n",
              "      <td>2017-08-23 17:21:51</td>\n",
              "      <td>2017</td>\n",
              "    </tr>\n",
              "    <tr>\n",
              "      <th>6817</th>\n",
              "      <td>MIN</td>\n",
              "      <td>N</td>\n",
              "      <td>B</td>\n",
              "      <td>M</td>\n",
              "      <td>43.0</td>\n",
              "      <td>N</td>\n",
              "      <td>220.41</td>\n",
              "      <td>2018-09-19 16:21:38</td>\n",
              "      <td>2018</td>\n",
              "    </tr>\n",
              "  </tbody>\n",
              "</table>\n",
              "<p>6818 rows × 9 columns</p>\n",
              "</div>"
            ],
            "text/plain": [
              "     CUSTODY_LEVEL BRADH RACE  ...  TOP_CHARGE            admitted  year\n",
              "0              MIN     Y    W  ...      140.25 2018-08-24 01:46:33  2018\n",
              "1              MAX     N    B  ...      120.14 2019-10-16 11:06:07  2019\n",
              "2              MAX     N    B  ...      140.15 2019-11-10 02:32:10  2019\n",
              "3              MIN     N    W  ...      156.10 2019-10-23 03:26:50  2019\n",
              "4              MAX     Y    B  ...      125.25 2019-05-02 01:35:22  2019\n",
              "...            ...   ...  ...  ...         ...                 ...   ...\n",
              "6813           MED     Y    B  ...      125.25 2017-02-03 21:36:59  2017\n",
              "6814           MAX     Y    B  ...  110-125.25 2018-11-14 01:38:36  2018\n",
              "6815           MAX     Y    B  ...  110-125.25 2018-01-22 23:57:24  2018\n",
              "6816           MED     N    W  ...      130.96 2017-08-23 17:21:51  2017\n",
              "6817           MIN     N    B  ...      220.41 2018-09-19 16:21:38  2018\n",
              "\n",
              "[6818 rows x 9 columns]"
            ]
          },
          "metadata": {
            "tags": []
          },
          "execution_count": 97
        }
      ]
    },
    {
      "cell_type": "code",
      "metadata": {
        "id": "XupLjfvcap3a",
        "colab_type": "code",
        "colab": {}
      },
      "source": [
        "del df['SEALED']"
      ],
      "execution_count": 98,
      "outputs": []
    },
    {
      "cell_type": "code",
      "metadata": {
        "id": "RKLRit34atEM",
        "colab_type": "code",
        "colab": {
          "base_uri": "https://localhost:8080/",
          "height": 419
        },
        "outputId": "ac037c22-d2b5-4fe4-9e85-a852e78a8377"
      },
      "source": [
        "df"
      ],
      "execution_count": 99,
      "outputs": [
        {
          "output_type": "execute_result",
          "data": {
            "text/html": [
              "<div>\n",
              "<style scoped>\n",
              "    .dataframe tbody tr th:only-of-type {\n",
              "        vertical-align: middle;\n",
              "    }\n",
              "\n",
              "    .dataframe tbody tr th {\n",
              "        vertical-align: top;\n",
              "    }\n",
              "\n",
              "    .dataframe thead th {\n",
              "        text-align: right;\n",
              "    }\n",
              "</style>\n",
              "<table border=\"1\" class=\"dataframe\">\n",
              "  <thead>\n",
              "    <tr style=\"text-align: right;\">\n",
              "      <th></th>\n",
              "      <th>CUSTODY_LEVEL</th>\n",
              "      <th>BRADH</th>\n",
              "      <th>RACE</th>\n",
              "      <th>GENDER</th>\n",
              "      <th>AGE</th>\n",
              "      <th>TOP_CHARGE</th>\n",
              "      <th>admitted</th>\n",
              "      <th>year</th>\n",
              "    </tr>\n",
              "  </thead>\n",
              "  <tbody>\n",
              "    <tr>\n",
              "      <th>0</th>\n",
              "      <td>MIN</td>\n",
              "      <td>Y</td>\n",
              "      <td>W</td>\n",
              "      <td>M</td>\n",
              "      <td>54.0</td>\n",
              "      <td>140.25</td>\n",
              "      <td>2018-08-24 01:46:33</td>\n",
              "      <td>2018</td>\n",
              "    </tr>\n",
              "    <tr>\n",
              "      <th>1</th>\n",
              "      <td>MAX</td>\n",
              "      <td>N</td>\n",
              "      <td>B</td>\n",
              "      <td>M</td>\n",
              "      <td>29.0</td>\n",
              "      <td>120.14</td>\n",
              "      <td>2019-10-16 11:06:07</td>\n",
              "      <td>2019</td>\n",
              "    </tr>\n",
              "    <tr>\n",
              "      <th>2</th>\n",
              "      <td>MAX</td>\n",
              "      <td>N</td>\n",
              "      <td>B</td>\n",
              "      <td>M</td>\n",
              "      <td>38.0</td>\n",
              "      <td>140.15</td>\n",
              "      <td>2019-11-10 02:32:10</td>\n",
              "      <td>2019</td>\n",
              "    </tr>\n",
              "    <tr>\n",
              "      <th>3</th>\n",
              "      <td>MIN</td>\n",
              "      <td>N</td>\n",
              "      <td>W</td>\n",
              "      <td>M</td>\n",
              "      <td>29.0</td>\n",
              "      <td>156.10</td>\n",
              "      <td>2019-10-23 03:26:50</td>\n",
              "      <td>2019</td>\n",
              "    </tr>\n",
              "    <tr>\n",
              "      <th>4</th>\n",
              "      <td>MAX</td>\n",
              "      <td>Y</td>\n",
              "      <td>B</td>\n",
              "      <td>M</td>\n",
              "      <td>27.0</td>\n",
              "      <td>125.25</td>\n",
              "      <td>2019-05-02 01:35:22</td>\n",
              "      <td>2019</td>\n",
              "    </tr>\n",
              "    <tr>\n",
              "      <th>...</th>\n",
              "      <td>...</td>\n",
              "      <td>...</td>\n",
              "      <td>...</td>\n",
              "      <td>...</td>\n",
              "      <td>...</td>\n",
              "      <td>...</td>\n",
              "      <td>...</td>\n",
              "      <td>...</td>\n",
              "    </tr>\n",
              "    <tr>\n",
              "      <th>6813</th>\n",
              "      <td>MED</td>\n",
              "      <td>Y</td>\n",
              "      <td>B</td>\n",
              "      <td>M</td>\n",
              "      <td>43.0</td>\n",
              "      <td>125.25</td>\n",
              "      <td>2017-02-03 21:36:59</td>\n",
              "      <td>2017</td>\n",
              "    </tr>\n",
              "    <tr>\n",
              "      <th>6814</th>\n",
              "      <td>MAX</td>\n",
              "      <td>Y</td>\n",
              "      <td>B</td>\n",
              "      <td>M</td>\n",
              "      <td>46.0</td>\n",
              "      <td>110-125.25</td>\n",
              "      <td>2018-11-14 01:38:36</td>\n",
              "      <td>2018</td>\n",
              "    </tr>\n",
              "    <tr>\n",
              "      <th>6815</th>\n",
              "      <td>MAX</td>\n",
              "      <td>Y</td>\n",
              "      <td>B</td>\n",
              "      <td>M</td>\n",
              "      <td>35.0</td>\n",
              "      <td>110-125.25</td>\n",
              "      <td>2018-01-22 23:57:24</td>\n",
              "      <td>2018</td>\n",
              "    </tr>\n",
              "    <tr>\n",
              "      <th>6816</th>\n",
              "      <td>MED</td>\n",
              "      <td>N</td>\n",
              "      <td>W</td>\n",
              "      <td>M</td>\n",
              "      <td>40.0</td>\n",
              "      <td>130.96</td>\n",
              "      <td>2017-08-23 17:21:51</td>\n",
              "      <td>2017</td>\n",
              "    </tr>\n",
              "    <tr>\n",
              "      <th>6817</th>\n",
              "      <td>MIN</td>\n",
              "      <td>N</td>\n",
              "      <td>B</td>\n",
              "      <td>M</td>\n",
              "      <td>43.0</td>\n",
              "      <td>220.41</td>\n",
              "      <td>2018-09-19 16:21:38</td>\n",
              "      <td>2018</td>\n",
              "    </tr>\n",
              "  </tbody>\n",
              "</table>\n",
              "<p>6818 rows × 8 columns</p>\n",
              "</div>"
            ],
            "text/plain": [
              "     CUSTODY_LEVEL BRADH RACE  ...  TOP_CHARGE            admitted  year\n",
              "0              MIN     Y    W  ...      140.25 2018-08-24 01:46:33  2018\n",
              "1              MAX     N    B  ...      120.14 2019-10-16 11:06:07  2019\n",
              "2              MAX     N    B  ...      140.15 2019-11-10 02:32:10  2019\n",
              "3              MIN     N    W  ...      156.10 2019-10-23 03:26:50  2019\n",
              "4              MAX     Y    B  ...      125.25 2019-05-02 01:35:22  2019\n",
              "...            ...   ...  ...  ...         ...                 ...   ...\n",
              "6813           MED     Y    B  ...      125.25 2017-02-03 21:36:59  2017\n",
              "6814           MAX     Y    B  ...  110-125.25 2018-11-14 01:38:36  2018\n",
              "6815           MAX     Y    B  ...  110-125.25 2018-01-22 23:57:24  2018\n",
              "6816           MED     N    W  ...      130.96 2017-08-23 17:21:51  2017\n",
              "6817           MIN     N    B  ...      220.41 2018-09-19 16:21:38  2018\n",
              "\n",
              "[6818 rows x 8 columns]"
            ]
          },
          "metadata": {
            "tags": []
          },
          "execution_count": 99
        }
      ]
    },
    {
      "cell_type": "markdown",
      "metadata": {
        "id": "0QLwFqpehiHQ",
        "colab_type": "text"
      },
      "source": [
        "##Finding the races and value counts"
      ]
    },
    {
      "cell_type": "code",
      "metadata": {
        "id": "N-VjxUyHh_ii",
        "colab_type": "code",
        "colab": {
          "base_uri": "https://localhost:8080/",
          "height": 136
        },
        "outputId": "d40f67f8-29d3-4a2d-d644-1dc12b3e05b4"
      },
      "source": [
        "df['RACE'].value_counts()"
      ],
      "execution_count": 100,
      "outputs": [
        {
          "output_type": "execute_result",
          "data": {
            "text/plain": [
              "B    3845\n",
              "O    2082\n",
              "W     729\n",
              "A     106\n",
              "I      14\n",
              "U      13\n",
              "Name: RACE, dtype: int64"
            ]
          },
          "metadata": {
            "tags": []
          },
          "execution_count": 100
        }
      ]
    },
    {
      "cell_type": "code",
      "metadata": {
        "id": "-z7CX0dV6h_s",
        "colab_type": "code",
        "colab": {
          "base_uri": "https://localhost:8080/",
          "height": 68
        },
        "outputId": "c358b7a6-4c8f-4ad5-b0cf-a40bb91b0709"
      },
      "source": [
        "df['GENDER'].value_counts()"
      ],
      "execution_count": 101,
      "outputs": [
        {
          "output_type": "execute_result",
          "data": {
            "text/plain": [
              "M    6420\n",
              "F     369\n",
              "Name: GENDER, dtype: int64"
            ]
          },
          "metadata": {
            "tags": []
          },
          "execution_count": 101
        }
      ]
    },
    {
      "cell_type": "code",
      "metadata": {
        "id": "dscfeesf6ol1",
        "colab_type": "code",
        "colab": {
          "base_uri": "https://localhost:8080/",
          "height": 221
        },
        "outputId": "914284ef-6556-49b6-9212-d76df36c3d61"
      },
      "source": [
        "df['AGE'].value_counts()"
      ],
      "execution_count": 102,
      "outputs": [
        {
          "output_type": "execute_result",
          "data": {
            "text/plain": [
              "29.0    268\n",
              "28.0    258\n",
              "27.0    256\n",
              "30.0    246\n",
              "32.0    238\n",
              "       ... \n",
              "77.0      2\n",
              "82.0      2\n",
              "78.0      1\n",
              "90.0      1\n",
              "75.0      1\n",
              "Name: AGE, Length: 63, dtype: int64"
            ]
          },
          "metadata": {
            "tags": []
          },
          "execution_count": 102
        }
      ]
    },
    {
      "cell_type": "code",
      "metadata": {
        "id": "B_kdplbx6wF_",
        "colab_type": "code",
        "colab": {
          "base_uri": "https://localhost:8080/",
          "height": 187
        },
        "outputId": "82242776-dd36-4eab-8734-6b119aecc44c"
      },
      "source": [
        "df['year'].value_counts()"
      ],
      "execution_count": 103,
      "outputs": [
        {
          "output_type": "execute_result",
          "data": {
            "text/plain": [
              "2019    5584\n",
              "2018     933\n",
              "2017     218\n",
              "2016      62\n",
              "2015      14\n",
              "2014       2\n",
              "2013       2\n",
              "2012       2\n",
              "1991       1\n",
              "Name: year, dtype: int64"
            ]
          },
          "metadata": {
            "tags": []
          },
          "execution_count": 103
        }
      ]
    },
    {
      "cell_type": "markdown",
      "metadata": {
        "id": "ggKHFNOQkICi",
        "colab_type": "text"
      },
      "source": [
        "##checking for any null values"
      ]
    },
    {
      "cell_type": "code",
      "metadata": {
        "id": "gRKrJ0P5kAAV",
        "colab_type": "code",
        "colab": {
          "base_uri": "https://localhost:8080/",
          "height": 170
        },
        "outputId": "3e0a0093-3d5c-4259-bacd-eab928158a54"
      },
      "source": [
        "df.isnull().sum()"
      ],
      "execution_count": 104,
      "outputs": [
        {
          "output_type": "execute_result",
          "data": {
            "text/plain": [
              "CUSTODY_LEVEL     115\n",
              "BRADH               0\n",
              "RACE               29\n",
              "GENDER             29\n",
              "AGE                13\n",
              "TOP_CHARGE       1023\n",
              "admitted            0\n",
              "year                0\n",
              "dtype: int64"
            ]
          },
          "metadata": {
            "tags": []
          },
          "execution_count": 104
        }
      ]
    },
    {
      "cell_type": "code",
      "metadata": {
        "id": "LdRD6Kgyeqzk",
        "colab_type": "code",
        "colab": {}
      },
      "source": [
        "df[\"GENDER\"] = df[\"GENDER\"].fillna(0)"
      ],
      "execution_count": 105,
      "outputs": []
    },
    {
      "cell_type": "code",
      "metadata": {
        "id": "ZWgCnmPR68VQ",
        "colab_type": "code",
        "colab": {
          "base_uri": "https://localhost:8080/",
          "height": 170
        },
        "outputId": "6d1a0124-c5f3-4797-98b7-029ab69c63c4"
      },
      "source": [
        "df.isnull().sum()"
      ],
      "execution_count": 106,
      "outputs": [
        {
          "output_type": "execute_result",
          "data": {
            "text/plain": [
              "CUSTODY_LEVEL     115\n",
              "BRADH               0\n",
              "RACE               29\n",
              "GENDER              0\n",
              "AGE                13\n",
              "TOP_CHARGE       1023\n",
              "admitted            0\n",
              "year                0\n",
              "dtype: int64"
            ]
          },
          "metadata": {
            "tags": []
          },
          "execution_count": 106
        }
      ]
    },
    {
      "cell_type": "code",
      "metadata": {
        "id": "QxtvAMJVevNL",
        "colab_type": "code",
        "colab": {}
      },
      "source": [
        "df[\"RACE\"] = df[\"RACE\"].fillna(0)"
      ],
      "execution_count": 297,
      "outputs": []
    },
    {
      "cell_type": "code",
      "metadata": {
        "id": "8VKOlZZyeNLo",
        "colab_type": "code",
        "colab": {
          "base_uri": "https://localhost:8080/",
          "height": 170
        },
        "outputId": "9b083a89-dab3-412f-9bbd-97c30ec47cb9"
      },
      "source": [
        "df.isnull().sum()"
      ],
      "execution_count": 108,
      "outputs": [
        {
          "output_type": "execute_result",
          "data": {
            "text/plain": [
              "CUSTODY_LEVEL     115\n",
              "BRADH               0\n",
              "RACE                0\n",
              "GENDER              0\n",
              "AGE                13\n",
              "TOP_CHARGE       1023\n",
              "admitted            0\n",
              "year                0\n",
              "dtype: int64"
            ]
          },
          "metadata": {
            "tags": []
          },
          "execution_count": 108
        }
      ]
    },
    {
      "cell_type": "code",
      "metadata": {
        "id": "Ug6nrnsQ7Dhm",
        "colab_type": "code",
        "colab": {}
      },
      "source": [
        "df[\"AGE\"] = df[\"AGE\"].fillna(0)"
      ],
      "execution_count": 109,
      "outputs": []
    },
    {
      "cell_type": "code",
      "metadata": {
        "id": "iSX-iTz37KrS",
        "colab_type": "code",
        "colab": {
          "base_uri": "https://localhost:8080/",
          "height": 170
        },
        "outputId": "3b8ffe85-f92e-4fd5-b594-5205a648e75f"
      },
      "source": [
        "df.isnull().sum()"
      ],
      "execution_count": 110,
      "outputs": [
        {
          "output_type": "execute_result",
          "data": {
            "text/plain": [
              "CUSTODY_LEVEL     115\n",
              "BRADH               0\n",
              "RACE                0\n",
              "GENDER              0\n",
              "AGE                 0\n",
              "TOP_CHARGE       1023\n",
              "admitted            0\n",
              "year                0\n",
              "dtype: int64"
            ]
          },
          "metadata": {
            "tags": []
          },
          "execution_count": 110
        }
      ]
    },
    {
      "cell_type": "code",
      "metadata": {
        "id": "az_8OOB0Bs9a",
        "colab_type": "code",
        "colab": {}
      },
      "source": [
        "df[\"year\"] = df[\"year\"].fillna(0)"
      ],
      "execution_count": 298,
      "outputs": []
    },
    {
      "cell_type": "markdown",
      "metadata": {
        "id": "qgIeb3mpHUze",
        "colab_type": "text"
      },
      "source": [
        "##scatter plotting by age\n",
        "##after scatter plotting age i come to the conclusion that around the age of 29 was the highest amount of incarceration."
      ]
    },
    {
      "cell_type": "code",
      "metadata": {
        "id": "aiuQymjAcNx5",
        "colab_type": "code",
        "colab": {
          "base_uri": "https://localhost:8080/",
          "height": 295
        },
        "outputId": "a71448e3-c026-403e-ddcd-ced524fe25dc"
      },
      "source": [
        "import matplotlib.pyplot as plt\n",
        "\n",
        "age_sort = df.groupby('AGE').count().reset_index()\n",
        "age_x = age_sort.iloc[:,0]\n",
        "age_y = age_sort.iloc[:,1]\n",
        "data = [plt.scatter(x=age_x, y=age_y)]\n",
        "\n",
        "plt.title('Incarceration by age')\n",
        "plt.xlabel('AGE')\n",
        "plt.ylabel('values')\n",
        "plt;"
      ],
      "execution_count": 111,
      "outputs": [
        {
          "output_type": "display_data",
          "data": {
            "image/png": "[encoded data removed]",
            "text/plain": [
              "<Figure size 432x288 with 1 Axes>"
            ]
          },
          "metadata": {
            "tags": [],
            "needs_background": "light"
          }
        }
      ]
    },
    {
      "cell_type": "code",
      "metadata": {
        "id": "ONZx1jzkhZZx",
        "colab_type": "code",
        "colab": {
          "base_uri": "https://localhost:8080/",
          "height": 187
        },
        "outputId": "ec1797e8-2960-4569-dd2e-fa901d237922"
      },
      "source": [
        "age_race = df.groupby(['AGE','RACE']).count().reset_index()\n",
        "age_race_pivot = age_race.pivot(columns=\"RACE\", index=\"AGE\").reset_index()\n",
        "print(\"age_race_pivot \\n\", age_race_pivot.head())"
      ],
      "execution_count": 112,
      "outputs": [
        {
          "output_type": "stream",
          "text": [
            "age_race_pivot \n",
            "        AGE CUSTODY_LEVEL                       ... year                          \n",
            "RACE                   0    A     B   I     O  ...    A     B   I     O    U    W\n",
            "0      0.0           2.0  NaN   NaN NaN   NaN  ...  NaN   NaN NaN   NaN  NaN  NaN\n",
            "1     17.0           NaN  NaN  21.0 NaN  10.0  ...  NaN  26.0 NaN  11.0  NaN  1.0\n",
            "2     18.0           NaN  NaN  69.0 NaN  16.0  ...  NaN  70.0 NaN  17.0  NaN  6.0\n",
            "3     19.0           NaN  2.0  84.0 NaN  40.0  ...  2.0  85.0 NaN  41.0  NaN  2.0\n",
            "4     20.0           NaN  2.0  94.0 NaN  50.0  ...  2.0  96.0 NaN  51.0  1.0  5.0\n",
            "\n",
            "[5 rows x 43 columns]\n"
          ],
          "name": "stdout"
        }
      ]
    },
    {
      "cell_type": "code",
      "metadata": {
        "id": "8EFApNDytsjt",
        "colab_type": "code",
        "colab": {
          "base_uri": "https://localhost:8080/",
          "height": 204
        },
        "outputId": "096a495f-27fe-45ea-ff03-81437bf30d3e"
      },
      "source": [
        "df['GENDER'] = df['GENDER'].replace(['F','M'],[0,1])\n",
        "df.head()"
      ],
      "execution_count": 113,
      "outputs": [
        {
          "output_type": "execute_result",
          "data": {
            "text/html": [
              "<div>\n",
              "<style scoped>\n",
              "    .dataframe tbody tr th:only-of-type {\n",
              "        vertical-align: middle;\n",
              "    }\n",
              "\n",
              "    .dataframe tbody tr th {\n",
              "        vertical-align: top;\n",
              "    }\n",
              "\n",
              "    .dataframe thead th {\n",
              "        text-align: right;\n",
              "    }\n",
              "</style>\n",
              "<table border=\"1\" class=\"dataframe\">\n",
              "  <thead>\n",
              "    <tr style=\"text-align: right;\">\n",
              "      <th></th>\n",
              "      <th>CUSTODY_LEVEL</th>\n",
              "      <th>BRADH</th>\n",
              "      <th>RACE</th>\n",
              "      <th>GENDER</th>\n",
              "      <th>AGE</th>\n",
              "      <th>TOP_CHARGE</th>\n",
              "      <th>admitted</th>\n",
              "      <th>year</th>\n",
              "    </tr>\n",
              "  </thead>\n",
              "  <tbody>\n",
              "    <tr>\n",
              "      <th>0</th>\n",
              "      <td>MIN</td>\n",
              "      <td>Y</td>\n",
              "      <td>W</td>\n",
              "      <td>1</td>\n",
              "      <td>54.0</td>\n",
              "      <td>140.25</td>\n",
              "      <td>2018-08-24 01:46:33</td>\n",
              "      <td>2018</td>\n",
              "    </tr>\n",
              "    <tr>\n",
              "      <th>1</th>\n",
              "      <td>MAX</td>\n",
              "      <td>N</td>\n",
              "      <td>B</td>\n",
              "      <td>1</td>\n",
              "      <td>29.0</td>\n",
              "      <td>120.14</td>\n",
              "      <td>2019-10-16 11:06:07</td>\n",
              "      <td>2019</td>\n",
              "    </tr>\n",
              "    <tr>\n",
              "      <th>2</th>\n",
              "      <td>MAX</td>\n",
              "      <td>N</td>\n",
              "      <td>B</td>\n",
              "      <td>1</td>\n",
              "      <td>38.0</td>\n",
              "      <td>140.15</td>\n",
              "      <td>2019-11-10 02:32:10</td>\n",
              "      <td>2019</td>\n",
              "    </tr>\n",
              "    <tr>\n",
              "      <th>3</th>\n",
              "      <td>MIN</td>\n",
              "      <td>N</td>\n",
              "      <td>W</td>\n",
              "      <td>1</td>\n",
              "      <td>29.0</td>\n",
              "      <td>156.10</td>\n",
              "      <td>2019-10-23 03:26:50</td>\n",
              "      <td>2019</td>\n",
              "    </tr>\n",
              "    <tr>\n",
              "      <th>4</th>\n",
              "      <td>MAX</td>\n",
              "      <td>Y</td>\n",
              "      <td>B</td>\n",
              "      <td>1</td>\n",
              "      <td>27.0</td>\n",
              "      <td>125.25</td>\n",
              "      <td>2019-05-02 01:35:22</td>\n",
              "      <td>2019</td>\n",
              "    </tr>\n",
              "  </tbody>\n",
              "</table>\n",
              "</div>"
            ],
            "text/plain": [
              "  CUSTODY_LEVEL BRADH RACE  GENDER   AGE TOP_CHARGE            admitted  year\n",
              "0           MIN     Y    W       1  54.0     140.25 2018-08-24 01:46:33  2018\n",
              "1           MAX     N    B       1  29.0     120.14 2019-10-16 11:06:07  2019\n",
              "2           MAX     N    B       1  38.0     140.15 2019-11-10 02:32:10  2019\n",
              "3           MIN     N    W       1  29.0     156.10 2019-10-23 03:26:50  2019\n",
              "4           MAX     Y    B       1  27.0     125.25 2019-05-02 01:35:22  2019"
            ]
          },
          "metadata": {
            "tags": []
          },
          "execution_count": 113
        }
      ]
    },
    {
      "cell_type": "code",
      "metadata": {
        "id": "heJVXBWeups0",
        "colab_type": "code",
        "colab": {
          "base_uri": "https://localhost:8080/",
          "height": 204
        },
        "outputId": "5f43c4f1-1e97-4ce2-da48-f003fb6afda3"
      },
      "source": [
        "df.head()"
      ],
      "execution_count": 114,
      "outputs": [
        {
          "output_type": "execute_result",
          "data": {
            "text/html": [
              "<div>\n",
              "<style scoped>\n",
              "    .dataframe tbody tr th:only-of-type {\n",
              "        vertical-align: middle;\n",
              "    }\n",
              "\n",
              "    .dataframe tbody tr th {\n",
              "        vertical-align: top;\n",
              "    }\n",
              "\n",
              "    .dataframe thead th {\n",
              "        text-align: right;\n",
              "    }\n",
              "</style>\n",
              "<table border=\"1\" class=\"dataframe\">\n",
              "  <thead>\n",
              "    <tr style=\"text-align: right;\">\n",
              "      <th></th>\n",
              "      <th>CUSTODY_LEVEL</th>\n",
              "      <th>BRADH</th>\n",
              "      <th>RACE</th>\n",
              "      <th>GENDER</th>\n",
              "      <th>AGE</th>\n",
              "      <th>TOP_CHARGE</th>\n",
              "      <th>admitted</th>\n",
              "      <th>year</th>\n",
              "    </tr>\n",
              "  </thead>\n",
              "  <tbody>\n",
              "    <tr>\n",
              "      <th>0</th>\n",
              "      <td>MIN</td>\n",
              "      <td>Y</td>\n",
              "      <td>W</td>\n",
              "      <td>1</td>\n",
              "      <td>54.0</td>\n",
              "      <td>140.25</td>\n",
              "      <td>2018-08-24 01:46:33</td>\n",
              "      <td>2018</td>\n",
              "    </tr>\n",
              "    <tr>\n",
              "      <th>1</th>\n",
              "      <td>MAX</td>\n",
              "      <td>N</td>\n",
              "      <td>B</td>\n",
              "      <td>1</td>\n",
              "      <td>29.0</td>\n",
              "      <td>120.14</td>\n",
              "      <td>2019-10-16 11:06:07</td>\n",
              "      <td>2019</td>\n",
              "    </tr>\n",
              "    <tr>\n",
              "      <th>2</th>\n",
              "      <td>MAX</td>\n",
              "      <td>N</td>\n",
              "      <td>B</td>\n",
              "      <td>1</td>\n",
              "      <td>38.0</td>\n",
              "      <td>140.15</td>\n",
              "      <td>2019-11-10 02:32:10</td>\n",
              "      <td>2019</td>\n",
              "    </tr>\n",
              "    <tr>\n",
              "      <th>3</th>\n",
              "      <td>MIN</td>\n",
              "      <td>N</td>\n",
              "      <td>W</td>\n",
              "      <td>1</td>\n",
              "      <td>29.0</td>\n",
              "      <td>156.10</td>\n",
              "      <td>2019-10-23 03:26:50</td>\n",
              "      <td>2019</td>\n",
              "    </tr>\n",
              "    <tr>\n",
              "      <th>4</th>\n",
              "      <td>MAX</td>\n",
              "      <td>Y</td>\n",
              "      <td>B</td>\n",
              "      <td>1</td>\n",
              "      <td>27.0</td>\n",
              "      <td>125.25</td>\n",
              "      <td>2019-05-02 01:35:22</td>\n",
              "      <td>2019</td>\n",
              "    </tr>\n",
              "  </tbody>\n",
              "</table>\n",
              "</div>"
            ],
            "text/plain": [
              "  CUSTODY_LEVEL BRADH RACE  GENDER   AGE TOP_CHARGE            admitted  year\n",
              "0           MIN     Y    W       1  54.0     140.25 2018-08-24 01:46:33  2018\n",
              "1           MAX     N    B       1  29.0     120.14 2019-10-16 11:06:07  2019\n",
              "2           MAX     N    B       1  38.0     140.15 2019-11-10 02:32:10  2019\n",
              "3           MIN     N    W       1  29.0     156.10 2019-10-23 03:26:50  2019\n",
              "4           MAX     Y    B       1  27.0     125.25 2019-05-02 01:35:22  2019"
            ]
          },
          "metadata": {
            "tags": []
          },
          "execution_count": 114
        }
      ]
    },
    {
      "cell_type": "code",
      "metadata": {
        "id": "UECe_razuNPe",
        "colab_type": "code",
        "colab": {
          "base_uri": "https://localhost:8080/",
          "height": 272
        },
        "outputId": "59a28a80-bbe0-4b9a-8856-a3d9d232de81"
      },
      "source": [
        "df.info()"
      ],
      "execution_count": 115,
      "outputs": [
        {
          "output_type": "stream",
          "text": [
            "<class 'pandas.core.frame.DataFrame'>\n",
            "RangeIndex: 6818 entries, 0 to 6817\n",
            "Data columns (total 8 columns):\n",
            " #   Column         Non-Null Count  Dtype         \n",
            "---  ------         --------------  -----         \n",
            " 0   CUSTODY_LEVEL  6703 non-null   object        \n",
            " 1   BRADH          6818 non-null   object        \n",
            " 2   RACE           6818 non-null   object        \n",
            " 3   GENDER         6818 non-null   int64         \n",
            " 4   AGE            6818 non-null   float64       \n",
            " 5   TOP_CHARGE     5795 non-null   object        \n",
            " 6   admitted       6818 non-null   datetime64[ns]\n",
            " 7   year           6818 non-null   int64         \n",
            "dtypes: datetime64[ns](1), float64(1), int64(2), object(4)\n",
            "memory usage: 426.2+ KB\n"
          ],
          "name": "stdout"
        }
      ]
    },
    {
      "cell_type": "code",
      "metadata": {
        "id": "4SBiJ4qquwxd",
        "colab_type": "code",
        "colab": {
          "base_uri": "https://localhost:8080/",
          "height": 419
        },
        "outputId": "e2008bc3-c452-41ef-a2a4-8e8b258cc834"
      },
      "source": [
        "df['GENDER'] = df['GENDER'].astype(int)\n",
        "df"
      ],
      "execution_count": 116,
      "outputs": [
        {
          "output_type": "execute_result",
          "data": {
            "text/html": [
              "<div>\n",
              "<style scoped>\n",
              "    .dataframe tbody tr th:only-of-type {\n",
              "        vertical-align: middle;\n",
              "    }\n",
              "\n",
              "    .dataframe tbody tr th {\n",
              "        vertical-align: top;\n",
              "    }\n",
              "\n",
              "    .dataframe thead th {\n",
              "        text-align: right;\n",
              "    }\n",
              "</style>\n",
              "<table border=\"1\" class=\"dataframe\">\n",
              "  <thead>\n",
              "    <tr style=\"text-align: right;\">\n",
              "      <th></th>\n",
              "      <th>CUSTODY_LEVEL</th>\n",
              "      <th>BRADH</th>\n",
              "      <th>RACE</th>\n",
              "      <th>GENDER</th>\n",
              "      <th>AGE</th>\n",
              "      <th>TOP_CHARGE</th>\n",
              "      <th>admitted</th>\n",
              "      <th>year</th>\n",
              "    </tr>\n",
              "  </thead>\n",
              "  <tbody>\n",
              "    <tr>\n",
              "      <th>0</th>\n",
              "      <td>MIN</td>\n",
              "      <td>Y</td>\n",
              "      <td>W</td>\n",
              "      <td>1</td>\n",
              "      <td>54.0</td>\n",
              "      <td>140.25</td>\n",
              "      <td>2018-08-24 01:46:33</td>\n",
              "      <td>2018</td>\n",
              "    </tr>\n",
              "    <tr>\n",
              "      <th>1</th>\n",
              "      <td>MAX</td>\n",
              "      <td>N</td>\n",
              "      <td>B</td>\n",
              "      <td>1</td>\n",
              "      <td>29.0</td>\n",
              "      <td>120.14</td>\n",
              "      <td>2019-10-16 11:06:07</td>\n",
              "      <td>2019</td>\n",
              "    </tr>\n",
              "    <tr>\n",
              "      <th>2</th>\n",
              "      <td>MAX</td>\n",
              "      <td>N</td>\n",
              "      <td>B</td>\n",
              "      <td>1</td>\n",
              "      <td>38.0</td>\n",
              "      <td>140.15</td>\n",
              "      <td>2019-11-10 02:32:10</td>\n",
              "      <td>2019</td>\n",
              "    </tr>\n",
              "    <tr>\n",
              "      <th>3</th>\n",
              "      <td>MIN</td>\n",
              "      <td>N</td>\n",
              "      <td>W</td>\n",
              "      <td>1</td>\n",
              "      <td>29.0</td>\n",
              "      <td>156.10</td>\n",
              "      <td>2019-10-23 03:26:50</td>\n",
              "      <td>2019</td>\n",
              "    </tr>\n",
              "    <tr>\n",
              "      <th>4</th>\n",
              "      <td>MAX</td>\n",
              "      <td>Y</td>\n",
              "      <td>B</td>\n",
              "      <td>1</td>\n",
              "      <td>27.0</td>\n",
              "      <td>125.25</td>\n",
              "      <td>2019-05-02 01:35:22</td>\n",
              "      <td>2019</td>\n",
              "    </tr>\n",
              "    <tr>\n",
              "      <th>...</th>\n",
              "      <td>...</td>\n",
              "      <td>...</td>\n",
              "      <td>...</td>\n",
              "      <td>...</td>\n",
              "      <td>...</td>\n",
              "      <td>...</td>\n",
              "      <td>...</td>\n",
              "      <td>...</td>\n",
              "    </tr>\n",
              "    <tr>\n",
              "      <th>6813</th>\n",
              "      <td>MED</td>\n",
              "      <td>Y</td>\n",
              "      <td>B</td>\n",
              "      <td>1</td>\n",
              "      <td>43.0</td>\n",
              "      <td>125.25</td>\n",
              "      <td>2017-02-03 21:36:59</td>\n",
              "      <td>2017</td>\n",
              "    </tr>\n",
              "    <tr>\n",
              "      <th>6814</th>\n",
              "      <td>MAX</td>\n",
              "      <td>Y</td>\n",
              "      <td>B</td>\n",
              "      <td>1</td>\n",
              "      <td>46.0</td>\n",
              "      <td>110-125.25</td>\n",
              "      <td>2018-11-14 01:38:36</td>\n",
              "      <td>2018</td>\n",
              "    </tr>\n",
              "    <tr>\n",
              "      <th>6815</th>\n",
              "      <td>MAX</td>\n",
              "      <td>Y</td>\n",
              "      <td>B</td>\n",
              "      <td>1</td>\n",
              "      <td>35.0</td>\n",
              "      <td>110-125.25</td>\n",
              "      <td>2018-01-22 23:57:24</td>\n",
              "      <td>2018</td>\n",
              "    </tr>\n",
              "    <tr>\n",
              "      <th>6816</th>\n",
              "      <td>MED</td>\n",
              "      <td>N</td>\n",
              "      <td>W</td>\n",
              "      <td>1</td>\n",
              "      <td>40.0</td>\n",
              "      <td>130.96</td>\n",
              "      <td>2017-08-23 17:21:51</td>\n",
              "      <td>2017</td>\n",
              "    </tr>\n",
              "    <tr>\n",
              "      <th>6817</th>\n",
              "      <td>MIN</td>\n",
              "      <td>N</td>\n",
              "      <td>B</td>\n",
              "      <td>1</td>\n",
              "      <td>43.0</td>\n",
              "      <td>220.41</td>\n",
              "      <td>2018-09-19 16:21:38</td>\n",
              "      <td>2018</td>\n",
              "    </tr>\n",
              "  </tbody>\n",
              "</table>\n",
              "<p>6818 rows × 8 columns</p>\n",
              "</div>"
            ],
            "text/plain": [
              "     CUSTODY_LEVEL BRADH RACE  ...  TOP_CHARGE            admitted  year\n",
              "0              MIN     Y    W  ...      140.25 2018-08-24 01:46:33  2018\n",
              "1              MAX     N    B  ...      120.14 2019-10-16 11:06:07  2019\n",
              "2              MAX     N    B  ...      140.15 2019-11-10 02:32:10  2019\n",
              "3              MIN     N    W  ...      156.10 2019-10-23 03:26:50  2019\n",
              "4              MAX     Y    B  ...      125.25 2019-05-02 01:35:22  2019\n",
              "...            ...   ...  ...  ...         ...                 ...   ...\n",
              "6813           MED     Y    B  ...      125.25 2017-02-03 21:36:59  2017\n",
              "6814           MAX     Y    B  ...  110-125.25 2018-11-14 01:38:36  2018\n",
              "6815           MAX     Y    B  ...  110-125.25 2018-01-22 23:57:24  2018\n",
              "6816           MED     N    W  ...      130.96 2017-08-23 17:21:51  2017\n",
              "6817           MIN     N    B  ...      220.41 2018-09-19 16:21:38  2018\n",
              "\n",
              "[6818 rows x 8 columns]"
            ]
          },
          "metadata": {
            "tags": []
          },
          "execution_count": 116
        }
      ]
    },
    {
      "cell_type": "markdown",
      "metadata": {
        "id": "2u_JxeduTYq3",
        "colab_type": "text"
      },
      "source": [
        "## made a bar chart to see if the yearly arrest rate has been higher over the years which came out true "
      ]
    },
    {
      "cell_type": "code",
      "metadata": {
        "id": "1YKLQHqkfRmC",
        "colab_type": "code",
        "colab": {}
      },
      "source": [
        "df['RACE'] = df['RACE'].replace(['B','O','W','A','I','U'],[0,1,2,3,4,5])"
      ],
      "execution_count": 291,
      "outputs": []
    },
    {
      "cell_type": "code",
      "metadata": {
        "id": "JwyB-ARyg0zb",
        "colab_type": "code",
        "colab": {
          "base_uri": "https://localhost:8080/",
          "height": 779
        },
        "outputId": "00390695-1500-4621-e25d-26b9858e1301"
      },
      "source": [
        "df"
      ],
      "execution_count": 292,
      "outputs": [
        {
          "output_type": "execute_result",
          "data": {
            "text/html": [
              "<div>\n",
              "<style scoped>\n",
              "    .dataframe tbody tr th:only-of-type {\n",
              "        vertical-align: middle;\n",
              "    }\n",
              "\n",
              "    .dataframe tbody tr th {\n",
              "        vertical-align: top;\n",
              "    }\n",
              "\n",
              "    .dataframe thead th {\n",
              "        text-align: right;\n",
              "    }\n",
              "</style>\n",
              "<table border=\"1\" class=\"dataframe\">\n",
              "  <thead>\n",
              "    <tr style=\"text-align: right;\">\n",
              "      <th></th>\n",
              "      <th>INMATEID</th>\n",
              "      <th>ADMITTED_DT</th>\n",
              "      <th>DISCHARGED_DT</th>\n",
              "      <th>CUSTODY_LEVEL</th>\n",
              "      <th>BRADH</th>\n",
              "      <th>RACE</th>\n",
              "      <th>GENDER</th>\n",
              "      <th>AGE</th>\n",
              "      <th>INMATE_STATUS_CODE</th>\n",
              "      <th>SEALED</th>\n",
              "      <th>SRG_FLG</th>\n",
              "      <th>TOP_CHARGE</th>\n",
              "      <th>INFRACTION</th>\n",
              "      <th>admitted</th>\n",
              "      <th>year</th>\n",
              "    </tr>\n",
              "  </thead>\n",
              "  <tbody>\n",
              "    <tr>\n",
              "      <th>0</th>\n",
              "      <td>152258</td>\n",
              "      <td>2018-08-24T01:46:33.000</td>\n",
              "      <td>NaN</td>\n",
              "      <td>MIN</td>\n",
              "      <td>Y</td>\n",
              "      <td>2.0</td>\n",
              "      <td>M</td>\n",
              "      <td>54.0</td>\n",
              "      <td>DE</td>\n",
              "      <td>N</td>\n",
              "      <td>N</td>\n",
              "      <td>140.25</td>\n",
              "      <td>N</td>\n",
              "      <td>2018-08-24 01:46:33</td>\n",
              "      <td>2018</td>\n",
              "    </tr>\n",
              "    <tr>\n",
              "      <th>1</th>\n",
              "      <td>89404</td>\n",
              "      <td>2019-10-16T11:06:07.000</td>\n",
              "      <td>NaN</td>\n",
              "      <td>MAX</td>\n",
              "      <td>N</td>\n",
              "      <td>0.0</td>\n",
              "      <td>M</td>\n",
              "      <td>29.0</td>\n",
              "      <td>DEP</td>\n",
              "      <td>N</td>\n",
              "      <td>Y</td>\n",
              "      <td>120.14</td>\n",
              "      <td>N</td>\n",
              "      <td>2019-10-16 11:06:07</td>\n",
              "      <td>2019</td>\n",
              "    </tr>\n",
              "    <tr>\n",
              "      <th>2</th>\n",
              "      <td>7049</td>\n",
              "      <td>2019-11-10T02:32:10.000</td>\n",
              "      <td>NaN</td>\n",
              "      <td>MAX</td>\n",
              "      <td>N</td>\n",
              "      <td>0.0</td>\n",
              "      <td>M</td>\n",
              "      <td>38.0</td>\n",
              "      <td>DEP</td>\n",
              "      <td>N</td>\n",
              "      <td>N</td>\n",
              "      <td>140.15</td>\n",
              "      <td>N</td>\n",
              "      <td>2019-11-10 02:32:10</td>\n",
              "      <td>2019</td>\n",
              "    </tr>\n",
              "    <tr>\n",
              "      <th>3</th>\n",
              "      <td>20207729</td>\n",
              "      <td>2019-10-23T03:26:50.000</td>\n",
              "      <td>NaN</td>\n",
              "      <td>MIN</td>\n",
              "      <td>N</td>\n",
              "      <td>2.0</td>\n",
              "      <td>M</td>\n",
              "      <td>29.0</td>\n",
              "      <td>CS</td>\n",
              "      <td>N</td>\n",
              "      <td>N</td>\n",
              "      <td>156.10</td>\n",
              "      <td>N</td>\n",
              "      <td>2019-10-23 03:26:50</td>\n",
              "      <td>2019</td>\n",
              "    </tr>\n",
              "    <tr>\n",
              "      <th>4</th>\n",
              "      <td>20203998</td>\n",
              "      <td>2019-05-02T01:35:22.000</td>\n",
              "      <td>NaN</td>\n",
              "      <td>MAX</td>\n",
              "      <td>Y</td>\n",
              "      <td>0.0</td>\n",
              "      <td>M</td>\n",
              "      <td>27.0</td>\n",
              "      <td>DE</td>\n",
              "      <td>N</td>\n",
              "      <td>N</td>\n",
              "      <td>125.25</td>\n",
              "      <td>Y</td>\n",
              "      <td>2019-05-02 01:35:22</td>\n",
              "      <td>2019</td>\n",
              "    </tr>\n",
              "    <tr>\n",
              "      <th>...</th>\n",
              "      <td>...</td>\n",
              "      <td>...</td>\n",
              "      <td>...</td>\n",
              "      <td>...</td>\n",
              "      <td>...</td>\n",
              "      <td>...</td>\n",
              "      <td>...</td>\n",
              "      <td>...</td>\n",
              "      <td>...</td>\n",
              "      <td>...</td>\n",
              "      <td>...</td>\n",
              "      <td>...</td>\n",
              "      <td>...</td>\n",
              "      <td>...</td>\n",
              "      <td>...</td>\n",
              "    </tr>\n",
              "    <tr>\n",
              "      <th>6813</th>\n",
              "      <td>19225</td>\n",
              "      <td>2017-02-03T21:36:59.000</td>\n",
              "      <td>NaN</td>\n",
              "      <td>MED</td>\n",
              "      <td>Y</td>\n",
              "      <td>0.0</td>\n",
              "      <td>M</td>\n",
              "      <td>43.0</td>\n",
              "      <td>DE</td>\n",
              "      <td>N</td>\n",
              "      <td>N</td>\n",
              "      <td>125.25</td>\n",
              "      <td>N</td>\n",
              "      <td>2017-02-03 21:36:59</td>\n",
              "      <td>2017</td>\n",
              "    </tr>\n",
              "    <tr>\n",
              "      <th>6814</th>\n",
              "      <td>20093747</td>\n",
              "      <td>2018-11-14T01:38:36.000</td>\n",
              "      <td>NaN</td>\n",
              "      <td>MAX</td>\n",
              "      <td>Y</td>\n",
              "      <td>0.0</td>\n",
              "      <td>M</td>\n",
              "      <td>46.0</td>\n",
              "      <td>DE</td>\n",
              "      <td>N</td>\n",
              "      <td>N</td>\n",
              "      <td>110-125.25</td>\n",
              "      <td>N</td>\n",
              "      <td>2018-11-14 01:38:36</td>\n",
              "      <td>2018</td>\n",
              "    </tr>\n",
              "    <tr>\n",
              "      <th>6815</th>\n",
              "      <td>93606</td>\n",
              "      <td>2018-01-22T23:57:24.000</td>\n",
              "      <td>NaN</td>\n",
              "      <td>MAX</td>\n",
              "      <td>Y</td>\n",
              "      <td>0.0</td>\n",
              "      <td>M</td>\n",
              "      <td>35.0</td>\n",
              "      <td>DE</td>\n",
              "      <td>N</td>\n",
              "      <td>Y</td>\n",
              "      <td>110-125.25</td>\n",
              "      <td>Y</td>\n",
              "      <td>2018-01-22 23:57:24</td>\n",
              "      <td>2018</td>\n",
              "    </tr>\n",
              "    <tr>\n",
              "      <th>6816</th>\n",
              "      <td>14481</td>\n",
              "      <td>2017-08-23T17:21:51.000</td>\n",
              "      <td>NaN</td>\n",
              "      <td>MED</td>\n",
              "      <td>N</td>\n",
              "      <td>2.0</td>\n",
              "      <td>M</td>\n",
              "      <td>40.0</td>\n",
              "      <td>DE</td>\n",
              "      <td>N</td>\n",
              "      <td>N</td>\n",
              "      <td>130.96</td>\n",
              "      <td>N</td>\n",
              "      <td>2017-08-23 17:21:51</td>\n",
              "      <td>2017</td>\n",
              "    </tr>\n",
              "    <tr>\n",
              "      <th>6817</th>\n",
              "      <td>167979</td>\n",
              "      <td>2018-09-19T16:21:38.000</td>\n",
              "      <td>NaN</td>\n",
              "      <td>MIN</td>\n",
              "      <td>N</td>\n",
              "      <td>0.0</td>\n",
              "      <td>M</td>\n",
              "      <td>43.0</td>\n",
              "      <td>DE</td>\n",
              "      <td>N</td>\n",
              "      <td>N</td>\n",
              "      <td>220.41</td>\n",
              "      <td>N</td>\n",
              "      <td>2018-09-19 16:21:38</td>\n",
              "      <td>2018</td>\n",
              "    </tr>\n",
              "  </tbody>\n",
              "</table>\n",
              "<p>6818 rows × 15 columns</p>\n",
              "</div>"
            ],
            "text/plain": [
              "      INMATEID              ADMITTED_DT  ...            admitted  year\n",
              "0       152258  2018-08-24T01:46:33.000  ... 2018-08-24 01:46:33  2018\n",
              "1        89404  2019-10-16T11:06:07.000  ... 2019-10-16 11:06:07  2019\n",
              "2         7049  2019-11-10T02:32:10.000  ... 2019-11-10 02:32:10  2019\n",
              "3     20207729  2019-10-23T03:26:50.000  ... 2019-10-23 03:26:50  2019\n",
              "4     20203998  2019-05-02T01:35:22.000  ... 2019-05-02 01:35:22  2019\n",
              "...        ...                      ...  ...                 ...   ...\n",
              "6813     19225  2017-02-03T21:36:59.000  ... 2017-02-03 21:36:59  2017\n",
              "6814  20093747  2018-11-14T01:38:36.000  ... 2018-11-14 01:38:36  2018\n",
              "6815     93606  2018-01-22T23:57:24.000  ... 2018-01-22 23:57:24  2018\n",
              "6816     14481  2017-08-23T17:21:51.000  ... 2017-08-23 17:21:51  2017\n",
              "6817    167979  2018-09-19T16:21:38.000  ... 2018-09-19 16:21:38  2018\n",
              "\n",
              "[6818 rows x 15 columns]"
            ]
          },
          "metadata": {
            "tags": []
          },
          "execution_count": 292
        }
      ]
    },
    {
      "cell_type": "markdown",
      "metadata": {
        "id": "qHaNTFXCjjqk",
        "colab_type": "text"
      },
      "source": [
        "##conclusion that blacks where the most incarcerated"
      ]
    },
    {
      "cell_type": "code",
      "metadata": {
        "id": "xgDDx1tTguSv",
        "colab_type": "code",
        "colab": {
          "base_uri": "https://localhost:8080/",
          "height": 295
        },
        "outputId": "351cddbb-4b44-4f38-87f4-f834144984b5"
      },
      "source": [
        "RACE_sort = df.groupby('RACE').count().reset_index()\n",
        "RACE_x = RACE_sort.iloc[:,0]\n",
        "RACE_y = RACE_sort.iloc[:,1]\n",
        "data = [plt.scatter(x=RACE_x, y=RACE_y)]\n",
        "\n",
        "plt.xticks(np.arange(6), [\"BLACK\",\"OTHER\",\"WHITE\",\"ASIAN\",\"ITALIAN\",\"UNKNOWN\"])\n",
        "plt.title('Incarceration by Race')\n",
        "plt.xlabel('RACE')\n",
        "plt.ylabel('values')\n",
        "plt;"
      ],
      "execution_count": 119,
      "outputs": [
        {
          "output_type": "display_data",
          "data": {
            "image/png": "[encoded data removed]",
            "text/plain": [
              "<Figure size 432x288 with 1 Axes>"
            ]
          },
          "metadata": {
            "tags": [],
            "needs_background": "light"
          }
        }
      ]
    },
    {
      "cell_type": "code",
      "metadata": {
        "id": "igJ8TW2LeVLa",
        "colab_type": "code",
        "colab": {
          "base_uri": "https://localhost:8080/",
          "height": 295
        },
        "outputId": "7a807517-b5f6-4157-a387-552c2d3ed381"
      },
      "source": [
        "x1 = [2019,2018,2017,2016,2015]\n",
        "y1 = [3845,2082,729,106,14]\n",
        "fig, ax = plt.subplots()\n",
        "plt.plot(x1, y1, label = \"Inmate Rates\", color='red')\n",
        "plt.title('inmates incarcerated over the years')\n",
        "ax.set_facecolor('skyblue')\n",
        "ax.set_xlabel('incarceration rates')\n",
        "ax.set_ylabel('Years')\n",
        "plt.legend()\n",
        "\n",
        "plt.show()"
      ],
      "execution_count": 120,
      "outputs": [
        {
          "output_type": "display_data",
          "data": {
            "image/png": "[encoded data removed]",
            "text/plain": [
              "<Figure size 432x288 with 1 Axes>"
            ]
          },
          "metadata": {
            "tags": [],
            "needs_background": "light"
          }
        }
      ]
    },
    {
      "cell_type": "code",
      "metadata": {
        "id": "pd3UVyiuzNw1",
        "colab_type": "code",
        "colab": {}
      },
      "source": [
        ""
      ],
      "execution_count": null,
      "outputs": []
    },
    {
      "cell_type": "markdown",
      "metadata": {
        "id": "Y_iGLtZmxd1c",
        "colab_type": "text"
      },
      "source": [
        "\n",
        "B    3845-\n",
        "O    2082-\n",
        "W     729-\n",
        "A     106-\n",
        "I      14-\n",
        "\n"
      ]
    },
    {
      "cell_type": "code",
      "metadata": {
        "id": "tuRJRg5NsGFa",
        "colab_type": "code",
        "colab": {
          "base_uri": "https://localhost:8080/",
          "height": 281
        },
        "outputId": "852e954d-f6fe-48d9-8c4f-470308738279"
      },
      "source": [
        "N = 5\n",
        "yearly = (14,62,218,933,5584)\n",
        "racesi = (14,14,14,14,14)\n",
        "racesa = (106,106,106,106,106)\n",
        "racesw = (729,729,729,729,729)\n",
        "raceso = (2082,2082,2082,2082,2082)\n",
        "racesb = (3845,3845,3845,3845,3845)\n",
        "ind = np.arange(N)    # the x locations for the groups\n",
        "width = 0.5      # the width of the bars: can also be len(x) sequence\n",
        "\n",
        "p1 = plt.bar(ind, yearly, width)\n",
        "p2 = plt.bar(ind, racesi, width,\n",
        "             bottom=yearly)\n",
        "p3 = plt.bar(ind, racesa, width,\n",
        "             bottom=racesi)\n",
        "p4 = plt.bar(ind, racesw, width,\n",
        "             bottom=racesa)\n",
        "p5 = plt.bar(ind, raceso, width,\n",
        "             bottom=racesw)\n",
        "p6 = plt.bar(ind, racesb, width,\n",
        "             bottom=raceso)\n",
        "\n",
        "plt.ylabel('amount of incarceration yearly')\n",
        "plt.xticks(ind, ('2015','2016','2017','2018','2019'))\n",
        "plt.yticks(np.arange(0, 4000, 8000))\n",
        "plt.title('Scores by group and gender')\n",
        "\n",
        "\n",
        "plt.show()"
      ],
      "execution_count": 220,
      "outputs": [
        {
          "output_type": "display_data",
          "data": {
            "image/png": "[encoded data removed]",
            "text/plain": [
              "<Figure size 432x288 with 1 Axes>"
            ]
          },
          "metadata": {
            "tags": [],
            "needs_background": "light"
          }
        }
      ]
    },
    {
      "cell_type": "code",
      "metadata": {
        "id": "2bYKqSI5rTvN",
        "colab_type": "code",
        "colab": {
          "base_uri": "https://localhost:8080/",
          "height": 419
        },
        "outputId": "6bcce0e2-c56d-4987-cc63-00b242a7f977"
      },
      "source": [
        "df['total'] = (df['year'] / df['RACE'])\n",
        "df"
      ],
      "execution_count": 197,
      "outputs": [
        {
          "output_type": "execute_result",
          "data": {
            "text/html": [
              "<div>\n",
              "<style scoped>\n",
              "    .dataframe tbody tr th:only-of-type {\n",
              "        vertical-align: middle;\n",
              "    }\n",
              "\n",
              "    .dataframe tbody tr th {\n",
              "        vertical-align: top;\n",
              "    }\n",
              "\n",
              "    .dataframe thead th {\n",
              "        text-align: right;\n",
              "    }\n",
              "</style>\n",
              "<table border=\"1\" class=\"dataframe\">\n",
              "  <thead>\n",
              "    <tr style=\"text-align: right;\">\n",
              "      <th></th>\n",
              "      <th>CUSTODY_LEVEL</th>\n",
              "      <th>BRADH</th>\n",
              "      <th>RACE</th>\n",
              "      <th>GENDER</th>\n",
              "      <th>AGE</th>\n",
              "      <th>TOP_CHARGE</th>\n",
              "      <th>admitted</th>\n",
              "      <th>year</th>\n",
              "      <th>total</th>\n",
              "    </tr>\n",
              "  </thead>\n",
              "  <tbody>\n",
              "    <tr>\n",
              "      <th>0</th>\n",
              "      <td>MIN</td>\n",
              "      <td>Y</td>\n",
              "      <td>2</td>\n",
              "      <td>1</td>\n",
              "      <td>54.0</td>\n",
              "      <td>140.25</td>\n",
              "      <td>2018-08-24 01:46:33</td>\n",
              "      <td>2018</td>\n",
              "      <td>1009.0</td>\n",
              "    </tr>\n",
              "    <tr>\n",
              "      <th>1</th>\n",
              "      <td>MAX</td>\n",
              "      <td>N</td>\n",
              "      <td>0</td>\n",
              "      <td>1</td>\n",
              "      <td>29.0</td>\n",
              "      <td>120.14</td>\n",
              "      <td>2019-10-16 11:06:07</td>\n",
              "      <td>2019</td>\n",
              "      <td>inf</td>\n",
              "    </tr>\n",
              "    <tr>\n",
              "      <th>2</th>\n",
              "      <td>MAX</td>\n",
              "      <td>N</td>\n",
              "      <td>0</td>\n",
              "      <td>1</td>\n",
              "      <td>38.0</td>\n",
              "      <td>140.15</td>\n",
              "      <td>2019-11-10 02:32:10</td>\n",
              "      <td>2019</td>\n",
              "      <td>inf</td>\n",
              "    </tr>\n",
              "    <tr>\n",
              "      <th>3</th>\n",
              "      <td>MIN</td>\n",
              "      <td>N</td>\n",
              "      <td>2</td>\n",
              "      <td>1</td>\n",
              "      <td>29.0</td>\n",
              "      <td>156.10</td>\n",
              "      <td>2019-10-23 03:26:50</td>\n",
              "      <td>2019</td>\n",
              "      <td>1009.5</td>\n",
              "    </tr>\n",
              "    <tr>\n",
              "      <th>4</th>\n",
              "      <td>MAX</td>\n",
              "      <td>Y</td>\n",
              "      <td>0</td>\n",
              "      <td>1</td>\n",
              "      <td>27.0</td>\n",
              "      <td>125.25</td>\n",
              "      <td>2019-05-02 01:35:22</td>\n",
              "      <td>2019</td>\n",
              "      <td>inf</td>\n",
              "    </tr>\n",
              "    <tr>\n",
              "      <th>...</th>\n",
              "      <td>...</td>\n",
              "      <td>...</td>\n",
              "      <td>...</td>\n",
              "      <td>...</td>\n",
              "      <td>...</td>\n",
              "      <td>...</td>\n",
              "      <td>...</td>\n",
              "      <td>...</td>\n",
              "      <td>...</td>\n",
              "    </tr>\n",
              "    <tr>\n",
              "      <th>6813</th>\n",
              "      <td>MED</td>\n",
              "      <td>Y</td>\n",
              "      <td>0</td>\n",
              "      <td>1</td>\n",
              "      <td>43.0</td>\n",
              "      <td>125.25</td>\n",
              "      <td>2017-02-03 21:36:59</td>\n",
              "      <td>2017</td>\n",
              "      <td>inf</td>\n",
              "    </tr>\n",
              "    <tr>\n",
              "      <th>6814</th>\n",
              "      <td>MAX</td>\n",
              "      <td>Y</td>\n",
              "      <td>0</td>\n",
              "      <td>1</td>\n",
              "      <td>46.0</td>\n",
              "      <td>110-125.25</td>\n",
              "      <td>2018-11-14 01:38:36</td>\n",
              "      <td>2018</td>\n",
              "      <td>inf</td>\n",
              "    </tr>\n",
              "    <tr>\n",
              "      <th>6815</th>\n",
              "      <td>MAX</td>\n",
              "      <td>Y</td>\n",
              "      <td>0</td>\n",
              "      <td>1</td>\n",
              "      <td>35.0</td>\n",
              "      <td>110-125.25</td>\n",
              "      <td>2018-01-22 23:57:24</td>\n",
              "      <td>2018</td>\n",
              "      <td>inf</td>\n",
              "    </tr>\n",
              "    <tr>\n",
              "      <th>6816</th>\n",
              "      <td>MED</td>\n",
              "      <td>N</td>\n",
              "      <td>2</td>\n",
              "      <td>1</td>\n",
              "      <td>40.0</td>\n",
              "      <td>130.96</td>\n",
              "      <td>2017-08-23 17:21:51</td>\n",
              "      <td>2017</td>\n",
              "      <td>1008.5</td>\n",
              "    </tr>\n",
              "    <tr>\n",
              "      <th>6817</th>\n",
              "      <td>MIN</td>\n",
              "      <td>N</td>\n",
              "      <td>0</td>\n",
              "      <td>1</td>\n",
              "      <td>43.0</td>\n",
              "      <td>220.41</td>\n",
              "      <td>2018-09-19 16:21:38</td>\n",
              "      <td>2018</td>\n",
              "      <td>inf</td>\n",
              "    </tr>\n",
              "  </tbody>\n",
              "</table>\n",
              "<p>6818 rows × 9 columns</p>\n",
              "</div>"
            ],
            "text/plain": [
              "     CUSTODY_LEVEL BRADH  RACE  ...            admitted  year   total\n",
              "0              MIN     Y     2  ... 2018-08-24 01:46:33  2018  1009.0\n",
              "1              MAX     N     0  ... 2019-10-16 11:06:07  2019     inf\n",
              "2              MAX     N     0  ... 2019-11-10 02:32:10  2019     inf\n",
              "3              MIN     N     2  ... 2019-10-23 03:26:50  2019  1009.5\n",
              "4              MAX     Y     0  ... 2019-05-02 01:35:22  2019     inf\n",
              "...            ...   ...   ...  ...                 ...   ...     ...\n",
              "6813           MED     Y     0  ... 2017-02-03 21:36:59  2017     inf\n",
              "6814           MAX     Y     0  ... 2018-11-14 01:38:36  2018     inf\n",
              "6815           MAX     Y     0  ... 2018-01-22 23:57:24  2018     inf\n",
              "6816           MED     N     2  ... 2017-08-23 17:21:51  2017  1008.5\n",
              "6817           MIN     N     0  ... 2018-09-19 16:21:38  2018     inf\n",
              "\n",
              "[6818 rows x 9 columns]"
            ]
          },
          "metadata": {
            "tags": []
          },
          "execution_count": 197
        }
      ]
    },
    {
      "cell_type": "code",
      "metadata": {
        "id": "8mRusknm1h4k",
        "colab_type": "code",
        "colab": {
          "base_uri": "https://localhost:8080/",
          "height": 283
        },
        "outputId": "207f6ea2-6d1c-4f9f-9fcd-8c5f13729224"
      },
      "source": [
        "df['total'].info()\n"
      ],
      "execution_count": 199,
      "outputs": [
        {
          "output_type": "error",
          "ename": "AttributeError",
          "evalue": "ignored",
          "traceback": [
            "\u001b[0;31m---------------------------------------------------------------------------\u001b[0m",
            "\u001b[0;31mAttributeError\u001b[0m                            Traceback (most recent call last)",
            "\u001b[0;32m<ipython-input-199-b1c78586ce89>\u001b[0m in \u001b[0;36m<module>\u001b[0;34m()\u001b[0m\n\u001b[0;32m----> 1\u001b[0;31m \u001b[0mdf\u001b[0m\u001b[0;34m[\u001b[0m\u001b[0;34m'total'\u001b[0m\u001b[0;34m]\u001b[0m\u001b[0;34m.\u001b[0m\u001b[0minfo\u001b[0m\u001b[0;34m(\u001b[0m\u001b[0;34m)\u001b[0m\u001b[0;34m\u001b[0m\u001b[0;34m\u001b[0m\u001b[0m\n\u001b[0m",
            "\u001b[0;32m/usr/local/lib/python3.6/dist-packages/pandas/core/generic.py\u001b[0m in \u001b[0;36m__getattr__\u001b[0;34m(self, name)\u001b[0m\n\u001b[1;32m   5272\u001b[0m             \u001b[0;32mif\u001b[0m \u001b[0mself\u001b[0m\u001b[0;34m.\u001b[0m\u001b[0m_info_axis\u001b[0m\u001b[0;34m.\u001b[0m\u001b[0m_can_hold_identifiers_and_holds_name\u001b[0m\u001b[0;34m(\u001b[0m\u001b[0mname\u001b[0m\u001b[0;34m)\u001b[0m\u001b[0;34m:\u001b[0m\u001b[0;34m\u001b[0m\u001b[0;34m\u001b[0m\u001b[0m\n\u001b[1;32m   5273\u001b[0m                 \u001b[0;32mreturn\u001b[0m \u001b[0mself\u001b[0m\u001b[0;34m[\u001b[0m\u001b[0mname\u001b[0m\u001b[0;34m]\u001b[0m\u001b[0;34m\u001b[0m\u001b[0;34m\u001b[0m\u001b[0m\n\u001b[0;32m-> 5274\u001b[0;31m             \u001b[0;32mreturn\u001b[0m \u001b[0mobject\u001b[0m\u001b[0;34m.\u001b[0m\u001b[0m__getattribute__\u001b[0m\u001b[0;34m(\u001b[0m\u001b[0mself\u001b[0m\u001b[0;34m,\u001b[0m \u001b[0mname\u001b[0m\u001b[0;34m)\u001b[0m\u001b[0;34m\u001b[0m\u001b[0;34m\u001b[0m\u001b[0m\n\u001b[0m\u001b[1;32m   5275\u001b[0m \u001b[0;34m\u001b[0m\u001b[0m\n\u001b[1;32m   5276\u001b[0m     \u001b[0;32mdef\u001b[0m \u001b[0m__setattr__\u001b[0m\u001b[0;34m(\u001b[0m\u001b[0mself\u001b[0m\u001b[0;34m,\u001b[0m \u001b[0mname\u001b[0m\u001b[0;34m:\u001b[0m \u001b[0mstr\u001b[0m\u001b[0;34m,\u001b[0m \u001b[0mvalue\u001b[0m\u001b[0;34m)\u001b[0m \u001b[0;34m->\u001b[0m \u001b[0;32mNone\u001b[0m\u001b[0;34m:\u001b[0m\u001b[0;34m\u001b[0m\u001b[0;34m\u001b[0m\u001b[0m\n",
            "\u001b[0;31mAttributeError\u001b[0m: 'Series' object has no attribute 'info'"
          ]
        }
      ]
    },
    {
      "cell_type": "code",
      "metadata": {
        "id": "_FDJIItc1qwt",
        "colab_type": "code",
        "colab": {}
      },
      "source": [
        ""
      ],
      "execution_count": null,
      "outputs": []
    }
  ]
}