{
  "nbformat": 4,
  "nbformat_minor": 0,
  "metadata": {
    "colab": {
      "name": "Build week",
      "provenance": [],
      "authorship_tag": "ABX9TyN3Le3VUzeSwZgKFHTwpWg8",
      "include_colab_link": true
    },
    "kernelspec": {
      "name": "python3",
      "display_name": "Python 3"
    }
  },
  "cells": [
    {
      "cell_type": "markdown",
      "metadata": {
        "id": "view-in-github",
        "colab_type": "text"
      },
      "source": [
        "<a href=\"https://colab.research.google.com/github/chrislopez630/DS-Unit-1-Build-aster.github.io/blob/master/chrislopez/Build_week.ipynb\" target=\"_parent\"><img src=\"https://colab.research.google.com/assets/colab-badge.svg\" alt=\"Open In Colab\"/></a>"
      ]
    },
    {
      "cell_type": "markdown",
      "metadata": {
        "id": "nNKBjjyC72TR",
        "colab_type": "text"
      },
      "source": [
        "##My main look was to see the amount of races incarcerated in the years and see which race incarceration goes higher within the years but my dataset does not let me check the years when I try to look for years \n",
        "\n",
        "Student research question is concise, direct, and practical. Student can communicate their main findings in 1-2 sentences. Student potentially had to alter their course on the projects based on the problem and the data, these learnings are documented and articulated by the project."
      ]
    },
    {
      "cell_type": "markdown",
      "metadata": {
        "id": "5Ar8QVvIfqFI",
        "colab_type": "text"
      },
      "source": [
        "\n",
        "##Loading Dataset onto data frame\n",
        "\n"
      ]
    },
    {
      "cell_type": "code",
      "metadata": {
        "id": "Zp9eCe7PcRVK",
        "colab_type": "code",
        "colab": {}
      },
      "source": [
        "import pandas as pd\n",
        "import numpy as np\n",
        "df = pd.read_csv('https://raw.githubusercontent.com/chrislopez630/DS-Unit-1-Build-aster.github.io/master/daily-inmates-in-custody.csv')"
      ],
      "execution_count": 1,
      "outputs": []
    },
    {
      "cell_type": "code",
      "metadata": {
        "id": "qbnmeP8uFMZZ",
        "colab_type": "code",
        "colab": {
          "base_uri": "https://localhost:8080/",
          "height": 34
        },
        "outputId": "31e77558-caf0-4a3b-fe40-54443ac786d2"
      },
      "source": [
        "print(df.shape)"
      ],
      "execution_count": 2,
      "outputs": [
        {
          "output_type": "stream",
          "text": [
            "(6818, 13)\n"
          ],
          "name": "stdout"
        }
      ]
    },
    {
      "cell_type": "code",
      "metadata": {
        "id": "80X8-0yVq5eq",
        "colab_type": "code",
        "colab": {
          "base_uri": "https://localhost:8080/",
          "height": 204
        },
        "outputId": "5fda6259-e4f0-4323-a7de-0623961c96e0"
      },
      "source": [
        "df.head()"
      ],
      "execution_count": 3,
      "outputs": [
        {
          "output_type": "execute_result",
          "data": {
            "text/html": [
              "<div>\n",
              "<style scoped>\n",
              "    .dataframe tbody tr th:only-of-type {\n",
              "        vertical-align: middle;\n",
              "    }\n",
              "\n",
              "    .dataframe tbody tr th {\n",
              "        vertical-align: top;\n",
              "    }\n",
              "\n",
              "    .dataframe thead th {\n",
              "        text-align: right;\n",
              "    }\n",
              "</style>\n",
              "<table border=\"1\" class=\"dataframe\">\n",
              "  <thead>\n",
              "    <tr style=\"text-align: right;\">\n",
              "      <th></th>\n",
              "      <th>INMATEID</th>\n",
              "      <th>ADMITTED_DT</th>\n",
              "      <th>DISCHARGED_DT</th>\n",
              "      <th>CUSTODY_LEVEL</th>\n",
              "      <th>BRADH</th>\n",
              "      <th>RACE</th>\n",
              "      <th>GENDER</th>\n",
              "      <th>AGE</th>\n",
              "      <th>INMATE_STATUS_CODE</th>\n",
              "      <th>SEALED</th>\n",
              "      <th>SRG_FLG</th>\n",
              "      <th>TOP_CHARGE</th>\n",
              "      <th>INFRACTION</th>\n",
              "    </tr>\n",
              "  </thead>\n",
              "  <tbody>\n",
              "    <tr>\n",
              "      <th>0</th>\n",
              "      <td>152258</td>\n",
              "      <td>2018-08-24T01:46:33.000</td>\n",
              "      <td>NaN</td>\n",
              "      <td>MIN</td>\n",
              "      <td>Y</td>\n",
              "      <td>W</td>\n",
              "      <td>M</td>\n",
              "      <td>54.0</td>\n",
              "      <td>DE</td>\n",
              "      <td>N</td>\n",
              "      <td>N</td>\n",
              "      <td>140.25</td>\n",
              "      <td>N</td>\n",
              "    </tr>\n",
              "    <tr>\n",
              "      <th>1</th>\n",
              "      <td>89404</td>\n",
              "      <td>2019-10-16T11:06:07.000</td>\n",
              "      <td>NaN</td>\n",
              "      <td>MAX</td>\n",
              "      <td>N</td>\n",
              "      <td>B</td>\n",
              "      <td>M</td>\n",
              "      <td>29.0</td>\n",
              "      <td>DEP</td>\n",
              "      <td>N</td>\n",
              "      <td>Y</td>\n",
              "      <td>120.14</td>\n",
              "      <td>N</td>\n",
              "    </tr>\n",
              "    <tr>\n",
              "      <th>2</th>\n",
              "      <td>7049</td>\n",
              "      <td>2019-11-10T02:32:10.000</td>\n",
              "      <td>NaN</td>\n",
              "      <td>MAX</td>\n",
              "      <td>N</td>\n",
              "      <td>B</td>\n",
              "      <td>M</td>\n",
              "      <td>38.0</td>\n",
              "      <td>DEP</td>\n",
              "      <td>N</td>\n",
              "      <td>N</td>\n",
              "      <td>140.15</td>\n",
              "      <td>N</td>\n",
              "    </tr>\n",
              "    <tr>\n",
              "      <th>3</th>\n",
              "      <td>20207729</td>\n",
              "      <td>2019-10-23T03:26:50.000</td>\n",
              "      <td>NaN</td>\n",
              "      <td>MIN</td>\n",
              "      <td>N</td>\n",
              "      <td>W</td>\n",
              "      <td>M</td>\n",
              "      <td>29.0</td>\n",
              "      <td>CS</td>\n",
              "      <td>N</td>\n",
              "      <td>N</td>\n",
              "      <td>156.10</td>\n",
              "      <td>N</td>\n",
              "    </tr>\n",
              "    <tr>\n",
              "      <th>4</th>\n",
              "      <td>20203998</td>\n",
              "      <td>2019-05-02T01:35:22.000</td>\n",
              "      <td>NaN</td>\n",
              "      <td>MAX</td>\n",
              "      <td>Y</td>\n",
              "      <td>B</td>\n",
              "      <td>M</td>\n",
              "      <td>27.0</td>\n",
              "      <td>DE</td>\n",
              "      <td>N</td>\n",
              "      <td>N</td>\n",
              "      <td>125.25</td>\n",
              "      <td>Y</td>\n",
              "    </tr>\n",
              "  </tbody>\n",
              "</table>\n",
              "</div>"
            ],
            "text/plain": [
              "   INMATEID              ADMITTED_DT  ...  TOP_CHARGE INFRACTION\n",
              "0    152258  2018-08-24T01:46:33.000  ...      140.25          N\n",
              "1     89404  2019-10-16T11:06:07.000  ...      120.14          N\n",
              "2      7049  2019-11-10T02:32:10.000  ...      140.15          N\n",
              "3  20207729  2019-10-23T03:26:50.000  ...      156.10          N\n",
              "4  20203998  2019-05-02T01:35:22.000  ...      125.25          Y\n",
              "\n",
              "[5 rows x 13 columns]"
            ]
          },
          "metadata": {
            "tags": []
          },
          "execution_count": 3
        }
      ]
    },
    {
      "cell_type": "code",
      "metadata": {
        "id": "EFOfKxv5rEQc",
        "colab_type": "code",
        "colab": {
          "base_uri": "https://localhost:8080/",
          "height": 357
        },
        "outputId": "7259fcca-4fed-4d86-fad6-87490bed046d"
      },
      "source": [
        "df.info()"
      ],
      "execution_count": 4,
      "outputs": [
        {
          "output_type": "stream",
          "text": [
            "<class 'pandas.core.frame.DataFrame'>\n",
            "RangeIndex: 6818 entries, 0 to 6817\n",
            "Data columns (total 13 columns):\n",
            " #   Column              Non-Null Count  Dtype  \n",
            "---  ------              --------------  -----  \n",
            " 0   INMATEID            6818 non-null   int64  \n",
            " 1   ADMITTED_DT         6818 non-null   object \n",
            " 2   DISCHARGED_DT       0 non-null      float64\n",
            " 3   CUSTODY_LEVEL       6703 non-null   object \n",
            " 4   BRADH               6818 non-null   object \n",
            " 5   RACE                6789 non-null   object \n",
            " 6   GENDER              6789 non-null   object \n",
            " 7   AGE                 6805 non-null   float64\n",
            " 8   INMATE_STATUS_CODE  6818 non-null   object \n",
            " 9   SEALED              6818 non-null   object \n",
            " 10  SRG_FLG             6818 non-null   object \n",
            " 11  TOP_CHARGE          5795 non-null   object \n",
            " 12  INFRACTION          6818 non-null   object \n",
            "dtypes: float64(2), int64(1), object(10)\n",
            "memory usage: 692.6+ KB\n"
          ],
          "name": "stdout"
        }
      ]
    },
    {
      "cell_type": "code",
      "metadata": {
        "id": "4jz5hyGIrdtT",
        "colab_type": "code",
        "colab": {}
      },
      "source": [
        "df['admitted'] = pd.to_datetime(df['ADMITTED_DT'])"
      ],
      "execution_count": 5,
      "outputs": []
    },
    {
      "cell_type": "code",
      "metadata": {
        "id": "AgkGBi7ZsXco",
        "colab_type": "code",
        "colab": {
          "base_uri": "https://localhost:8080/",
          "height": 374
        },
        "outputId": "1069be97-a569-4ca4-a529-aa9ef58639d5"
      },
      "source": [
        "df['year'] = df['admitted'].dt.year\n",
        "df.head()"
      ],
      "execution_count": 6,
      "outputs": [
        {
          "output_type": "execute_result",
          "data": {
            "text/html": [
              "<div>\n",
              "<style scoped>\n",
              "    .dataframe tbody tr th:only-of-type {\n",
              "        vertical-align: middle;\n",
              "    }\n",
              "\n",
              "    .dataframe tbody tr th {\n",
              "        vertical-align: top;\n",
              "    }\n",
              "\n",
              "    .dataframe thead th {\n",
              "        text-align: right;\n",
              "    }\n",
              "</style>\n",
              "<table border=\"1\" class=\"dataframe\">\n",
              "  <thead>\n",
              "    <tr style=\"text-align: right;\">\n",
              "      <th></th>\n",
              "      <th>INMATEID</th>\n",
              "      <th>ADMITTED_DT</th>\n",
              "      <th>DISCHARGED_DT</th>\n",
              "      <th>CUSTODY_LEVEL</th>\n",
              "      <th>BRADH</th>\n",
              "      <th>RACE</th>\n",
              "      <th>GENDER</th>\n",
              "      <th>AGE</th>\n",
              "      <th>INMATE_STATUS_CODE</th>\n",
              "      <th>SEALED</th>\n",
              "      <th>SRG_FLG</th>\n",
              "      <th>TOP_CHARGE</th>\n",
              "      <th>INFRACTION</th>\n",
              "      <th>admitted</th>\n",
              "      <th>year</th>\n",
              "    </tr>\n",
              "  </thead>\n",
              "  <tbody>\n",
              "    <tr>\n",
              "      <th>0</th>\n",
              "      <td>152258</td>\n",
              "      <td>2018-08-24T01:46:33.000</td>\n",
              "      <td>NaN</td>\n",
              "      <td>MIN</td>\n",
              "      <td>Y</td>\n",
              "      <td>W</td>\n",
              "      <td>M</td>\n",
              "      <td>54.0</td>\n",
              "      <td>DE</td>\n",
              "      <td>N</td>\n",
              "      <td>N</td>\n",
              "      <td>140.25</td>\n",
              "      <td>N</td>\n",
              "      <td>2018-08-24 01:46:33</td>\n",
              "      <td>2018</td>\n",
              "    </tr>\n",
              "    <tr>\n",
              "      <th>1</th>\n",
              "      <td>89404</td>\n",
              "      <td>2019-10-16T11:06:07.000</td>\n",
              "      <td>NaN</td>\n",
              "      <td>MAX</td>\n",
              "      <td>N</td>\n",
              "      <td>B</td>\n",
              "      <td>M</td>\n",
              "      <td>29.0</td>\n",
              "      <td>DEP</td>\n",
              "      <td>N</td>\n",
              "      <td>Y</td>\n",
              "      <td>120.14</td>\n",
              "      <td>N</td>\n",
              "      <td>2019-10-16 11:06:07</td>\n",
              "      <td>2019</td>\n",
              "    </tr>\n",
              "    <tr>\n",
              "      <th>2</th>\n",
              "      <td>7049</td>\n",
              "      <td>2019-11-10T02:32:10.000</td>\n",
              "      <td>NaN</td>\n",
              "      <td>MAX</td>\n",
              "      <td>N</td>\n",
              "      <td>B</td>\n",
              "      <td>M</td>\n",
              "      <td>38.0</td>\n",
              "      <td>DEP</td>\n",
              "      <td>N</td>\n",
              "      <td>N</td>\n",
              "      <td>140.15</td>\n",
              "      <td>N</td>\n",
              "      <td>2019-11-10 02:32:10</td>\n",
              "      <td>2019</td>\n",
              "    </tr>\n",
              "    <tr>\n",
              "      <th>3</th>\n",
              "      <td>20207729</td>\n",
              "      <td>2019-10-23T03:26:50.000</td>\n",
              "      <td>NaN</td>\n",
              "      <td>MIN</td>\n",
              "      <td>N</td>\n",
              "      <td>W</td>\n",
              "      <td>M</td>\n",
              "      <td>29.0</td>\n",
              "      <td>CS</td>\n",
              "      <td>N</td>\n",
              "      <td>N</td>\n",
              "      <td>156.10</td>\n",
              "      <td>N</td>\n",
              "      <td>2019-10-23 03:26:50</td>\n",
              "      <td>2019</td>\n",
              "    </tr>\n",
              "    <tr>\n",
              "      <th>4</th>\n",
              "      <td>20203998</td>\n",
              "      <td>2019-05-02T01:35:22.000</td>\n",
              "      <td>NaN</td>\n",
              "      <td>MAX</td>\n",
              "      <td>Y</td>\n",
              "      <td>B</td>\n",
              "      <td>M</td>\n",
              "      <td>27.0</td>\n",
              "      <td>DE</td>\n",
              "      <td>N</td>\n",
              "      <td>N</td>\n",
              "      <td>125.25</td>\n",
              "      <td>Y</td>\n",
              "      <td>2019-05-02 01:35:22</td>\n",
              "      <td>2019</td>\n",
              "    </tr>\n",
              "  </tbody>\n",
              "</table>\n",
              "</div>"
            ],
            "text/plain": [
              "   INMATEID              ADMITTED_DT  ...            admitted  year\n",
              "0    152258  2018-08-24T01:46:33.000  ... 2018-08-24 01:46:33  2018\n",
              "1     89404  2019-10-16T11:06:07.000  ... 2019-10-16 11:06:07  2019\n",
              "2      7049  2019-11-10T02:32:10.000  ... 2019-11-10 02:32:10  2019\n",
              "3  20207729  2019-10-23T03:26:50.000  ... 2019-10-23 03:26:50  2019\n",
              "4  20203998  2019-05-02T01:35:22.000  ... 2019-05-02 01:35:22  2019\n",
              "\n",
              "[5 rows x 15 columns]"
            ]
          },
          "metadata": {
            "tags": []
          },
          "execution_count": 6
        }
      ]
    },
    {
      "cell_type": "code",
      "metadata": {
        "id": "JGGbXxG6DAG_",
        "colab_type": "code",
        "colab": {}
      },
      "source": [
        ""
      ],
      "execution_count": 6,
      "outputs": []
    },
    {
      "cell_type": "code",
      "metadata": {
        "id": "05Sf9CTOAB_p",
        "colab_type": "code",
        "colab": {
          "base_uri": "https://localhost:8080/",
          "height": 221
        },
        "outputId": "ecabd04e-ff61-4fd8-c452-f9dc3f0fef9b"
      },
      "source": [
        "sr = pd.Series((df['year'] == 2015) & (df['RACE'] == 6.0))\n",
        "  \n",
        "# Print the series \n",
        "print(sr)"
      ],
      "execution_count": 7,
      "outputs": [
        {
          "output_type": "stream",
          "text": [
            "0       False\n",
            "1       False\n",
            "2       False\n",
            "3       False\n",
            "4       False\n",
            "        ...  \n",
            "6813    False\n",
            "6814    False\n",
            "6815    False\n",
            "6816    False\n",
            "6817    False\n",
            "Length: 6818, dtype: bool\n"
          ],
          "name": "stdout"
        }
      ]
    },
    {
      "cell_type": "code",
      "metadata": {
        "id": "JzvLDYpWCtwU",
        "colab_type": "code",
        "colab": {
          "base_uri": "https://localhost:8080/",
          "height": 51
        },
        "outputId": "ec611aee-9721-4b84-a8f4-b6ee20c7365a"
      },
      "source": [
        "sr.value_counts()"
      ],
      "execution_count": 8,
      "outputs": [
        {
          "output_type": "execute_result",
          "data": {
            "text/plain": [
              "False    6818\n",
              "dtype: int64"
            ]
          },
          "metadata": {
            "tags": []
          },
          "execution_count": 8
        }
      ]
    },
    {
      "cell_type": "code",
      "metadata": {
        "id": "2-UCYEE5CL2Z",
        "colab_type": "code",
        "colab": {
          "base_uri": "https://localhost:8080/",
          "height": 221
        },
        "outputId": "96c963d3-5ace-4f46-d09c-a96cd7cc89d2"
      },
      "source": [
        "sry = pd.Series(df['year'] == 0.0)\n",
        "print(sry)"
      ],
      "execution_count": 9,
      "outputs": [
        {
          "output_type": "stream",
          "text": [
            "0       False\n",
            "1       False\n",
            "2       False\n",
            "3       False\n",
            "4       False\n",
            "        ...  \n",
            "6813    False\n",
            "6814    False\n",
            "6815    False\n",
            "6816    False\n",
            "6817    False\n",
            "Name: year, Length: 6818, dtype: bool\n"
          ],
          "name": "stdout"
        }
      ]
    },
    {
      "cell_type": "code",
      "metadata": {
        "id": "VOSh4R2aCYBd",
        "colab_type": "code",
        "colab": {}
      },
      "source": [
        "omg = (sr, sry)"
      ],
      "execution_count": 10,
      "outputs": []
    },
    {
      "cell_type": "code",
      "metadata": {
        "id": "ZIgBg_PoB4fl",
        "colab_type": "code",
        "colab": {}
      },
      "source": [
        ""
      ],
      "execution_count": 10,
      "outputs": []
    },
    {
      "cell_type": "code",
      "metadata": {
        "id": "FwKU7y2_3bxZ",
        "colab_type": "code",
        "colab": {
          "base_uri": "https://localhost:8080/",
          "height": 284
        },
        "outputId": "0d92b57b-6f14-4150-ba77-1ffcb4bf964e"
      },
      "source": [
        "df['RACE'].value_counts()[:5000].plot(kind='bar')"
      ],
      "execution_count": 11,
      "outputs": [
        {
          "output_type": "execute_result",
          "data": {
            "text/plain": [
              "<matplotlib.axes._subplots.AxesSubplot at 0x7f3aad516d68>"
            ]
          },
          "metadata": {
            "tags": []
          },
          "execution_count": 11
        },
        {
          "output_type": "display_data",
          "data": {
            "image/png": "[encoded data removed]",
            "text/plain": [
              "<Figure size 432x288 with 1 Axes>"
            ]
          },
          "metadata": {
            "tags": [],
            "needs_background": "light"
          }
        }
      ]
    },
    {
      "cell_type": "markdown",
      "metadata": {
        "id": "vVUqK0Ltf0oO",
        "colab_type": "text"
      },
      "source": [
        "##deleting unwated columns (inmate ID, inmate status code, and top charge)"
      ]
    },
    {
      "cell_type": "code",
      "metadata": {
        "id": "UXfeI3vR6P84",
        "colab_type": "code",
        "colab": {}
      },
      "source": [
        "del df['ADMITTED_DT']"
      ],
      "execution_count": 12,
      "outputs": []
    },
    {
      "cell_type": "code",
      "metadata": {
        "id": "5eKeuGj46TWz",
        "colab_type": "code",
        "colab": {
          "base_uri": "https://localhost:8080/",
          "height": 419
        },
        "outputId": "0343b166-70fd-46d8-ac81-7355fcc5f4d5"
      },
      "source": [
        "df"
      ],
      "execution_count": 13,
      "outputs": [
        {
          "output_type": "execute_result",
          "data": {
            "text/html": [
              "<div>\n",
              "<style scoped>\n",
              "    .dataframe tbody tr th:only-of-type {\n",
              "        vertical-align: middle;\n",
              "    }\n",
              "\n",
              "    .dataframe tbody tr th {\n",
              "        vertical-align: top;\n",
              "    }\n",
              "\n",
              "    .dataframe thead th {\n",
              "        text-align: right;\n",
              "    }\n",
              "</style>\n",
              "<table border=\"1\" class=\"dataframe\">\n",
              "  <thead>\n",
              "    <tr style=\"text-align: right;\">\n",
              "      <th></th>\n",
              "      <th>INMATEID</th>\n",
              "      <th>DISCHARGED_DT</th>\n",
              "      <th>CUSTODY_LEVEL</th>\n",
              "      <th>BRADH</th>\n",
              "      <th>RACE</th>\n",
              "      <th>GENDER</th>\n",
              "      <th>AGE</th>\n",
              "      <th>INMATE_STATUS_CODE</th>\n",
              "      <th>SEALED</th>\n",
              "      <th>SRG_FLG</th>\n",
              "      <th>TOP_CHARGE</th>\n",
              "      <th>INFRACTION</th>\n",
              "      <th>admitted</th>\n",
              "      <th>year</th>\n",
              "    </tr>\n",
              "  </thead>\n",
              "  <tbody>\n",
              "    <tr>\n",
              "      <th>0</th>\n",
              "      <td>152258</td>\n",
              "      <td>NaN</td>\n",
              "      <td>MIN</td>\n",
              "      <td>Y</td>\n",
              "      <td>W</td>\n",
              "      <td>M</td>\n",
              "      <td>54.0</td>\n",
              "      <td>DE</td>\n",
              "      <td>N</td>\n",
              "      <td>N</td>\n",
              "      <td>140.25</td>\n",
              "      <td>N</td>\n",
              "      <td>2018-08-24 01:46:33</td>\n",
              "      <td>2018</td>\n",
              "    </tr>\n",
              "    <tr>\n",
              "      <th>1</th>\n",
              "      <td>89404</td>\n",
              "      <td>NaN</td>\n",
              "      <td>MAX</td>\n",
              "      <td>N</td>\n",
              "      <td>B</td>\n",
              "      <td>M</td>\n",
              "      <td>29.0</td>\n",
              "      <td>DEP</td>\n",
              "      <td>N</td>\n",
              "      <td>Y</td>\n",
              "      <td>120.14</td>\n",
              "      <td>N</td>\n",
              "      <td>2019-10-16 11:06:07</td>\n",
              "      <td>2019</td>\n",
              "    </tr>\n",
              "    <tr>\n",
              "      <th>2</th>\n",
              "      <td>7049</td>\n",
              "      <td>NaN</td>\n",
              "      <td>MAX</td>\n",
              "      <td>N</td>\n",
              "      <td>B</td>\n",
              "      <td>M</td>\n",
              "      <td>38.0</td>\n",
              "      <td>DEP</td>\n",
              "      <td>N</td>\n",
              "      <td>N</td>\n",
              "      <td>140.15</td>\n",
              "      <td>N</td>\n",
              "      <td>2019-11-10 02:32:10</td>\n",
              "      <td>2019</td>\n",
              "    </tr>\n",
              "    <tr>\n",
              "      <th>3</th>\n",
              "      <td>20207729</td>\n",
              "      <td>NaN</td>\n",
              "      <td>MIN</td>\n",
              "      <td>N</td>\n",
              "      <td>W</td>\n",
              "      <td>M</td>\n",
              "      <td>29.0</td>\n",
              "      <td>CS</td>\n",
              "      <td>N</td>\n",
              "      <td>N</td>\n",
              "      <td>156.10</td>\n",
              "      <td>N</td>\n",
              "      <td>2019-10-23 03:26:50</td>\n",
              "      <td>2019</td>\n",
              "    </tr>\n",
              "    <tr>\n",
              "      <th>4</th>\n",
              "      <td>20203998</td>\n",
              "      <td>NaN</td>\n",
              "      <td>MAX</td>\n",
              "      <td>Y</td>\n",
              "      <td>B</td>\n",
              "      <td>M</td>\n",
              "      <td>27.0</td>\n",
              "      <td>DE</td>\n",
              "      <td>N</td>\n",
              "      <td>N</td>\n",
              "      <td>125.25</td>\n",
              "      <td>Y</td>\n",
              "      <td>2019-05-02 01:35:22</td>\n",
              "      <td>2019</td>\n",
              "    </tr>\n",
              "    <tr>\n",
              "      <th>...</th>\n",
              "      <td>...</td>\n",
              "      <td>...</td>\n",
              "      <td>...</td>\n",
              "      <td>...</td>\n",
              "      <td>...</td>\n",
              "      <td>...</td>\n",
              "      <td>...</td>\n",
              "      <td>...</td>\n",
              "      <td>...</td>\n",
              "      <td>...</td>\n",
              "      <td>...</td>\n",
              "      <td>...</td>\n",
              "      <td>...</td>\n",
              "      <td>...</td>\n",
              "    </tr>\n",
              "    <tr>\n",
              "      <th>6813</th>\n",
              "      <td>19225</td>\n",
              "      <td>NaN</td>\n",
              "      <td>MED</td>\n",
              "      <td>Y</td>\n",
              "      <td>B</td>\n",
              "      <td>M</td>\n",
              "      <td>43.0</td>\n",
              "      <td>DE</td>\n",
              "      <td>N</td>\n",
              "      <td>N</td>\n",
              "      <td>125.25</td>\n",
              "      <td>N</td>\n",
              "      <td>2017-02-03 21:36:59</td>\n",
              "      <td>2017</td>\n",
              "    </tr>\n",
              "    <tr>\n",
              "      <th>6814</th>\n",
              "      <td>20093747</td>\n",
              "      <td>NaN</td>\n",
              "      <td>MAX</td>\n",
              "      <td>Y</td>\n",
              "      <td>B</td>\n",
              "      <td>M</td>\n",
              "      <td>46.0</td>\n",
              "      <td>DE</td>\n",
              "      <td>N</td>\n",
              "      <td>N</td>\n",
              "      <td>110-125.25</td>\n",
              "      <td>N</td>\n",
              "      <td>2018-11-14 01:38:36</td>\n",
              "      <td>2018</td>\n",
              "    </tr>\n",
              "    <tr>\n",
              "      <th>6815</th>\n",
              "      <td>93606</td>\n",
              "      <td>NaN</td>\n",
              "      <td>MAX</td>\n",
              "      <td>Y</td>\n",
              "      <td>B</td>\n",
              "      <td>M</td>\n",
              "      <td>35.0</td>\n",
              "      <td>DE</td>\n",
              "      <td>N</td>\n",
              "      <td>Y</td>\n",
              "      <td>110-125.25</td>\n",
              "      <td>Y</td>\n",
              "      <td>2018-01-22 23:57:24</td>\n",
              "      <td>2018</td>\n",
              "    </tr>\n",
              "    <tr>\n",
              "      <th>6816</th>\n",
              "      <td>14481</td>\n",
              "      <td>NaN</td>\n",
              "      <td>MED</td>\n",
              "      <td>N</td>\n",
              "      <td>W</td>\n",
              "      <td>M</td>\n",
              "      <td>40.0</td>\n",
              "      <td>DE</td>\n",
              "      <td>N</td>\n",
              "      <td>N</td>\n",
              "      <td>130.96</td>\n",
              "      <td>N</td>\n",
              "      <td>2017-08-23 17:21:51</td>\n",
              "      <td>2017</td>\n",
              "    </tr>\n",
              "    <tr>\n",
              "      <th>6817</th>\n",
              "      <td>167979</td>\n",
              "      <td>NaN</td>\n",
              "      <td>MIN</td>\n",
              "      <td>N</td>\n",
              "      <td>B</td>\n",
              "      <td>M</td>\n",
              "      <td>43.0</td>\n",
              "      <td>DE</td>\n",
              "      <td>N</td>\n",
              "      <td>N</td>\n",
              "      <td>220.41</td>\n",
              "      <td>N</td>\n",
              "      <td>2018-09-19 16:21:38</td>\n",
              "      <td>2018</td>\n",
              "    </tr>\n",
              "  </tbody>\n",
              "</table>\n",
              "<p>6818 rows × 14 columns</p>\n",
              "</div>"
            ],
            "text/plain": [
              "      INMATEID  DISCHARGED_DT  ...            admitted  year\n",
              "0       152258            NaN  ... 2018-08-24 01:46:33  2018\n",
              "1        89404            NaN  ... 2019-10-16 11:06:07  2019\n",
              "2         7049            NaN  ... 2019-11-10 02:32:10  2019\n",
              "3     20207729            NaN  ... 2019-10-23 03:26:50  2019\n",
              "4     20203998            NaN  ... 2019-05-02 01:35:22  2019\n",
              "...        ...            ...  ...                 ...   ...\n",
              "6813     19225            NaN  ... 2017-02-03 21:36:59  2017\n",
              "6814  20093747            NaN  ... 2018-11-14 01:38:36  2018\n",
              "6815     93606            NaN  ... 2018-01-22 23:57:24  2018\n",
              "6816     14481            NaN  ... 2017-08-23 17:21:51  2017\n",
              "6817    167979            NaN  ... 2018-09-19 16:21:38  2018\n",
              "\n",
              "[6818 rows x 14 columns]"
            ]
          },
          "metadata": {
            "tags": []
          },
          "execution_count": 13
        }
      ]
    },
    {
      "cell_type": "code",
      "metadata": {
        "id": "NDMtAVXkbA38",
        "colab_type": "code",
        "colab": {}
      },
      "source": [
        "del df['INMATE_STATUS_CODE']"
      ],
      "execution_count": 14,
      "outputs": []
    },
    {
      "cell_type": "code",
      "metadata": {
        "id": "1oAb0HUBbE7I",
        "colab_type": "code",
        "colab": {
          "base_uri": "https://localhost:8080/",
          "height": 419
        },
        "outputId": "ecb03e3d-c1d8-4e0a-c103-93e8923a8912"
      },
      "source": [
        "df"
      ],
      "execution_count": 15,
      "outputs": [
        {
          "output_type": "execute_result",
          "data": {
            "text/html": [
              "<div>\n",
              "<style scoped>\n",
              "    .dataframe tbody tr th:only-of-type {\n",
              "        vertical-align: middle;\n",
              "    }\n",
              "\n",
              "    .dataframe tbody tr th {\n",
              "        vertical-align: top;\n",
              "    }\n",
              "\n",
              "    .dataframe thead th {\n",
              "        text-align: right;\n",
              "    }\n",
              "</style>\n",
              "<table border=\"1\" class=\"dataframe\">\n",
              "  <thead>\n",
              "    <tr style=\"text-align: right;\">\n",
              "      <th></th>\n",
              "      <th>INMATEID</th>\n",
              "      <th>DISCHARGED_DT</th>\n",
              "      <th>CUSTODY_LEVEL</th>\n",
              "      <th>BRADH</th>\n",
              "      <th>RACE</th>\n",
              "      <th>GENDER</th>\n",
              "      <th>AGE</th>\n",
              "      <th>SEALED</th>\n",
              "      <th>SRG_FLG</th>\n",
              "      <th>TOP_CHARGE</th>\n",
              "      <th>INFRACTION</th>\n",
              "      <th>admitted</th>\n",
              "      <th>year</th>\n",
              "    </tr>\n",
              "  </thead>\n",
              "  <tbody>\n",
              "    <tr>\n",
              "      <th>0</th>\n",
              "      <td>152258</td>\n",
              "      <td>NaN</td>\n",
              "      <td>MIN</td>\n",
              "      <td>Y</td>\n",
              "      <td>W</td>\n",
              "      <td>M</td>\n",
              "      <td>54.0</td>\n",
              "      <td>N</td>\n",
              "      <td>N</td>\n",
              "      <td>140.25</td>\n",
              "      <td>N</td>\n",
              "      <td>2018-08-24 01:46:33</td>\n",
              "      <td>2018</td>\n",
              "    </tr>\n",
              "    <tr>\n",
              "      <th>1</th>\n",
              "      <td>89404</td>\n",
              "      <td>NaN</td>\n",
              "      <td>MAX</td>\n",
              "      <td>N</td>\n",
              "      <td>B</td>\n",
              "      <td>M</td>\n",
              "      <td>29.0</td>\n",
              "      <td>N</td>\n",
              "      <td>Y</td>\n",
              "      <td>120.14</td>\n",
              "      <td>N</td>\n",
              "      <td>2019-10-16 11:06:07</td>\n",
              "      <td>2019</td>\n",
              "    </tr>\n",
              "    <tr>\n",
              "      <th>2</th>\n",
              "      <td>7049</td>\n",
              "      <td>NaN</td>\n",
              "      <td>MAX</td>\n",
              "      <td>N</td>\n",
              "      <td>B</td>\n",
              "      <td>M</td>\n",
              "      <td>38.0</td>\n",
              "      <td>N</td>\n",
              "      <td>N</td>\n",
              "      <td>140.15</td>\n",
              "      <td>N</td>\n",
              "      <td>2019-11-10 02:32:10</td>\n",
              "      <td>2019</td>\n",
              "    </tr>\n",
              "    <tr>\n",
              "      <th>3</th>\n",
              "      <td>20207729</td>\n",
              "      <td>NaN</td>\n",
              "      <td>MIN</td>\n",
              "      <td>N</td>\n",
              "      <td>W</td>\n",
              "      <td>M</td>\n",
              "      <td>29.0</td>\n",
              "      <td>N</td>\n",
              "      <td>N</td>\n",
              "      <td>156.10</td>\n",
              "      <td>N</td>\n",
              "      <td>2019-10-23 03:26:50</td>\n",
              "      <td>2019</td>\n",
              "    </tr>\n",
              "    <tr>\n",
              "      <th>4</th>\n",
              "      <td>20203998</td>\n",
              "      <td>NaN</td>\n",
              "      <td>MAX</td>\n",
              "      <td>Y</td>\n",
              "      <td>B</td>\n",
              "      <td>M</td>\n",
              "      <td>27.0</td>\n",
              "      <td>N</td>\n",
              "      <td>N</td>\n",
              "      <td>125.25</td>\n",
              "      <td>Y</td>\n",
              "      <td>2019-05-02 01:35:22</td>\n",
              "      <td>2019</td>\n",
              "    </tr>\n",
              "    <tr>\n",
              "      <th>...</th>\n",
              "      <td>...</td>\n",
              "      <td>...</td>\n",
              "      <td>...</td>\n",
              "      <td>...</td>\n",
              "      <td>...</td>\n",
              "      <td>...</td>\n",
              "      <td>...</td>\n",
              "      <td>...</td>\n",
              "      <td>...</td>\n",
              "      <td>...</td>\n",
              "      <td>...</td>\n",
              "      <td>...</td>\n",
              "      <td>...</td>\n",
              "    </tr>\n",
              "    <tr>\n",
              "      <th>6813</th>\n",
              "      <td>19225</td>\n",
              "      <td>NaN</td>\n",
              "      <td>MED</td>\n",
              "      <td>Y</td>\n",
              "      <td>B</td>\n",
              "      <td>M</td>\n",
              "      <td>43.0</td>\n",
              "      <td>N</td>\n",
              "      <td>N</td>\n",
              "      <td>125.25</td>\n",
              "      <td>N</td>\n",
              "      <td>2017-02-03 21:36:59</td>\n",
              "      <td>2017</td>\n",
              "    </tr>\n",
              "    <tr>\n",
              "      <th>6814</th>\n",
              "      <td>20093747</td>\n",
              "      <td>NaN</td>\n",
              "      <td>MAX</td>\n",
              "      <td>Y</td>\n",
              "      <td>B</td>\n",
              "      <td>M</td>\n",
              "      <td>46.0</td>\n",
              "      <td>N</td>\n",
              "      <td>N</td>\n",
              "      <td>110-125.25</td>\n",
              "      <td>N</td>\n",
              "      <td>2018-11-14 01:38:36</td>\n",
              "      <td>2018</td>\n",
              "    </tr>\n",
              "    <tr>\n",
              "      <th>6815</th>\n",
              "      <td>93606</td>\n",
              "      <td>NaN</td>\n",
              "      <td>MAX</td>\n",
              "      <td>Y</td>\n",
              "      <td>B</td>\n",
              "      <td>M</td>\n",
              "      <td>35.0</td>\n",
              "      <td>N</td>\n",
              "      <td>Y</td>\n",
              "      <td>110-125.25</td>\n",
              "      <td>Y</td>\n",
              "      <td>2018-01-22 23:57:24</td>\n",
              "      <td>2018</td>\n",
              "    </tr>\n",
              "    <tr>\n",
              "      <th>6816</th>\n",
              "      <td>14481</td>\n",
              "      <td>NaN</td>\n",
              "      <td>MED</td>\n",
              "      <td>N</td>\n",
              "      <td>W</td>\n",
              "      <td>M</td>\n",
              "      <td>40.0</td>\n",
              "      <td>N</td>\n",
              "      <td>N</td>\n",
              "      <td>130.96</td>\n",
              "      <td>N</td>\n",
              "      <td>2017-08-23 17:21:51</td>\n",
              "      <td>2017</td>\n",
              "    </tr>\n",
              "    <tr>\n",
              "      <th>6817</th>\n",
              "      <td>167979</td>\n",
              "      <td>NaN</td>\n",
              "      <td>MIN</td>\n",
              "      <td>N</td>\n",
              "      <td>B</td>\n",
              "      <td>M</td>\n",
              "      <td>43.0</td>\n",
              "      <td>N</td>\n",
              "      <td>N</td>\n",
              "      <td>220.41</td>\n",
              "      <td>N</td>\n",
              "      <td>2018-09-19 16:21:38</td>\n",
              "      <td>2018</td>\n",
              "    </tr>\n",
              "  </tbody>\n",
              "</table>\n",
              "<p>6818 rows × 13 columns</p>\n",
              "</div>"
            ],
            "text/plain": [
              "      INMATEID  DISCHARGED_DT  ...            admitted  year\n",
              "0       152258            NaN  ... 2018-08-24 01:46:33  2018\n",
              "1        89404            NaN  ... 2019-10-16 11:06:07  2019\n",
              "2         7049            NaN  ... 2019-11-10 02:32:10  2019\n",
              "3     20207729            NaN  ... 2019-10-23 03:26:50  2019\n",
              "4     20203998            NaN  ... 2019-05-02 01:35:22  2019\n",
              "...        ...            ...  ...                 ...   ...\n",
              "6813     19225            NaN  ... 2017-02-03 21:36:59  2017\n",
              "6814  20093747            NaN  ... 2018-11-14 01:38:36  2018\n",
              "6815     93606            NaN  ... 2018-01-22 23:57:24  2018\n",
              "6816     14481            NaN  ... 2017-08-23 17:21:51  2017\n",
              "6817    167979            NaN  ... 2018-09-19 16:21:38  2018\n",
              "\n",
              "[6818 rows x 13 columns]"
            ]
          },
          "metadata": {
            "tags": []
          },
          "execution_count": 15
        }
      ]
    },
    {
      "cell_type": "code",
      "metadata": {
        "id": "UJs8stMYa31t",
        "colab_type": "code",
        "colab": {}
      },
      "source": [
        "del df['SRG_FLG']"
      ],
      "execution_count": 16,
      "outputs": []
    },
    {
      "cell_type": "code",
      "metadata": {
        "id": "w-FzSbkpa7yv",
        "colab_type": "code",
        "colab": {
          "base_uri": "https://localhost:8080/",
          "height": 419
        },
        "outputId": "1ec40a9a-6009-48a8-9562-cdde6c76ffd5"
      },
      "source": [
        "df"
      ],
      "execution_count": 17,
      "outputs": [
        {
          "output_type": "execute_result",
          "data": {
            "text/html": [
              "<div>\n",
              "<style scoped>\n",
              "    .dataframe tbody tr th:only-of-type {\n",
              "        vertical-align: middle;\n",
              "    }\n",
              "\n",
              "    .dataframe tbody tr th {\n",
              "        vertical-align: top;\n",
              "    }\n",
              "\n",
              "    .dataframe thead th {\n",
              "        text-align: right;\n",
              "    }\n",
              "</style>\n",
              "<table border=\"1\" class=\"dataframe\">\n",
              "  <thead>\n",
              "    <tr style=\"text-align: right;\">\n",
              "      <th></th>\n",
              "      <th>INMATEID</th>\n",
              "      <th>DISCHARGED_DT</th>\n",
              "      <th>CUSTODY_LEVEL</th>\n",
              "      <th>BRADH</th>\n",
              "      <th>RACE</th>\n",
              "      <th>GENDER</th>\n",
              "      <th>AGE</th>\n",
              "      <th>SEALED</th>\n",
              "      <th>TOP_CHARGE</th>\n",
              "      <th>INFRACTION</th>\n",
              "      <th>admitted</th>\n",
              "      <th>year</th>\n",
              "    </tr>\n",
              "  </thead>\n",
              "  <tbody>\n",
              "    <tr>\n",
              "      <th>0</th>\n",
              "      <td>152258</td>\n",
              "      <td>NaN</td>\n",
              "      <td>MIN</td>\n",
              "      <td>Y</td>\n",
              "      <td>W</td>\n",
              "      <td>M</td>\n",
              "      <td>54.0</td>\n",
              "      <td>N</td>\n",
              "      <td>140.25</td>\n",
              "      <td>N</td>\n",
              "      <td>2018-08-24 01:46:33</td>\n",
              "      <td>2018</td>\n",
              "    </tr>\n",
              "    <tr>\n",
              "      <th>1</th>\n",
              "      <td>89404</td>\n",
              "      <td>NaN</td>\n",
              "      <td>MAX</td>\n",
              "      <td>N</td>\n",
              "      <td>B</td>\n",
              "      <td>M</td>\n",
              "      <td>29.0</td>\n",
              "      <td>N</td>\n",
              "      <td>120.14</td>\n",
              "      <td>N</td>\n",
              "      <td>2019-10-16 11:06:07</td>\n",
              "      <td>2019</td>\n",
              "    </tr>\n",
              "    <tr>\n",
              "      <th>2</th>\n",
              "      <td>7049</td>\n",
              "      <td>NaN</td>\n",
              "      <td>MAX</td>\n",
              "      <td>N</td>\n",
              "      <td>B</td>\n",
              "      <td>M</td>\n",
              "      <td>38.0</td>\n",
              "      <td>N</td>\n",
              "      <td>140.15</td>\n",
              "      <td>N</td>\n",
              "      <td>2019-11-10 02:32:10</td>\n",
              "      <td>2019</td>\n",
              "    </tr>\n",
              "    <tr>\n",
              "      <th>3</th>\n",
              "      <td>20207729</td>\n",
              "      <td>NaN</td>\n",
              "      <td>MIN</td>\n",
              "      <td>N</td>\n",
              "      <td>W</td>\n",
              "      <td>M</td>\n",
              "      <td>29.0</td>\n",
              "      <td>N</td>\n",
              "      <td>156.10</td>\n",
              "      <td>N</td>\n",
              "      <td>2019-10-23 03:26:50</td>\n",
              "      <td>2019</td>\n",
              "    </tr>\n",
              "    <tr>\n",
              "      <th>4</th>\n",
              "      <td>20203998</td>\n",
              "      <td>NaN</td>\n",
              "      <td>MAX</td>\n",
              "      <td>Y</td>\n",
              "      <td>B</td>\n",
              "      <td>M</td>\n",
              "      <td>27.0</td>\n",
              "      <td>N</td>\n",
              "      <td>125.25</td>\n",
              "      <td>Y</td>\n",
              "      <td>2019-05-02 01:35:22</td>\n",
              "      <td>2019</td>\n",
              "    </tr>\n",
              "    <tr>\n",
              "      <th>...</th>\n",
              "      <td>...</td>\n",
              "      <td>...</td>\n",
              "      <td>...</td>\n",
              "      <td>...</td>\n",
              "      <td>...</td>\n",
              "      <td>...</td>\n",
              "      <td>...</td>\n",
              "      <td>...</td>\n",
              "      <td>...</td>\n",
              "      <td>...</td>\n",
              "      <td>...</td>\n",
              "      <td>...</td>\n",
              "    </tr>\n",
              "    <tr>\n",
              "      <th>6813</th>\n",
              "      <td>19225</td>\n",
              "      <td>NaN</td>\n",
              "      <td>MED</td>\n",
              "      <td>Y</td>\n",
              "      <td>B</td>\n",
              "      <td>M</td>\n",
              "      <td>43.0</td>\n",
              "      <td>N</td>\n",
              "      <td>125.25</td>\n",
              "      <td>N</td>\n",
              "      <td>2017-02-03 21:36:59</td>\n",
              "      <td>2017</td>\n",
              "    </tr>\n",
              "    <tr>\n",
              "      <th>6814</th>\n",
              "      <td>20093747</td>\n",
              "      <td>NaN</td>\n",
              "      <td>MAX</td>\n",
              "      <td>Y</td>\n",
              "      <td>B</td>\n",
              "      <td>M</td>\n",
              "      <td>46.0</td>\n",
              "      <td>N</td>\n",
              "      <td>110-125.25</td>\n",
              "      <td>N</td>\n",
              "      <td>2018-11-14 01:38:36</td>\n",
              "      <td>2018</td>\n",
              "    </tr>\n",
              "    <tr>\n",
              "      <th>6815</th>\n",
              "      <td>93606</td>\n",
              "      <td>NaN</td>\n",
              "      <td>MAX</td>\n",
              "      <td>Y</td>\n",
              "      <td>B</td>\n",
              "      <td>M</td>\n",
              "      <td>35.0</td>\n",
              "      <td>N</td>\n",
              "      <td>110-125.25</td>\n",
              "      <td>Y</td>\n",
              "      <td>2018-01-22 23:57:24</td>\n",
              "      <td>2018</td>\n",
              "    </tr>\n",
              "    <tr>\n",
              "      <th>6816</th>\n",
              "      <td>14481</td>\n",
              "      <td>NaN</td>\n",
              "      <td>MED</td>\n",
              "      <td>N</td>\n",
              "      <td>W</td>\n",
              "      <td>M</td>\n",
              "      <td>40.0</td>\n",
              "      <td>N</td>\n",
              "      <td>130.96</td>\n",
              "      <td>N</td>\n",
              "      <td>2017-08-23 17:21:51</td>\n",
              "      <td>2017</td>\n",
              "    </tr>\n",
              "    <tr>\n",
              "      <th>6817</th>\n",
              "      <td>167979</td>\n",
              "      <td>NaN</td>\n",
              "      <td>MIN</td>\n",
              "      <td>N</td>\n",
              "      <td>B</td>\n",
              "      <td>M</td>\n",
              "      <td>43.0</td>\n",
              "      <td>N</td>\n",
              "      <td>220.41</td>\n",
              "      <td>N</td>\n",
              "      <td>2018-09-19 16:21:38</td>\n",
              "      <td>2018</td>\n",
              "    </tr>\n",
              "  </tbody>\n",
              "</table>\n",
              "<p>6818 rows × 12 columns</p>\n",
              "</div>"
            ],
            "text/plain": [
              "      INMATEID  DISCHARGED_DT  ...            admitted  year\n",
              "0       152258            NaN  ... 2018-08-24 01:46:33  2018\n",
              "1        89404            NaN  ... 2019-10-16 11:06:07  2019\n",
              "2         7049            NaN  ... 2019-11-10 02:32:10  2019\n",
              "3     20207729            NaN  ... 2019-10-23 03:26:50  2019\n",
              "4     20203998            NaN  ... 2019-05-02 01:35:22  2019\n",
              "...        ...            ...  ...                 ...   ...\n",
              "6813     19225            NaN  ... 2017-02-03 21:36:59  2017\n",
              "6814  20093747            NaN  ... 2018-11-14 01:38:36  2018\n",
              "6815     93606            NaN  ... 2018-01-22 23:57:24  2018\n",
              "6816     14481            NaN  ... 2017-08-23 17:21:51  2017\n",
              "6817    167979            NaN  ... 2018-09-19 16:21:38  2018\n",
              "\n",
              "[6818 rows x 12 columns]"
            ]
          },
          "metadata": {
            "tags": []
          },
          "execution_count": 17
        }
      ]
    },
    {
      "cell_type": "code",
      "metadata": {
        "id": "kgK43Pu-ay9W",
        "colab_type": "code",
        "colab": {}
      },
      "source": [
        "del df['INFRACTION']"
      ],
      "execution_count": 18,
      "outputs": []
    },
    {
      "cell_type": "code",
      "metadata": {
        "id": "h12of0Pda1k_",
        "colab_type": "code",
        "colab": {
          "base_uri": "https://localhost:8080/",
          "height": 419
        },
        "outputId": "19ddea33-3f8a-46c5-cb89-74cd31fbd301"
      },
      "source": [
        "df"
      ],
      "execution_count": 19,
      "outputs": [
        {
          "output_type": "execute_result",
          "data": {
            "text/html": [
              "<div>\n",
              "<style scoped>\n",
              "    .dataframe tbody tr th:only-of-type {\n",
              "        vertical-align: middle;\n",
              "    }\n",
              "\n",
              "    .dataframe tbody tr th {\n",
              "        vertical-align: top;\n",
              "    }\n",
              "\n",
              "    .dataframe thead th {\n",
              "        text-align: right;\n",
              "    }\n",
              "</style>\n",
              "<table border=\"1\" class=\"dataframe\">\n",
              "  <thead>\n",
              "    <tr style=\"text-align: right;\">\n",
              "      <th></th>\n",
              "      <th>INMATEID</th>\n",
              "      <th>DISCHARGED_DT</th>\n",
              "      <th>CUSTODY_LEVEL</th>\n",
              "      <th>BRADH</th>\n",
              "      <th>RACE</th>\n",
              "      <th>GENDER</th>\n",
              "      <th>AGE</th>\n",
              "      <th>SEALED</th>\n",
              "      <th>TOP_CHARGE</th>\n",
              "      <th>admitted</th>\n",
              "      <th>year</th>\n",
              "    </tr>\n",
              "  </thead>\n",
              "  <tbody>\n",
              "    <tr>\n",
              "      <th>0</th>\n",
              "      <td>152258</td>\n",
              "      <td>NaN</td>\n",
              "      <td>MIN</td>\n",
              "      <td>Y</td>\n",
              "      <td>W</td>\n",
              "      <td>M</td>\n",
              "      <td>54.0</td>\n",
              "      <td>N</td>\n",
              "      <td>140.25</td>\n",
              "      <td>2018-08-24 01:46:33</td>\n",
              "      <td>2018</td>\n",
              "    </tr>\n",
              "    <tr>\n",
              "      <th>1</th>\n",
              "      <td>89404</td>\n",
              "      <td>NaN</td>\n",
              "      <td>MAX</td>\n",
              "      <td>N</td>\n",
              "      <td>B</td>\n",
              "      <td>M</td>\n",
              "      <td>29.0</td>\n",
              "      <td>N</td>\n",
              "      <td>120.14</td>\n",
              "      <td>2019-10-16 11:06:07</td>\n",
              "      <td>2019</td>\n",
              "    </tr>\n",
              "    <tr>\n",
              "      <th>2</th>\n",
              "      <td>7049</td>\n",
              "      <td>NaN</td>\n",
              "      <td>MAX</td>\n",
              "      <td>N</td>\n",
              "      <td>B</td>\n",
              "      <td>M</td>\n",
              "      <td>38.0</td>\n",
              "      <td>N</td>\n",
              "      <td>140.15</td>\n",
              "      <td>2019-11-10 02:32:10</td>\n",
              "      <td>2019</td>\n",
              "    </tr>\n",
              "    <tr>\n",
              "      <th>3</th>\n",
              "      <td>20207729</td>\n",
              "      <td>NaN</td>\n",
              "      <td>MIN</td>\n",
              "      <td>N</td>\n",
              "      <td>W</td>\n",
              "      <td>M</td>\n",
              "      <td>29.0</td>\n",
              "      <td>N</td>\n",
              "      <td>156.10</td>\n",
              "      <td>2019-10-23 03:26:50</td>\n",
              "      <td>2019</td>\n",
              "    </tr>\n",
              "    <tr>\n",
              "      <th>4</th>\n",
              "      <td>20203998</td>\n",
              "      <td>NaN</td>\n",
              "      <td>MAX</td>\n",
              "      <td>Y</td>\n",
              "      <td>B</td>\n",
              "      <td>M</td>\n",
              "      <td>27.0</td>\n",
              "      <td>N</td>\n",
              "      <td>125.25</td>\n",
              "      <td>2019-05-02 01:35:22</td>\n",
              "      <td>2019</td>\n",
              "    </tr>\n",
              "    <tr>\n",
              "      <th>...</th>\n",
              "      <td>...</td>\n",
              "      <td>...</td>\n",
              "      <td>...</td>\n",
              "      <td>...</td>\n",
              "      <td>...</td>\n",
              "      <td>...</td>\n",
              "      <td>...</td>\n",
              "      <td>...</td>\n",
              "      <td>...</td>\n",
              "      <td>...</td>\n",
              "      <td>...</td>\n",
              "    </tr>\n",
              "    <tr>\n",
              "      <th>6813</th>\n",
              "      <td>19225</td>\n",
              "      <td>NaN</td>\n",
              "      <td>MED</td>\n",
              "      <td>Y</td>\n",
              "      <td>B</td>\n",
              "      <td>M</td>\n",
              "      <td>43.0</td>\n",
              "      <td>N</td>\n",
              "      <td>125.25</td>\n",
              "      <td>2017-02-03 21:36:59</td>\n",
              "      <td>2017</td>\n",
              "    </tr>\n",
              "    <tr>\n",
              "      <th>6814</th>\n",
              "      <td>20093747</td>\n",
              "      <td>NaN</td>\n",
              "      <td>MAX</td>\n",
              "      <td>Y</td>\n",
              "      <td>B</td>\n",
              "      <td>M</td>\n",
              "      <td>46.0</td>\n",
              "      <td>N</td>\n",
              "      <td>110-125.25</td>\n",
              "      <td>2018-11-14 01:38:36</td>\n",
              "      <td>2018</td>\n",
              "    </tr>\n",
              "    <tr>\n",
              "      <th>6815</th>\n",
              "      <td>93606</td>\n",
              "      <td>NaN</td>\n",
              "      <td>MAX</td>\n",
              "      <td>Y</td>\n",
              "      <td>B</td>\n",
              "      <td>M</td>\n",
              "      <td>35.0</td>\n",
              "      <td>N</td>\n",
              "      <td>110-125.25</td>\n",
              "      <td>2018-01-22 23:57:24</td>\n",
              "      <td>2018</td>\n",
              "    </tr>\n",
              "    <tr>\n",
              "      <th>6816</th>\n",
              "      <td>14481</td>\n",
              "      <td>NaN</td>\n",
              "      <td>MED</td>\n",
              "      <td>N</td>\n",
              "      <td>W</td>\n",
              "      <td>M</td>\n",
              "      <td>40.0</td>\n",
              "      <td>N</td>\n",
              "      <td>130.96</td>\n",
              "      <td>2017-08-23 17:21:51</td>\n",
              "      <td>2017</td>\n",
              "    </tr>\n",
              "    <tr>\n",
              "      <th>6817</th>\n",
              "      <td>167979</td>\n",
              "      <td>NaN</td>\n",
              "      <td>MIN</td>\n",
              "      <td>N</td>\n",
              "      <td>B</td>\n",
              "      <td>M</td>\n",
              "      <td>43.0</td>\n",
              "      <td>N</td>\n",
              "      <td>220.41</td>\n",
              "      <td>2018-09-19 16:21:38</td>\n",
              "      <td>2018</td>\n",
              "    </tr>\n",
              "  </tbody>\n",
              "</table>\n",
              "<p>6818 rows × 11 columns</p>\n",
              "</div>"
            ],
            "text/plain": [
              "      INMATEID  DISCHARGED_DT  ...            admitted  year\n",
              "0       152258            NaN  ... 2018-08-24 01:46:33  2018\n",
              "1        89404            NaN  ... 2019-10-16 11:06:07  2019\n",
              "2         7049            NaN  ... 2019-11-10 02:32:10  2019\n",
              "3     20207729            NaN  ... 2019-10-23 03:26:50  2019\n",
              "4     20203998            NaN  ... 2019-05-02 01:35:22  2019\n",
              "...        ...            ...  ...                 ...   ...\n",
              "6813     19225            NaN  ... 2017-02-03 21:36:59  2017\n",
              "6814  20093747            NaN  ... 2018-11-14 01:38:36  2018\n",
              "6815     93606            NaN  ... 2018-01-22 23:57:24  2018\n",
              "6816     14481            NaN  ... 2017-08-23 17:21:51  2017\n",
              "6817    167979            NaN  ... 2018-09-19 16:21:38  2018\n",
              "\n",
              "[6818 rows x 11 columns]"
            ]
          },
          "metadata": {
            "tags": []
          },
          "execution_count": 19
        }
      ]
    },
    {
      "cell_type": "code",
      "metadata": {
        "id": "RWK5X7_Pesaj",
        "colab_type": "code",
        "colab": {}
      },
      "source": [
        "del df['DISCHARGED_DT']"
      ],
      "execution_count": 20,
      "outputs": []
    },
    {
      "cell_type": "code",
      "metadata": {
        "id": "nJts5Xu7fYDd",
        "colab_type": "code",
        "colab": {
          "base_uri": "https://localhost:8080/",
          "height": 419
        },
        "outputId": "9be7c2d4-acca-4f0e-84d5-75a06df8cc6f"
      },
      "source": [
        "df"
      ],
      "execution_count": 21,
      "outputs": [
        {
          "output_type": "execute_result",
          "data": {
            "text/html": [
              "<div>\n",
              "<style scoped>\n",
              "    .dataframe tbody tr th:only-of-type {\n",
              "        vertical-align: middle;\n",
              "    }\n",
              "\n",
              "    .dataframe tbody tr th {\n",
              "        vertical-align: top;\n",
              "    }\n",
              "\n",
              "    .dataframe thead th {\n",
              "        text-align: right;\n",
              "    }\n",
              "</style>\n",
              "<table border=\"1\" class=\"dataframe\">\n",
              "  <thead>\n",
              "    <tr style=\"text-align: right;\">\n",
              "      <th></th>\n",
              "      <th>INMATEID</th>\n",
              "      <th>CUSTODY_LEVEL</th>\n",
              "      <th>BRADH</th>\n",
              "      <th>RACE</th>\n",
              "      <th>GENDER</th>\n",
              "      <th>AGE</th>\n",
              "      <th>SEALED</th>\n",
              "      <th>TOP_CHARGE</th>\n",
              "      <th>admitted</th>\n",
              "      <th>year</th>\n",
              "    </tr>\n",
              "  </thead>\n",
              "  <tbody>\n",
              "    <tr>\n",
              "      <th>0</th>\n",
              "      <td>152258</td>\n",
              "      <td>MIN</td>\n",
              "      <td>Y</td>\n",
              "      <td>W</td>\n",
              "      <td>M</td>\n",
              "      <td>54.0</td>\n",
              "      <td>N</td>\n",
              "      <td>140.25</td>\n",
              "      <td>2018-08-24 01:46:33</td>\n",
              "      <td>2018</td>\n",
              "    </tr>\n",
              "    <tr>\n",
              "      <th>1</th>\n",
              "      <td>89404</td>\n",
              "      <td>MAX</td>\n",
              "      <td>N</td>\n",
              "      <td>B</td>\n",
              "      <td>M</td>\n",
              "      <td>29.0</td>\n",
              "      <td>N</td>\n",
              "      <td>120.14</td>\n",
              "      <td>2019-10-16 11:06:07</td>\n",
              "      <td>2019</td>\n",
              "    </tr>\n",
              "    <tr>\n",
              "      <th>2</th>\n",
              "      <td>7049</td>\n",
              "      <td>MAX</td>\n",
              "      <td>N</td>\n",
              "      <td>B</td>\n",
              "      <td>M</td>\n",
              "      <td>38.0</td>\n",
              "      <td>N</td>\n",
              "      <td>140.15</td>\n",
              "      <td>2019-11-10 02:32:10</td>\n",
              "      <td>2019</td>\n",
              "    </tr>\n",
              "    <tr>\n",
              "      <th>3</th>\n",
              "      <td>20207729</td>\n",
              "      <td>MIN</td>\n",
              "      <td>N</td>\n",
              "      <td>W</td>\n",
              "      <td>M</td>\n",
              "      <td>29.0</td>\n",
              "      <td>N</td>\n",
              "      <td>156.10</td>\n",
              "      <td>2019-10-23 03:26:50</td>\n",
              "      <td>2019</td>\n",
              "    </tr>\n",
              "    <tr>\n",
              "      <th>4</th>\n",
              "      <td>20203998</td>\n",
              "      <td>MAX</td>\n",
              "      <td>Y</td>\n",
              "      <td>B</td>\n",
              "      <td>M</td>\n",
              "      <td>27.0</td>\n",
              "      <td>N</td>\n",
              "      <td>125.25</td>\n",
              "      <td>2019-05-02 01:35:22</td>\n",
              "      <td>2019</td>\n",
              "    </tr>\n",
              "    <tr>\n",
              "      <th>...</th>\n",
              "      <td>...</td>\n",
              "      <td>...</td>\n",
              "      <td>...</td>\n",
              "      <td>...</td>\n",
              "      <td>...</td>\n",
              "      <td>...</td>\n",
              "      <td>...</td>\n",
              "      <td>...</td>\n",
              "      <td>...</td>\n",
              "      <td>...</td>\n",
              "    </tr>\n",
              "    <tr>\n",
              "      <th>6813</th>\n",
              "      <td>19225</td>\n",
              "      <td>MED</td>\n",
              "      <td>Y</td>\n",
              "      <td>B</td>\n",
              "      <td>M</td>\n",
              "      <td>43.0</td>\n",
              "      <td>N</td>\n",
              "      <td>125.25</td>\n",
              "      <td>2017-02-03 21:36:59</td>\n",
              "      <td>2017</td>\n",
              "    </tr>\n",
              "    <tr>\n",
              "      <th>6814</th>\n",
              "      <td>20093747</td>\n",
              "      <td>MAX</td>\n",
              "      <td>Y</td>\n",
              "      <td>B</td>\n",
              "      <td>M</td>\n",
              "      <td>46.0</td>\n",
              "      <td>N</td>\n",
              "      <td>110-125.25</td>\n",
              "      <td>2018-11-14 01:38:36</td>\n",
              "      <td>2018</td>\n",
              "    </tr>\n",
              "    <tr>\n",
              "      <th>6815</th>\n",
              "      <td>93606</td>\n",
              "      <td>MAX</td>\n",
              "      <td>Y</td>\n",
              "      <td>B</td>\n",
              "      <td>M</td>\n",
              "      <td>35.0</td>\n",
              "      <td>N</td>\n",
              "      <td>110-125.25</td>\n",
              "      <td>2018-01-22 23:57:24</td>\n",
              "      <td>2018</td>\n",
              "    </tr>\n",
              "    <tr>\n",
              "      <th>6816</th>\n",
              "      <td>14481</td>\n",
              "      <td>MED</td>\n",
              "      <td>N</td>\n",
              "      <td>W</td>\n",
              "      <td>M</td>\n",
              "      <td>40.0</td>\n",
              "      <td>N</td>\n",
              "      <td>130.96</td>\n",
              "      <td>2017-08-23 17:21:51</td>\n",
              "      <td>2017</td>\n",
              "    </tr>\n",
              "    <tr>\n",
              "      <th>6817</th>\n",
              "      <td>167979</td>\n",
              "      <td>MIN</td>\n",
              "      <td>N</td>\n",
              "      <td>B</td>\n",
              "      <td>M</td>\n",
              "      <td>43.0</td>\n",
              "      <td>N</td>\n",
              "      <td>220.41</td>\n",
              "      <td>2018-09-19 16:21:38</td>\n",
              "      <td>2018</td>\n",
              "    </tr>\n",
              "  </tbody>\n",
              "</table>\n",
              "<p>6818 rows × 10 columns</p>\n",
              "</div>"
            ],
            "text/plain": [
              "      INMATEID CUSTODY_LEVEL BRADH  ...  TOP_CHARGE            admitted  year\n",
              "0       152258           MIN     Y  ...      140.25 2018-08-24 01:46:33  2018\n",
              "1        89404           MAX     N  ...      120.14 2019-10-16 11:06:07  2019\n",
              "2         7049           MAX     N  ...      140.15 2019-11-10 02:32:10  2019\n",
              "3     20207729           MIN     N  ...      156.10 2019-10-23 03:26:50  2019\n",
              "4     20203998           MAX     Y  ...      125.25 2019-05-02 01:35:22  2019\n",
              "...        ...           ...   ...  ...         ...                 ...   ...\n",
              "6813     19225           MED     Y  ...      125.25 2017-02-03 21:36:59  2017\n",
              "6814  20093747           MAX     Y  ...  110-125.25 2018-11-14 01:38:36  2018\n",
              "6815     93606           MAX     Y  ...  110-125.25 2018-01-22 23:57:24  2018\n",
              "6816     14481           MED     N  ...      130.96 2017-08-23 17:21:51  2017\n",
              "6817    167979           MIN     N  ...      220.41 2018-09-19 16:21:38  2018\n",
              "\n",
              "[6818 rows x 10 columns]"
            ]
          },
          "metadata": {
            "tags": []
          },
          "execution_count": 21
        }
      ]
    },
    {
      "cell_type": "code",
      "metadata": {
        "id": "LClw7i3OgyHS",
        "colab_type": "code",
        "colab": {}
      },
      "source": [
        "del df['INMATEID']"
      ],
      "execution_count": 22,
      "outputs": []
    },
    {
      "cell_type": "code",
      "metadata": {
        "id": "qlV_iXbWg3qN",
        "colab_type": "code",
        "colab": {
          "base_uri": "https://localhost:8080/",
          "height": 419
        },
        "outputId": "dee5556c-d091-4389-a9e2-6bdb02526d04"
      },
      "source": [
        "df"
      ],
      "execution_count": 23,
      "outputs": [
        {
          "output_type": "execute_result",
          "data": {
            "text/html": [
              "<div>\n",
              "<style scoped>\n",
              "    .dataframe tbody tr th:only-of-type {\n",
              "        vertical-align: middle;\n",
              "    }\n",
              "\n",
              "    .dataframe tbody tr th {\n",
              "        vertical-align: top;\n",
              "    }\n",
              "\n",
              "    .dataframe thead th {\n",
              "        text-align: right;\n",
              "    }\n",
              "</style>\n",
              "<table border=\"1\" class=\"dataframe\">\n",
              "  <thead>\n",
              "    <tr style=\"text-align: right;\">\n",
              "      <th></th>\n",
              "      <th>CUSTODY_LEVEL</th>\n",
              "      <th>BRADH</th>\n",
              "      <th>RACE</th>\n",
              "      <th>GENDER</th>\n",
              "      <th>AGE</th>\n",
              "      <th>SEALED</th>\n",
              "      <th>TOP_CHARGE</th>\n",
              "      <th>admitted</th>\n",
              "      <th>year</th>\n",
              "    </tr>\n",
              "  </thead>\n",
              "  <tbody>\n",
              "    <tr>\n",
              "      <th>0</th>\n",
              "      <td>MIN</td>\n",
              "      <td>Y</td>\n",
              "      <td>W</td>\n",
              "      <td>M</td>\n",
              "      <td>54.0</td>\n",
              "      <td>N</td>\n",
              "      <td>140.25</td>\n",
              "      <td>2018-08-24 01:46:33</td>\n",
              "      <td>2018</td>\n",
              "    </tr>\n",
              "    <tr>\n",
              "      <th>1</th>\n",
              "      <td>MAX</td>\n",
              "      <td>N</td>\n",
              "      <td>B</td>\n",
              "      <td>M</td>\n",
              "      <td>29.0</td>\n",
              "      <td>N</td>\n",
              "      <td>120.14</td>\n",
              "      <td>2019-10-16 11:06:07</td>\n",
              "      <td>2019</td>\n",
              "    </tr>\n",
              "    <tr>\n",
              "      <th>2</th>\n",
              "      <td>MAX</td>\n",
              "      <td>N</td>\n",
              "      <td>B</td>\n",
              "      <td>M</td>\n",
              "      <td>38.0</td>\n",
              "      <td>N</td>\n",
              "      <td>140.15</td>\n",
              "      <td>2019-11-10 02:32:10</td>\n",
              "      <td>2019</td>\n",
              "    </tr>\n",
              "    <tr>\n",
              "      <th>3</th>\n",
              "      <td>MIN</td>\n",
              "      <td>N</td>\n",
              "      <td>W</td>\n",
              "      <td>M</td>\n",
              "      <td>29.0</td>\n",
              "      <td>N</td>\n",
              "      <td>156.10</td>\n",
              "      <td>2019-10-23 03:26:50</td>\n",
              "      <td>2019</td>\n",
              "    </tr>\n",
              "    <tr>\n",
              "      <th>4</th>\n",
              "      <td>MAX</td>\n",
              "      <td>Y</td>\n",
              "      <td>B</td>\n",
              "      <td>M</td>\n",
              "      <td>27.0</td>\n",
              "      <td>N</td>\n",
              "      <td>125.25</td>\n",
              "      <td>2019-05-02 01:35:22</td>\n",
              "      <td>2019</td>\n",
              "    </tr>\n",
              "    <tr>\n",
              "      <th>...</th>\n",
              "      <td>...</td>\n",
              "      <td>...</td>\n",
              "      <td>...</td>\n",
              "      <td>...</td>\n",
              "      <td>...</td>\n",
              "      <td>...</td>\n",
              "      <td>...</td>\n",
              "      <td>...</td>\n",
              "      <td>...</td>\n",
              "    </tr>\n",
              "    <tr>\n",
              "      <th>6813</th>\n",
              "      <td>MED</td>\n",
              "      <td>Y</td>\n",
              "      <td>B</td>\n",
              "      <td>M</td>\n",
              "      <td>43.0</td>\n",
              "      <td>N</td>\n",
              "      <td>125.25</td>\n",
              "      <td>2017-02-03 21:36:59</td>\n",
              "      <td>2017</td>\n",
              "    </tr>\n",
              "    <tr>\n",
              "      <th>6814</th>\n",
              "      <td>MAX</td>\n",
              "      <td>Y</td>\n",
              "      <td>B</td>\n",
              "      <td>M</td>\n",
              "      <td>46.0</td>\n",
              "      <td>N</td>\n",
              "      <td>110-125.25</td>\n",
              "      <td>2018-11-14 01:38:36</td>\n",
              "      <td>2018</td>\n",
              "    </tr>\n",
              "    <tr>\n",
              "      <th>6815</th>\n",
              "      <td>MAX</td>\n",
              "      <td>Y</td>\n",
              "      <td>B</td>\n",
              "      <td>M</td>\n",
              "      <td>35.0</td>\n",
              "      <td>N</td>\n",
              "      <td>110-125.25</td>\n",
              "      <td>2018-01-22 23:57:24</td>\n",
              "      <td>2018</td>\n",
              "    </tr>\n",
              "    <tr>\n",
              "      <th>6816</th>\n",
              "      <td>MED</td>\n",
              "      <td>N</td>\n",
              "      <td>W</td>\n",
              "      <td>M</td>\n",
              "      <td>40.0</td>\n",
              "      <td>N</td>\n",
              "      <td>130.96</td>\n",
              "      <td>2017-08-23 17:21:51</td>\n",
              "      <td>2017</td>\n",
              "    </tr>\n",
              "    <tr>\n",
              "      <th>6817</th>\n",
              "      <td>MIN</td>\n",
              "      <td>N</td>\n",
              "      <td>B</td>\n",
              "      <td>M</td>\n",
              "      <td>43.0</td>\n",
              "      <td>N</td>\n",
              "      <td>220.41</td>\n",
              "      <td>2018-09-19 16:21:38</td>\n",
              "      <td>2018</td>\n",
              "    </tr>\n",
              "  </tbody>\n",
              "</table>\n",
              "<p>6818 rows × 9 columns</p>\n",
              "</div>"
            ],
            "text/plain": [
              "     CUSTODY_LEVEL BRADH RACE  ...  TOP_CHARGE            admitted  year\n",
              "0              MIN     Y    W  ...      140.25 2018-08-24 01:46:33  2018\n",
              "1              MAX     N    B  ...      120.14 2019-10-16 11:06:07  2019\n",
              "2              MAX     N    B  ...      140.15 2019-11-10 02:32:10  2019\n",
              "3              MIN     N    W  ...      156.10 2019-10-23 03:26:50  2019\n",
              "4              MAX     Y    B  ...      125.25 2019-05-02 01:35:22  2019\n",
              "...            ...   ...  ...  ...         ...                 ...   ...\n",
              "6813           MED     Y    B  ...      125.25 2017-02-03 21:36:59  2017\n",
              "6814           MAX     Y    B  ...  110-125.25 2018-11-14 01:38:36  2018\n",
              "6815           MAX     Y    B  ...  110-125.25 2018-01-22 23:57:24  2018\n",
              "6816           MED     N    W  ...      130.96 2017-08-23 17:21:51  2017\n",
              "6817           MIN     N    B  ...      220.41 2018-09-19 16:21:38  2018\n",
              "\n",
              "[6818 rows x 9 columns]"
            ]
          },
          "metadata": {
            "tags": []
          },
          "execution_count": 23
        }
      ]
    },
    {
      "cell_type": "code",
      "metadata": {
        "id": "XupLjfvcap3a",
        "colab_type": "code",
        "colab": {}
      },
      "source": [
        "del df['SEALED']"
      ],
      "execution_count": 24,
      "outputs": []
    },
    {
      "cell_type": "code",
      "metadata": {
        "id": "RKLRit34atEM",
        "colab_type": "code",
        "colab": {
          "base_uri": "https://localhost:8080/",
          "height": 419
        },
        "outputId": "1281a703-beab-4dbb-e05d-55c73dd651eb"
      },
      "source": [
        "df"
      ],
      "execution_count": 25,
      "outputs": [
        {
          "output_type": "execute_result",
          "data": {
            "text/html": [
              "<div>\n",
              "<style scoped>\n",
              "    .dataframe tbody tr th:only-of-type {\n",
              "        vertical-align: middle;\n",
              "    }\n",
              "\n",
              "    .dataframe tbody tr th {\n",
              "        vertical-align: top;\n",
              "    }\n",
              "\n",
              "    .dataframe thead th {\n",
              "        text-align: right;\n",
              "    }\n",
              "</style>\n",
              "<table border=\"1\" class=\"dataframe\">\n",
              "  <thead>\n",
              "    <tr style=\"text-align: right;\">\n",
              "      <th></th>\n",
              "      <th>CUSTODY_LEVEL</th>\n",
              "      <th>BRADH</th>\n",
              "      <th>RACE</th>\n",
              "      <th>GENDER</th>\n",
              "      <th>AGE</th>\n",
              "      <th>TOP_CHARGE</th>\n",
              "      <th>admitted</th>\n",
              "      <th>year</th>\n",
              "    </tr>\n",
              "  </thead>\n",
              "  <tbody>\n",
              "    <tr>\n",
              "      <th>0</th>\n",
              "      <td>MIN</td>\n",
              "      <td>Y</td>\n",
              "      <td>W</td>\n",
              "      <td>M</td>\n",
              "      <td>54.0</td>\n",
              "      <td>140.25</td>\n",
              "      <td>2018-08-24 01:46:33</td>\n",
              "      <td>2018</td>\n",
              "    </tr>\n",
              "    <tr>\n",
              "      <th>1</th>\n",
              "      <td>MAX</td>\n",
              "      <td>N</td>\n",
              "      <td>B</td>\n",
              "      <td>M</td>\n",
              "      <td>29.0</td>\n",
              "      <td>120.14</td>\n",
              "      <td>2019-10-16 11:06:07</td>\n",
              "      <td>2019</td>\n",
              "    </tr>\n",
              "    <tr>\n",
              "      <th>2</th>\n",
              "      <td>MAX</td>\n",
              "      <td>N</td>\n",
              "      <td>B</td>\n",
              "      <td>M</td>\n",
              "      <td>38.0</td>\n",
              "      <td>140.15</td>\n",
              "      <td>2019-11-10 02:32:10</td>\n",
              "      <td>2019</td>\n",
              "    </tr>\n",
              "    <tr>\n",
              "      <th>3</th>\n",
              "      <td>MIN</td>\n",
              "      <td>N</td>\n",
              "      <td>W</td>\n",
              "      <td>M</td>\n",
              "      <td>29.0</td>\n",
              "      <td>156.10</td>\n",
              "      <td>2019-10-23 03:26:50</td>\n",
              "      <td>2019</td>\n",
              "    </tr>\n",
              "    <tr>\n",
              "      <th>4</th>\n",
              "      <td>MAX</td>\n",
              "      <td>Y</td>\n",
              "      <td>B</td>\n",
              "      <td>M</td>\n",
              "      <td>27.0</td>\n",
              "      <td>125.25</td>\n",
              "      <td>2019-05-02 01:35:22</td>\n",
              "      <td>2019</td>\n",
              "    </tr>\n",
              "    <tr>\n",
              "      <th>...</th>\n",
              "      <td>...</td>\n",
              "      <td>...</td>\n",
              "      <td>...</td>\n",
              "      <td>...</td>\n",
              "      <td>...</td>\n",
              "      <td>...</td>\n",
              "      <td>...</td>\n",
              "      <td>...</td>\n",
              "    </tr>\n",
              "    <tr>\n",
              "      <th>6813</th>\n",
              "      <td>MED</td>\n",
              "      <td>Y</td>\n",
              "      <td>B</td>\n",
              "      <td>M</td>\n",
              "      <td>43.0</td>\n",
              "      <td>125.25</td>\n",
              "      <td>2017-02-03 21:36:59</td>\n",
              "      <td>2017</td>\n",
              "    </tr>\n",
              "    <tr>\n",
              "      <th>6814</th>\n",
              "      <td>MAX</td>\n",
              "      <td>Y</td>\n",
              "      <td>B</td>\n",
              "      <td>M</td>\n",
              "      <td>46.0</td>\n",
              "      <td>110-125.25</td>\n",
              "      <td>2018-11-14 01:38:36</td>\n",
              "      <td>2018</td>\n",
              "    </tr>\n",
              "    <tr>\n",
              "      <th>6815</th>\n",
              "      <td>MAX</td>\n",
              "      <td>Y</td>\n",
              "      <td>B</td>\n",
              "      <td>M</td>\n",
              "      <td>35.0</td>\n",
              "      <td>110-125.25</td>\n",
              "      <td>2018-01-22 23:57:24</td>\n",
              "      <td>2018</td>\n",
              "    </tr>\n",
              "    <tr>\n",
              "      <th>6816</th>\n",
              "      <td>MED</td>\n",
              "      <td>N</td>\n",
              "      <td>W</td>\n",
              "      <td>M</td>\n",
              "      <td>40.0</td>\n",
              "      <td>130.96</td>\n",
              "      <td>2017-08-23 17:21:51</td>\n",
              "      <td>2017</td>\n",
              "    </tr>\n",
              "    <tr>\n",
              "      <th>6817</th>\n",
              "      <td>MIN</td>\n",
              "      <td>N</td>\n",
              "      <td>B</td>\n",
              "      <td>M</td>\n",
              "      <td>43.0</td>\n",
              "      <td>220.41</td>\n",
              "      <td>2018-09-19 16:21:38</td>\n",
              "      <td>2018</td>\n",
              "    </tr>\n",
              "  </tbody>\n",
              "</table>\n",
              "<p>6818 rows × 8 columns</p>\n",
              "</div>"
            ],
            "text/plain": [
              "     CUSTODY_LEVEL BRADH RACE  ...  TOP_CHARGE            admitted  year\n",
              "0              MIN     Y    W  ...      140.25 2018-08-24 01:46:33  2018\n",
              "1              MAX     N    B  ...      120.14 2019-10-16 11:06:07  2019\n",
              "2              MAX     N    B  ...      140.15 2019-11-10 02:32:10  2019\n",
              "3              MIN     N    W  ...      156.10 2019-10-23 03:26:50  2019\n",
              "4              MAX     Y    B  ...      125.25 2019-05-02 01:35:22  2019\n",
              "...            ...   ...  ...  ...         ...                 ...   ...\n",
              "6813           MED     Y    B  ...      125.25 2017-02-03 21:36:59  2017\n",
              "6814           MAX     Y    B  ...  110-125.25 2018-11-14 01:38:36  2018\n",
              "6815           MAX     Y    B  ...  110-125.25 2018-01-22 23:57:24  2018\n",
              "6816           MED     N    W  ...      130.96 2017-08-23 17:21:51  2017\n",
              "6817           MIN     N    B  ...      220.41 2018-09-19 16:21:38  2018\n",
              "\n",
              "[6818 rows x 8 columns]"
            ]
          },
          "metadata": {
            "tags": []
          },
          "execution_count": 25
        }
      ]
    },
    {
      "cell_type": "markdown",
      "metadata": {
        "id": "0QLwFqpehiHQ",
        "colab_type": "text"
      },
      "source": [
        "##Finding the races and value counts"
      ]
    },
    {
      "cell_type": "code",
      "metadata": {
        "id": "N-VjxUyHh_ii",
        "colab_type": "code",
        "colab": {
          "base_uri": "https://localhost:8080/",
          "height": 136
        },
        "outputId": "e499182b-2e58-4341-96de-d009c0942e4e"
      },
      "source": [
        "df['RACE'].value_counts()"
      ],
      "execution_count": 26,
      "outputs": [
        {
          "output_type": "execute_result",
          "data": {
            "text/plain": [
              "B    3845\n",
              "O    2082\n",
              "W     729\n",
              "A     106\n",
              "I      14\n",
              "U      13\n",
              "Name: RACE, dtype: int64"
            ]
          },
          "metadata": {
            "tags": []
          },
          "execution_count": 26
        }
      ]
    },
    {
      "cell_type": "code",
      "metadata": {
        "id": "-z7CX0dV6h_s",
        "colab_type": "code",
        "colab": {
          "base_uri": "https://localhost:8080/",
          "height": 68
        },
        "outputId": "a0f2fbdb-7c76-4e2a-b3e9-e1e7c43668d2"
      },
      "source": [
        "df['GENDER'].value_counts()"
      ],
      "execution_count": 27,
      "outputs": [
        {
          "output_type": "execute_result",
          "data": {
            "text/plain": [
              "M    6420\n",
              "F     369\n",
              "Name: GENDER, dtype: int64"
            ]
          },
          "metadata": {
            "tags": []
          },
          "execution_count": 27
        }
      ]
    },
    {
      "cell_type": "code",
      "metadata": {
        "id": "dscfeesf6ol1",
        "colab_type": "code",
        "colab": {
          "base_uri": "https://localhost:8080/",
          "height": 221
        },
        "outputId": "7e8187db-5c9b-465e-d148-00ab424c743d"
      },
      "source": [
        "df['AGE'].value_counts()"
      ],
      "execution_count": 28,
      "outputs": [
        {
          "output_type": "execute_result",
          "data": {
            "text/plain": [
              "29.0    268\n",
              "28.0    258\n",
              "27.0    256\n",
              "30.0    246\n",
              "32.0    238\n",
              "       ... \n",
              "77.0      2\n",
              "82.0      2\n",
              "78.0      1\n",
              "90.0      1\n",
              "75.0      1\n",
              "Name: AGE, Length: 63, dtype: int64"
            ]
          },
          "metadata": {
            "tags": []
          },
          "execution_count": 28
        }
      ]
    },
    {
      "cell_type": "code",
      "metadata": {
        "id": "B_kdplbx6wF_",
        "colab_type": "code",
        "colab": {
          "base_uri": "https://localhost:8080/",
          "height": 187
        },
        "outputId": "8a862c7c-2222-4df3-9b97-aa2e33855f06"
      },
      "source": [
        "df['year'].value_counts()"
      ],
      "execution_count": 29,
      "outputs": [
        {
          "output_type": "execute_result",
          "data": {
            "text/plain": [
              "2019    5584\n",
              "2018     933\n",
              "2017     218\n",
              "2016      62\n",
              "2015      14\n",
              "2014       2\n",
              "2013       2\n",
              "2012       2\n",
              "1991       1\n",
              "Name: year, dtype: int64"
            ]
          },
          "metadata": {
            "tags": []
          },
          "execution_count": 29
        }
      ]
    },
    {
      "cell_type": "markdown",
      "metadata": {
        "id": "ggKHFNOQkICi",
        "colab_type": "text"
      },
      "source": [
        "##checking for any null values"
      ]
    },
    {
      "cell_type": "code",
      "metadata": {
        "id": "gRKrJ0P5kAAV",
        "colab_type": "code",
        "colab": {
          "base_uri": "https://localhost:8080/",
          "height": 170
        },
        "outputId": "7c192d2e-7ca2-4985-e59d-6a6e7bea7f00"
      },
      "source": [
        "df.isnull().sum()"
      ],
      "execution_count": 30,
      "outputs": [
        {
          "output_type": "execute_result",
          "data": {
            "text/plain": [
              "CUSTODY_LEVEL     115\n",
              "BRADH               0\n",
              "RACE               29\n",
              "GENDER             29\n",
              "AGE                13\n",
              "TOP_CHARGE       1023\n",
              "admitted            0\n",
              "year                0\n",
              "dtype: int64"
            ]
          },
          "metadata": {
            "tags": []
          },
          "execution_count": 30
        }
      ]
    },
    {
      "cell_type": "code",
      "metadata": {
        "id": "LdRD6Kgyeqzk",
        "colab_type": "code",
        "colab": {}
      },
      "source": [
        "df[\"GENDER\"] = df[\"GENDER\"].fillna(0)"
      ],
      "execution_count": 31,
      "outputs": []
    },
    {
      "cell_type": "code",
      "metadata": {
        "id": "ZWgCnmPR68VQ",
        "colab_type": "code",
        "colab": {
          "base_uri": "https://localhost:8080/",
          "height": 170
        },
        "outputId": "6ba25975-61f6-4c05-f69a-40de4d4d0580"
      },
      "source": [
        "df.isnull().sum()"
      ],
      "execution_count": 32,
      "outputs": [
        {
          "output_type": "execute_result",
          "data": {
            "text/plain": [
              "CUSTODY_LEVEL     115\n",
              "BRADH               0\n",
              "RACE               29\n",
              "GENDER              0\n",
              "AGE                13\n",
              "TOP_CHARGE       1023\n",
              "admitted            0\n",
              "year                0\n",
              "dtype: int64"
            ]
          },
          "metadata": {
            "tags": []
          },
          "execution_count": 32
        }
      ]
    },
    {
      "cell_type": "code",
      "metadata": {
        "id": "QxtvAMJVevNL",
        "colab_type": "code",
        "colab": {}
      },
      "source": [
        "df[\"RACE\"] = df[\"RACE\"].fillna(0)"
      ],
      "execution_count": 33,
      "outputs": []
    },
    {
      "cell_type": "code",
      "metadata": {
        "id": "8VKOlZZyeNLo",
        "colab_type": "code",
        "colab": {
          "base_uri": "https://localhost:8080/",
          "height": 170
        },
        "outputId": "1ea9aa13-c87f-4acc-cb23-662b829835e3"
      },
      "source": [
        "df.isnull().sum()"
      ],
      "execution_count": 34,
      "outputs": [
        {
          "output_type": "execute_result",
          "data": {
            "text/plain": [
              "CUSTODY_LEVEL     115\n",
              "BRADH               0\n",
              "RACE                0\n",
              "GENDER              0\n",
              "AGE                13\n",
              "TOP_CHARGE       1023\n",
              "admitted            0\n",
              "year                0\n",
              "dtype: int64"
            ]
          },
          "metadata": {
            "tags": []
          },
          "execution_count": 34
        }
      ]
    },
    {
      "cell_type": "code",
      "metadata": {
        "id": "Ug6nrnsQ7Dhm",
        "colab_type": "code",
        "colab": {}
      },
      "source": [
        "df[\"AGE\"] = df[\"AGE\"].fillna(0)"
      ],
      "execution_count": 35,
      "outputs": []
    },
    {
      "cell_type": "code",
      "metadata": {
        "id": "iSX-iTz37KrS",
        "colab_type": "code",
        "colab": {
          "base_uri": "https://localhost:8080/",
          "height": 170
        },
        "outputId": "962de265-d1a7-43ea-e2be-6d52f3773535"
      },
      "source": [
        "df.isnull().sum()"
      ],
      "execution_count": 36,
      "outputs": [
        {
          "output_type": "execute_result",
          "data": {
            "text/plain": [
              "CUSTODY_LEVEL     115\n",
              "BRADH               0\n",
              "RACE                0\n",
              "GENDER              0\n",
              "AGE                 0\n",
              "TOP_CHARGE       1023\n",
              "admitted            0\n",
              "year                0\n",
              "dtype: int64"
            ]
          },
          "metadata": {
            "tags": []
          },
          "execution_count": 36
        }
      ]
    },
    {
      "cell_type": "code",
      "metadata": {
        "id": "az_8OOB0Bs9a",
        "colab_type": "code",
        "colab": {}
      },
      "source": [
        "df[\"year\"] = df[\"year\"].fillna(0)"
      ],
      "execution_count": 37,
      "outputs": []
    },
    {
      "cell_type": "markdown",
      "metadata": {
        "id": "qgIeb3mpHUze",
        "colab_type": "text"
      },
      "source": [
        "##scatter plotting by age\n",
        "##after scatter plotting age i come to the conclusion that around the age of 29 was the highest amount of incarceration."
      ]
    },
    {
      "cell_type": "code",
      "metadata": {
        "id": "aiuQymjAcNx5",
        "colab_type": "code",
        "colab": {
          "base_uri": "https://localhost:8080/",
          "height": 295
        },
        "outputId": "8aad5643-a6a5-4bfa-bfcb-739f0bc07da6"
      },
      "source": [
        "import matplotlib.pyplot as plt\n",
        "\n",
        "age_sort = df.groupby('AGE').count().reset_index()\n",
        "age_x = age_sort.iloc[:,0]\n",
        "age_y = age_sort.iloc[:,1]\n",
        "data = [plt.scatter(x=age_x, y=age_y)]\n",
        "\n",
        "plt.title('Incarceration by age')\n",
        "plt.xlabel('AGE')\n",
        "plt.ylabel('values')\n",
        "plt;"
      ],
      "execution_count": 38,
      "outputs": [
        {
          "output_type": "display_data",
          "data": {
            "image/png": "[encoded data removed]",
            "text/plain": [
              "<Figure size 432x288 with 1 Axes>"
            ]
          },
          "metadata": {
            "tags": [],
            "needs_background": "light"
          }
        }
      ]
    },
    {
      "cell_type": "code",
      "metadata": {
        "id": "ONZx1jzkhZZx",
        "colab_type": "code",
        "colab": {
          "base_uri": "https://localhost:8080/",
          "height": 187
        },
        "outputId": "e2e20efb-edd7-4e2d-bfe3-827a7eedbf4b"
      },
      "source": [
        "age_race = df.groupby(['AGE','RACE']).count().reset_index()\n",
        "age_race_pivot = age_race.pivot(columns=\"RACE\", index=\"AGE\").reset_index()\n",
        "print(\"age_race_pivot \\n\", age_race_pivot.head())"
      ],
      "execution_count": 39,
      "outputs": [
        {
          "output_type": "stream",
          "text": [
            "age_race_pivot \n",
            "        AGE CUSTODY_LEVEL                       ... year                          \n",
            "RACE                   0    A     B   I     O  ...    A     B   I     O    U    W\n",
            "0      0.0           2.0  NaN   NaN NaN   NaN  ...  NaN   NaN NaN   NaN  NaN  NaN\n",
            "1     17.0           NaN  NaN  21.0 NaN  10.0  ...  NaN  26.0 NaN  11.0  NaN  1.0\n",
            "2     18.0           NaN  NaN  69.0 NaN  16.0  ...  NaN  70.0 NaN  17.0  NaN  6.0\n",
            "3     19.0           NaN  2.0  84.0 NaN  40.0  ...  2.0  85.0 NaN  41.0  NaN  2.0\n",
            "4     20.0           NaN  2.0  94.0 NaN  50.0  ...  2.0  96.0 NaN  51.0  1.0  5.0\n",
            "\n",
            "[5 rows x 43 columns]\n"
          ],
          "name": "stdout"
        }
      ]
    },
    {
      "cell_type": "code",
      "metadata": {
        "id": "8EFApNDytsjt",
        "colab_type": "code",
        "colab": {
          "base_uri": "https://localhost:8080/",
          "height": 204
        },
        "outputId": "51d942d8-2372-4a1a-969f-56608a45417f"
      },
      "source": [
        "df['GENDER'] = df['GENDER'].replace(['F','M'],[0,1])\n",
        "df.head()"
      ],
      "execution_count": 40,
      "outputs": [
        {
          "output_type": "execute_result",
          "data": {
            "text/html": [
              "<div>\n",
              "<style scoped>\n",
              "    .dataframe tbody tr th:only-of-type {\n",
              "        vertical-align: middle;\n",
              "    }\n",
              "\n",
              "    .dataframe tbody tr th {\n",
              "        vertical-align: top;\n",
              "    }\n",
              "\n",
              "    .dataframe thead th {\n",
              "        text-align: right;\n",
              "    }\n",
              "</style>\n",
              "<table border=\"1\" class=\"dataframe\">\n",
              "  <thead>\n",
              "    <tr style=\"text-align: right;\">\n",
              "      <th></th>\n",
              "      <th>CUSTODY_LEVEL</th>\n",
              "      <th>BRADH</th>\n",
              "      <th>RACE</th>\n",
              "      <th>GENDER</th>\n",
              "      <th>AGE</th>\n",
              "      <th>TOP_CHARGE</th>\n",
              "      <th>admitted</th>\n",
              "      <th>year</th>\n",
              "    </tr>\n",
              "  </thead>\n",
              "  <tbody>\n",
              "    <tr>\n",
              "      <th>0</th>\n",
              "      <td>MIN</td>\n",
              "      <td>Y</td>\n",
              "      <td>W</td>\n",
              "      <td>1</td>\n",
              "      <td>54.0</td>\n",
              "      <td>140.25</td>\n",
              "      <td>2018-08-24 01:46:33</td>\n",
              "      <td>2018</td>\n",
              "    </tr>\n",
              "    <tr>\n",
              "      <th>1</th>\n",
              "      <td>MAX</td>\n",
              "      <td>N</td>\n",
              "      <td>B</td>\n",
              "      <td>1</td>\n",
              "      <td>29.0</td>\n",
              "      <td>120.14</td>\n",
              "      <td>2019-10-16 11:06:07</td>\n",
              "      <td>2019</td>\n",
              "    </tr>\n",
              "    <tr>\n",
              "      <th>2</th>\n",
              "      <td>MAX</td>\n",
              "      <td>N</td>\n",
              "      <td>B</td>\n",
              "      <td>1</td>\n",
              "      <td>38.0</td>\n",
              "      <td>140.15</td>\n",
              "      <td>2019-11-10 02:32:10</td>\n",
              "      <td>2019</td>\n",
              "    </tr>\n",
              "    <tr>\n",
              "      <th>3</th>\n",
              "      <td>MIN</td>\n",
              "      <td>N</td>\n",
              "      <td>W</td>\n",
              "      <td>1</td>\n",
              "      <td>29.0</td>\n",
              "      <td>156.10</td>\n",
              "      <td>2019-10-23 03:26:50</td>\n",
              "      <td>2019</td>\n",
              "    </tr>\n",
              "    <tr>\n",
              "      <th>4</th>\n",
              "      <td>MAX</td>\n",
              "      <td>Y</td>\n",
              "      <td>B</td>\n",
              "      <td>1</td>\n",
              "      <td>27.0</td>\n",
              "      <td>125.25</td>\n",
              "      <td>2019-05-02 01:35:22</td>\n",
              "      <td>2019</td>\n",
              "    </tr>\n",
              "  </tbody>\n",
              "</table>\n",
              "</div>"
            ],
            "text/plain": [
              "  CUSTODY_LEVEL BRADH RACE  GENDER   AGE TOP_CHARGE            admitted  year\n",
              "0           MIN     Y    W       1  54.0     140.25 2018-08-24 01:46:33  2018\n",
              "1           MAX     N    B       1  29.0     120.14 2019-10-16 11:06:07  2019\n",
              "2           MAX     N    B       1  38.0     140.15 2019-11-10 02:32:10  2019\n",
              "3           MIN     N    W       1  29.0     156.10 2019-10-23 03:26:50  2019\n",
              "4           MAX     Y    B       1  27.0     125.25 2019-05-02 01:35:22  2019"
            ]
          },
          "metadata": {
            "tags": []
          },
          "execution_count": 40
        }
      ]
    },
    {
      "cell_type": "code",
      "metadata": {
        "id": "heJVXBWeups0",
        "colab_type": "code",
        "colab": {
          "base_uri": "https://localhost:8080/",
          "height": 204
        },
        "outputId": "b675d6a5-526b-4dcd-ff7f-422cd275c927"
      },
      "source": [
        "df.head()"
      ],
      "execution_count": 41,
      "outputs": [
        {
          "output_type": "execute_result",
          "data": {
            "text/html": [
              "<div>\n",
              "<style scoped>\n",
              "    .dataframe tbody tr th:only-of-type {\n",
              "        vertical-align: middle;\n",
              "    }\n",
              "\n",
              "    .dataframe tbody tr th {\n",
              "        vertical-align: top;\n",
              "    }\n",
              "\n",
              "    .dataframe thead th {\n",
              "        text-align: right;\n",
              "    }\n",
              "</style>\n",
              "<table border=\"1\" class=\"dataframe\">\n",
              "  <thead>\n",
              "    <tr style=\"text-align: right;\">\n",
              "      <th></th>\n",
              "      <th>CUSTODY_LEVEL</th>\n",
              "      <th>BRADH</th>\n",
              "      <th>RACE</th>\n",
              "      <th>GENDER</th>\n",
              "      <th>AGE</th>\n",
              "      <th>TOP_CHARGE</th>\n",
              "      <th>admitted</th>\n",
              "      <th>year</th>\n",
              "    </tr>\n",
              "  </thead>\n",
              "  <tbody>\n",
              "    <tr>\n",
              "      <th>0</th>\n",
              "      <td>MIN</td>\n",
              "      <td>Y</td>\n",
              "      <td>W</td>\n",
              "      <td>1</td>\n",
              "      <td>54.0</td>\n",
              "      <td>140.25</td>\n",
              "      <td>2018-08-24 01:46:33</td>\n",
              "      <td>2018</td>\n",
              "    </tr>\n",
              "    <tr>\n",
              "      <th>1</th>\n",
              "      <td>MAX</td>\n",
              "      <td>N</td>\n",
              "      <td>B</td>\n",
              "      <td>1</td>\n",
              "      <td>29.0</td>\n",
              "      <td>120.14</td>\n",
              "      <td>2019-10-16 11:06:07</td>\n",
              "      <td>2019</td>\n",
              "    </tr>\n",
              "    <tr>\n",
              "      <th>2</th>\n",
              "      <td>MAX</td>\n",
              "      <td>N</td>\n",
              "      <td>B</td>\n",
              "      <td>1</td>\n",
              "      <td>38.0</td>\n",
              "      <td>140.15</td>\n",
              "      <td>2019-11-10 02:32:10</td>\n",
              "      <td>2019</td>\n",
              "    </tr>\n",
              "    <tr>\n",
              "      <th>3</th>\n",
              "      <td>MIN</td>\n",
              "      <td>N</td>\n",
              "      <td>W</td>\n",
              "      <td>1</td>\n",
              "      <td>29.0</td>\n",
              "      <td>156.10</td>\n",
              "      <td>2019-10-23 03:26:50</td>\n",
              "      <td>2019</td>\n",
              "    </tr>\n",
              "    <tr>\n",
              "      <th>4</th>\n",
              "      <td>MAX</td>\n",
              "      <td>Y</td>\n",
              "      <td>B</td>\n",
              "      <td>1</td>\n",
              "      <td>27.0</td>\n",
              "      <td>125.25</td>\n",
              "      <td>2019-05-02 01:35:22</td>\n",
              "      <td>2019</td>\n",
              "    </tr>\n",
              "  </tbody>\n",
              "</table>\n",
              "</div>"
            ],
            "text/plain": [
              "  CUSTODY_LEVEL BRADH RACE  GENDER   AGE TOP_CHARGE            admitted  year\n",
              "0           MIN     Y    W       1  54.0     140.25 2018-08-24 01:46:33  2018\n",
              "1           MAX     N    B       1  29.0     120.14 2019-10-16 11:06:07  2019\n",
              "2           MAX     N    B       1  38.0     140.15 2019-11-10 02:32:10  2019\n",
              "3           MIN     N    W       1  29.0     156.10 2019-10-23 03:26:50  2019\n",
              "4           MAX     Y    B       1  27.0     125.25 2019-05-02 01:35:22  2019"
            ]
          },
          "metadata": {
            "tags": []
          },
          "execution_count": 41
        }
      ]
    },
    {
      "cell_type": "code",
      "metadata": {
        "id": "UECe_razuNPe",
        "colab_type": "code",
        "colab": {
          "base_uri": "https://localhost:8080/",
          "height": 272
        },
        "outputId": "90f54f74-ae47-4e45-bdde-feb03504ccdf"
      },
      "source": [
        "df.info()"
      ],
      "execution_count": 42,
      "outputs": [
        {
          "output_type": "stream",
          "text": [
            "<class 'pandas.core.frame.DataFrame'>\n",
            "RangeIndex: 6818 entries, 0 to 6817\n",
            "Data columns (total 8 columns):\n",
            " #   Column         Non-Null Count  Dtype         \n",
            "---  ------         --------------  -----         \n",
            " 0   CUSTODY_LEVEL  6703 non-null   object        \n",
            " 1   BRADH          6818 non-null   object        \n",
            " 2   RACE           6818 non-null   object        \n",
            " 3   GENDER         6818 non-null   int64         \n",
            " 4   AGE            6818 non-null   float64       \n",
            " 5   TOP_CHARGE     5795 non-null   object        \n",
            " 6   admitted       6818 non-null   datetime64[ns]\n",
            " 7   year           6818 non-null   int64         \n",
            "dtypes: datetime64[ns](1), float64(1), int64(2), object(4)\n",
            "memory usage: 426.2+ KB\n"
          ],
          "name": "stdout"
        }
      ]
    },
    {
      "cell_type": "code",
      "metadata": {
        "id": "4SBiJ4qquwxd",
        "colab_type": "code",
        "colab": {
          "base_uri": "https://localhost:8080/",
          "height": 419
        },
        "outputId": "587db088-6795-4d82-90e0-022bdbde469c"
      },
      "source": [
        "df['GENDER'] = df['GENDER'].astype(int)\n",
        "df"
      ],
      "execution_count": 43,
      "outputs": [
        {
          "output_type": "execute_result",
          "data": {
            "text/html": [
              "<div>\n",
              "<style scoped>\n",
              "    .dataframe tbody tr th:only-of-type {\n",
              "        vertical-align: middle;\n",
              "    }\n",
              "\n",
              "    .dataframe tbody tr th {\n",
              "        vertical-align: top;\n",
              "    }\n",
              "\n",
              "    .dataframe thead th {\n",
              "        text-align: right;\n",
              "    }\n",
              "</style>\n",
              "<table border=\"1\" class=\"dataframe\">\n",
              "  <thead>\n",
              "    <tr style=\"text-align: right;\">\n",
              "      <th></th>\n",
              "      <th>CUSTODY_LEVEL</th>\n",
              "      <th>BRADH</th>\n",
              "      <th>RACE</th>\n",
              "      <th>GENDER</th>\n",
              "      <th>AGE</th>\n",
              "      <th>TOP_CHARGE</th>\n",
              "      <th>admitted</th>\n",
              "      <th>year</th>\n",
              "    </tr>\n",
              "  </thead>\n",
              "  <tbody>\n",
              "    <tr>\n",
              "      <th>0</th>\n",
              "      <td>MIN</td>\n",
              "      <td>Y</td>\n",
              "      <td>W</td>\n",
              "      <td>1</td>\n",
              "      <td>54.0</td>\n",
              "      <td>140.25</td>\n",
              "      <td>2018-08-24 01:46:33</td>\n",
              "      <td>2018</td>\n",
              "    </tr>\n",
              "    <tr>\n",
              "      <th>1</th>\n",
              "      <td>MAX</td>\n",
              "      <td>N</td>\n",
              "      <td>B</td>\n",
              "      <td>1</td>\n",
              "      <td>29.0</td>\n",
              "      <td>120.14</td>\n",
              "      <td>2019-10-16 11:06:07</td>\n",
              "      <td>2019</td>\n",
              "    </tr>\n",
              "    <tr>\n",
              "      <th>2</th>\n",
              "      <td>MAX</td>\n",
              "      <td>N</td>\n",
              "      <td>B</td>\n",
              "      <td>1</td>\n",
              "      <td>38.0</td>\n",
              "      <td>140.15</td>\n",
              "      <td>2019-11-10 02:32:10</td>\n",
              "      <td>2019</td>\n",
              "    </tr>\n",
              "    <tr>\n",
              "      <th>3</th>\n",
              "      <td>MIN</td>\n",
              "      <td>N</td>\n",
              "      <td>W</td>\n",
              "      <td>1</td>\n",
              "      <td>29.0</td>\n",
              "      <td>156.10</td>\n",
              "      <td>2019-10-23 03:26:50</td>\n",
              "      <td>2019</td>\n",
              "    </tr>\n",
              "    <tr>\n",
              "      <th>4</th>\n",
              "      <td>MAX</td>\n",
              "      <td>Y</td>\n",
              "      <td>B</td>\n",
              "      <td>1</td>\n",
              "      <td>27.0</td>\n",
              "      <td>125.25</td>\n",
              "      <td>2019-05-02 01:35:22</td>\n",
              "      <td>2019</td>\n",
              "    </tr>\n",
              "    <tr>\n",
              "      <th>...</th>\n",
              "      <td>...</td>\n",
              "      <td>...</td>\n",
              "      <td>...</td>\n",
              "      <td>...</td>\n",
              "      <td>...</td>\n",
              "      <td>...</td>\n",
              "      <td>...</td>\n",
              "      <td>...</td>\n",
              "    </tr>\n",
              "    <tr>\n",
              "      <th>6813</th>\n",
              "      <td>MED</td>\n",
              "      <td>Y</td>\n",
              "      <td>B</td>\n",
              "      <td>1</td>\n",
              "      <td>43.0</td>\n",
              "      <td>125.25</td>\n",
              "      <td>2017-02-03 21:36:59</td>\n",
              "      <td>2017</td>\n",
              "    </tr>\n",
              "    <tr>\n",
              "      <th>6814</th>\n",
              "      <td>MAX</td>\n",
              "      <td>Y</td>\n",
              "      <td>B</td>\n",
              "      <td>1</td>\n",
              "      <td>46.0</td>\n",
              "      <td>110-125.25</td>\n",
              "      <td>2018-11-14 01:38:36</td>\n",
              "      <td>2018</td>\n",
              "    </tr>\n",
              "    <tr>\n",
              "      <th>6815</th>\n",
              "      <td>MAX</td>\n",
              "      <td>Y</td>\n",
              "      <td>B</td>\n",
              "      <td>1</td>\n",
              "      <td>35.0</td>\n",
              "      <td>110-125.25</td>\n",
              "      <td>2018-01-22 23:57:24</td>\n",
              "      <td>2018</td>\n",
              "    </tr>\n",
              "    <tr>\n",
              "      <th>6816</th>\n",
              "      <td>MED</td>\n",
              "      <td>N</td>\n",
              "      <td>W</td>\n",
              "      <td>1</td>\n",
              "      <td>40.0</td>\n",
              "      <td>130.96</td>\n",
              "      <td>2017-08-23 17:21:51</td>\n",
              "      <td>2017</td>\n",
              "    </tr>\n",
              "    <tr>\n",
              "      <th>6817</th>\n",
              "      <td>MIN</td>\n",
              "      <td>N</td>\n",
              "      <td>B</td>\n",
              "      <td>1</td>\n",
              "      <td>43.0</td>\n",
              "      <td>220.41</td>\n",
              "      <td>2018-09-19 16:21:38</td>\n",
              "      <td>2018</td>\n",
              "    </tr>\n",
              "  </tbody>\n",
              "</table>\n",
              "<p>6818 rows × 8 columns</p>\n",
              "</div>"
            ],
            "text/plain": [
              "     CUSTODY_LEVEL BRADH RACE  ...  TOP_CHARGE            admitted  year\n",
              "0              MIN     Y    W  ...      140.25 2018-08-24 01:46:33  2018\n",
              "1              MAX     N    B  ...      120.14 2019-10-16 11:06:07  2019\n",
              "2              MAX     N    B  ...      140.15 2019-11-10 02:32:10  2019\n",
              "3              MIN     N    W  ...      156.10 2019-10-23 03:26:50  2019\n",
              "4              MAX     Y    B  ...      125.25 2019-05-02 01:35:22  2019\n",
              "...            ...   ...  ...  ...         ...                 ...   ...\n",
              "6813           MED     Y    B  ...      125.25 2017-02-03 21:36:59  2017\n",
              "6814           MAX     Y    B  ...  110-125.25 2018-11-14 01:38:36  2018\n",
              "6815           MAX     Y    B  ...  110-125.25 2018-01-22 23:57:24  2018\n",
              "6816           MED     N    W  ...      130.96 2017-08-23 17:21:51  2017\n",
              "6817           MIN     N    B  ...      220.41 2018-09-19 16:21:38  2018\n",
              "\n",
              "[6818 rows x 8 columns]"
            ]
          },
          "metadata": {
            "tags": []
          },
          "execution_count": 43
        }
      ]
    },
    {
      "cell_type": "markdown",
      "metadata": {
        "id": "2u_JxeduTYq3",
        "colab_type": "text"
      },
      "source": [
        "## made a bar chart to see if the yearly arrest rate has been higher over the years which came out true "
      ]
    },
    {
      "cell_type": "code",
      "metadata": {
        "id": "1YKLQHqkfRmC",
        "colab_type": "code",
        "colab": {}
      },
      "source": [
        "df['RACE'] = df['RACE'].replace(['B','O','W','A','I','U'],[0,1,2,3,4,5])"
      ],
      "execution_count": 44,
      "outputs": []
    },
    {
      "cell_type": "code",
      "metadata": {
        "id": "JwyB-ARyg0zb",
        "colab_type": "code",
        "colab": {
          "base_uri": "https://localhost:8080/",
          "height": 419
        },
        "outputId": "37234d1e-3136-452d-a14b-f690bbeb84bb"
      },
      "source": [
        "df"
      ],
      "execution_count": 45,
      "outputs": [
        {
          "output_type": "execute_result",
          "data": {
            "text/html": [
              "<div>\n",
              "<style scoped>\n",
              "    .dataframe tbody tr th:only-of-type {\n",
              "        vertical-align: middle;\n",
              "    }\n",
              "\n",
              "    .dataframe tbody tr th {\n",
              "        vertical-align: top;\n",
              "    }\n",
              "\n",
              "    .dataframe thead th {\n",
              "        text-align: right;\n",
              "    }\n",
              "</style>\n",
              "<table border=\"1\" class=\"dataframe\">\n",
              "  <thead>\n",
              "    <tr style=\"text-align: right;\">\n",
              "      <th></th>\n",
              "      <th>CUSTODY_LEVEL</th>\n",
              "      <th>BRADH</th>\n",
              "      <th>RACE</th>\n",
              "      <th>GENDER</th>\n",
              "      <th>AGE</th>\n",
              "      <th>TOP_CHARGE</th>\n",
              "      <th>admitted</th>\n",
              "      <th>year</th>\n",
              "    </tr>\n",
              "  </thead>\n",
              "  <tbody>\n",
              "    <tr>\n",
              "      <th>0</th>\n",
              "      <td>MIN</td>\n",
              "      <td>Y</td>\n",
              "      <td>2</td>\n",
              "      <td>1</td>\n",
              "      <td>54.0</td>\n",
              "      <td>140.25</td>\n",
              "      <td>2018-08-24 01:46:33</td>\n",
              "      <td>2018</td>\n",
              "    </tr>\n",
              "    <tr>\n",
              "      <th>1</th>\n",
              "      <td>MAX</td>\n",
              "      <td>N</td>\n",
              "      <td>0</td>\n",
              "      <td>1</td>\n",
              "      <td>29.0</td>\n",
              "      <td>120.14</td>\n",
              "      <td>2019-10-16 11:06:07</td>\n",
              "      <td>2019</td>\n",
              "    </tr>\n",
              "    <tr>\n",
              "      <th>2</th>\n",
              "      <td>MAX</td>\n",
              "      <td>N</td>\n",
              "      <td>0</td>\n",
              "      <td>1</td>\n",
              "      <td>38.0</td>\n",
              "      <td>140.15</td>\n",
              "      <td>2019-11-10 02:32:10</td>\n",
              "      <td>2019</td>\n",
              "    </tr>\n",
              "    <tr>\n",
              "      <th>3</th>\n",
              "      <td>MIN</td>\n",
              "      <td>N</td>\n",
              "      <td>2</td>\n",
              "      <td>1</td>\n",
              "      <td>29.0</td>\n",
              "      <td>156.10</td>\n",
              "      <td>2019-10-23 03:26:50</td>\n",
              "      <td>2019</td>\n",
              "    </tr>\n",
              "    <tr>\n",
              "      <th>4</th>\n",
              "      <td>MAX</td>\n",
              "      <td>Y</td>\n",
              "      <td>0</td>\n",
              "      <td>1</td>\n",
              "      <td>27.0</td>\n",
              "      <td>125.25</td>\n",
              "      <td>2019-05-02 01:35:22</td>\n",
              "      <td>2019</td>\n",
              "    </tr>\n",
              "    <tr>\n",
              "      <th>...</th>\n",
              "      <td>...</td>\n",
              "      <td>...</td>\n",
              "      <td>...</td>\n",
              "      <td>...</td>\n",
              "      <td>...</td>\n",
              "      <td>...</td>\n",
              "      <td>...</td>\n",
              "      <td>...</td>\n",
              "    </tr>\n",
              "    <tr>\n",
              "      <th>6813</th>\n",
              "      <td>MED</td>\n",
              "      <td>Y</td>\n",
              "      <td>0</td>\n",
              "      <td>1</td>\n",
              "      <td>43.0</td>\n",
              "      <td>125.25</td>\n",
              "      <td>2017-02-03 21:36:59</td>\n",
              "      <td>2017</td>\n",
              "    </tr>\n",
              "    <tr>\n",
              "      <th>6814</th>\n",
              "      <td>MAX</td>\n",
              "      <td>Y</td>\n",
              "      <td>0</td>\n",
              "      <td>1</td>\n",
              "      <td>46.0</td>\n",
              "      <td>110-125.25</td>\n",
              "      <td>2018-11-14 01:38:36</td>\n",
              "      <td>2018</td>\n",
              "    </tr>\n",
              "    <tr>\n",
              "      <th>6815</th>\n",
              "      <td>MAX</td>\n",
              "      <td>Y</td>\n",
              "      <td>0</td>\n",
              "      <td>1</td>\n",
              "      <td>35.0</td>\n",
              "      <td>110-125.25</td>\n",
              "      <td>2018-01-22 23:57:24</td>\n",
              "      <td>2018</td>\n",
              "    </tr>\n",
              "    <tr>\n",
              "      <th>6816</th>\n",
              "      <td>MED</td>\n",
              "      <td>N</td>\n",
              "      <td>2</td>\n",
              "      <td>1</td>\n",
              "      <td>40.0</td>\n",
              "      <td>130.96</td>\n",
              "      <td>2017-08-23 17:21:51</td>\n",
              "      <td>2017</td>\n",
              "    </tr>\n",
              "    <tr>\n",
              "      <th>6817</th>\n",
              "      <td>MIN</td>\n",
              "      <td>N</td>\n",
              "      <td>0</td>\n",
              "      <td>1</td>\n",
              "      <td>43.0</td>\n",
              "      <td>220.41</td>\n",
              "      <td>2018-09-19 16:21:38</td>\n",
              "      <td>2018</td>\n",
              "    </tr>\n",
              "  </tbody>\n",
              "</table>\n",
              "<p>6818 rows × 8 columns</p>\n",
              "</div>"
            ],
            "text/plain": [
              "     CUSTODY_LEVEL BRADH  RACE  ...  TOP_CHARGE            admitted  year\n",
              "0              MIN     Y     2  ...      140.25 2018-08-24 01:46:33  2018\n",
              "1              MAX     N     0  ...      120.14 2019-10-16 11:06:07  2019\n",
              "2              MAX     N     0  ...      140.15 2019-11-10 02:32:10  2019\n",
              "3              MIN     N     2  ...      156.10 2019-10-23 03:26:50  2019\n",
              "4              MAX     Y     0  ...      125.25 2019-05-02 01:35:22  2019\n",
              "...            ...   ...   ...  ...         ...                 ...   ...\n",
              "6813           MED     Y     0  ...      125.25 2017-02-03 21:36:59  2017\n",
              "6814           MAX     Y     0  ...  110-125.25 2018-11-14 01:38:36  2018\n",
              "6815           MAX     Y     0  ...  110-125.25 2018-01-22 23:57:24  2018\n",
              "6816           MED     N     2  ...      130.96 2017-08-23 17:21:51  2017\n",
              "6817           MIN     N     0  ...      220.41 2018-09-19 16:21:38  2018\n",
              "\n",
              "[6818 rows x 8 columns]"
            ]
          },
          "metadata": {
            "tags": []
          },
          "execution_count": 45
        }
      ]
    },
    {
      "cell_type": "markdown",
      "metadata": {
        "id": "qHaNTFXCjjqk",
        "colab_type": "text"
      },
      "source": [
        "##conclusion that blacks where the most incarcerated"
      ]
    },
    {
      "cell_type": "code",
      "metadata": {
        "id": "xgDDx1tTguSv",
        "colab_type": "code",
        "colab": {
          "base_uri": "https://localhost:8080/",
          "height": 295
        },
        "outputId": "268a92f5-7aee-40b7-c298-323352f127e2"
      },
      "source": [
        "RACE_sort = df.groupby('RACE').count().reset_index()\n",
        "RACE_x = RACE_sort.iloc[:,0]\n",
        "RACE_y = RACE_sort.iloc[:,1]\n",
        "data = [plt.scatter(x=RACE_x, y=RACE_y)]\n",
        "\n",
        "plt.xticks(np.arange(6), [\"BLACK\",\"OTHER\",\"WHITE\",\"ASIAN\",\"ITALIAN\",\"UNKNOWN\"])\n",
        "plt.title('Incarceration by Race')\n",
        "plt.xlabel('RACE')\n",
        "plt.ylabel('values')\n",
        "plt;"
      ],
      "execution_count": 46,
      "outputs": [
        {
          "output_type": "display_data",
          "data": {
            "image/png": "[encoded data removed]",
            "text/plain": [
              "<Figure size 432x288 with 1 Axes>"
            ]
          },
          "metadata": {
            "tags": [],
            "needs_background": "light"
          }
        }
      ]
    },
    {
      "cell_type": "code",
      "metadata": {
        "id": "igJ8TW2LeVLa",
        "colab_type": "code",
        "colab": {
          "base_uri": "https://localhost:8080/",
          "height": 295
        },
        "outputId": "f3d1d705-222d-48e3-d872-ef5362f76960"
      },
      "source": [
        "x1 = [2019,2018,2017,2016,2015]\n",
        "y1 = [3845,2082,729,106,14]\n",
        "fig, ax = plt.subplots()\n",
        "plt.plot(x1, y1, label = \"Inmate Rates\", color='red')\n",
        "plt.title('inmates incarcerated over the years')\n",
        "ax.set_facecolor('skyblue')\n",
        "ax.set_xlabel('incarceration rates')\n",
        "ax.set_ylabel('Years')\n",
        "plt.legend()\n",
        "\n",
        "plt.show()"
      ],
      "execution_count": 47,
      "outputs": [
        {
          "output_type": "display_data",
          "data": {
            "image/png": "[encoded data removed]",
            "text/plain": [
              "<Figure size 432x288 with 1 Axes>"
            ]
          },
          "metadata": {
            "tags": [],
            "needs_background": "light"
          }
        }
      ]
    },
    {
      "cell_type": "markdown",
      "metadata": {
        "id": "Y_iGLtZmxd1c",
        "colab_type": "text"
      },
      "source": [
        "\n",
        "B    3845-\n",
        "O    2082-\n",
        "W     729-\n",
        "A     106-\n",
        "I      14-\n",
        "\n"
      ]
    },
    {
      "cell_type": "code",
      "metadata": {
        "id": "tuRJRg5NsGFa",
        "colab_type": "code",
        "colab": {
          "base_uri": "https://localhost:8080/",
          "height": 499
        },
        "outputId": "c551208c-bfe7-48df-bf6a-dd9c88acf119"
      },
      "source": [
        "N1 = 5\n",
        "\n",
        "fig, ax = plt.subplots()\n",
        "fig.set_size_inches(5, 8, forward=True)\n",
        "\n",
        "yearly = (14,62,218,933,5584)\n",
        "racesi = (0,1,0,1,12)\n",
        "racesa = (1,0,6,16,83)\n",
        "racesw = (2,6,21,92,608)\n",
        "raceso = (2,15,64,288,1711)\n",
        "racesb = (9,40,126,535,3159)\n",
        "ind = np.arange(N1)    # the x locations for the groups\n",
        "width = .85      # the width of the bars: can also be len(x) sequence\n",
        "\n",
        "p1 = plt.bar(ind, yearly, width)\n",
        "p2 = plt.bar(ind, racesi, width, color=('blue'),\n",
        "              bottom=yearly)\n",
        "p3 = plt.bar(ind, racesa, width,\n",
        "              bottom=racesi, color=('purple'))\n",
        "p4 = plt.bar(ind, racesw, width,\n",
        "              bottom=racesa, color=('green'))\n",
        "p5 = plt.bar(ind, raceso, width,\n",
        "              bottom=racesw, color=('aqua'))\n",
        "p6 = plt.bar(ind, racesb, width,\n",
        "              bottom=raceso, color=('red'))\n",
        "\n",
        "plt.ylabel('amount of incarceration')\n",
        "plt.xticks(ind, ('2015','2016','2017','2018','2019'))\n",
        "plt.title('Incarceration by race yearly')\n",
        "plt.legend((p1[-1], p2[-1], p3[-1], p4[-1], p5[-1], p6[-1]), ('year', 'Indian','Asian','White','Other','Black'))\n",
        "ax.set_facecolor('orange')\n",
        "fig.set_facecolor('orange')\n",
        "\n",
        "plt.show()"
      ],
      "execution_count": 80,
      "outputs": [
        {
          "output_type": "display_data",
          "data": {
            "image/png": "[encoded data removed]",
            "text/plain": [
              "<Figure size 360x576 with 1 Axes>"
            ]
          },
          "metadata": {
            "tags": []
          }
        }
      ]
    },
    {
      "cell_type": "code",
      "metadata": {
        "id": "2bYKqSI5rTvN",
        "colab_type": "code",
        "colab": {
          "base_uri": "https://localhost:8080/",
          "height": 419
        },
        "outputId": "2b9183f5-f678-4cbb-f8c8-097bc96d51b5"
      },
      "source": [
        "df['total'] = (df['year'] / df['RACE'])\n",
        "df"
      ],
      "execution_count": 49,
      "outputs": [
        {
          "output_type": "execute_result",
          "data": {
            "text/html": [
              "<div>\n",
              "<style scoped>\n",
              "    .dataframe tbody tr th:only-of-type {\n",
              "        vertical-align: middle;\n",
              "    }\n",
              "\n",
              "    .dataframe tbody tr th {\n",
              "        vertical-align: top;\n",
              "    }\n",
              "\n",
              "    .dataframe thead th {\n",
              "        text-align: right;\n",
              "    }\n",
              "</style>\n",
              "<table border=\"1\" class=\"dataframe\">\n",
              "  <thead>\n",
              "    <tr style=\"text-align: right;\">\n",
              "      <th></th>\n",
              "      <th>CUSTODY_LEVEL</th>\n",
              "      <th>BRADH</th>\n",
              "      <th>RACE</th>\n",
              "      <th>GENDER</th>\n",
              "      <th>AGE</th>\n",
              "      <th>TOP_CHARGE</th>\n",
              "      <th>admitted</th>\n",
              "      <th>year</th>\n",
              "      <th>total</th>\n",
              "    </tr>\n",
              "  </thead>\n",
              "  <tbody>\n",
              "    <tr>\n",
              "      <th>0</th>\n",
              "      <td>MIN</td>\n",
              "      <td>Y</td>\n",
              "      <td>2</td>\n",
              "      <td>1</td>\n",
              "      <td>54.0</td>\n",
              "      <td>140.25</td>\n",
              "      <td>2018-08-24 01:46:33</td>\n",
              "      <td>2018</td>\n",
              "      <td>1009.0</td>\n",
              "    </tr>\n",
              "    <tr>\n",
              "      <th>1</th>\n",
              "      <td>MAX</td>\n",
              "      <td>N</td>\n",
              "      <td>0</td>\n",
              "      <td>1</td>\n",
              "      <td>29.0</td>\n",
              "      <td>120.14</td>\n",
              "      <td>2019-10-16 11:06:07</td>\n",
              "      <td>2019</td>\n",
              "      <td>inf</td>\n",
              "    </tr>\n",
              "    <tr>\n",
              "      <th>2</th>\n",
              "      <td>MAX</td>\n",
              "      <td>N</td>\n",
              "      <td>0</td>\n",
              "      <td>1</td>\n",
              "      <td>38.0</td>\n",
              "      <td>140.15</td>\n",
              "      <td>2019-11-10 02:32:10</td>\n",
              "      <td>2019</td>\n",
              "      <td>inf</td>\n",
              "    </tr>\n",
              "    <tr>\n",
              "      <th>3</th>\n",
              "      <td>MIN</td>\n",
              "      <td>N</td>\n",
              "      <td>2</td>\n",
              "      <td>1</td>\n",
              "      <td>29.0</td>\n",
              "      <td>156.10</td>\n",
              "      <td>2019-10-23 03:26:50</td>\n",
              "      <td>2019</td>\n",
              "      <td>1009.5</td>\n",
              "    </tr>\n",
              "    <tr>\n",
              "      <th>4</th>\n",
              "      <td>MAX</td>\n",
              "      <td>Y</td>\n",
              "      <td>0</td>\n",
              "      <td>1</td>\n",
              "      <td>27.0</td>\n",
              "      <td>125.25</td>\n",
              "      <td>2019-05-02 01:35:22</td>\n",
              "      <td>2019</td>\n",
              "      <td>inf</td>\n",
              "    </tr>\n",
              "    <tr>\n",
              "      <th>...</th>\n",
              "      <td>...</td>\n",
              "      <td>...</td>\n",
              "      <td>...</td>\n",
              "      <td>...</td>\n",
              "      <td>...</td>\n",
              "      <td>...</td>\n",
              "      <td>...</td>\n",
              "      <td>...</td>\n",
              "      <td>...</td>\n",
              "    </tr>\n",
              "    <tr>\n",
              "      <th>6813</th>\n",
              "      <td>MED</td>\n",
              "      <td>Y</td>\n",
              "      <td>0</td>\n",
              "      <td>1</td>\n",
              "      <td>43.0</td>\n",
              "      <td>125.25</td>\n",
              "      <td>2017-02-03 21:36:59</td>\n",
              "      <td>2017</td>\n",
              "      <td>inf</td>\n",
              "    </tr>\n",
              "    <tr>\n",
              "      <th>6814</th>\n",
              "      <td>MAX</td>\n",
              "      <td>Y</td>\n",
              "      <td>0</td>\n",
              "      <td>1</td>\n",
              "      <td>46.0</td>\n",
              "      <td>110-125.25</td>\n",
              "      <td>2018-11-14 01:38:36</td>\n",
              "      <td>2018</td>\n",
              "      <td>inf</td>\n",
              "    </tr>\n",
              "    <tr>\n",
              "      <th>6815</th>\n",
              "      <td>MAX</td>\n",
              "      <td>Y</td>\n",
              "      <td>0</td>\n",
              "      <td>1</td>\n",
              "      <td>35.0</td>\n",
              "      <td>110-125.25</td>\n",
              "      <td>2018-01-22 23:57:24</td>\n",
              "      <td>2018</td>\n",
              "      <td>inf</td>\n",
              "    </tr>\n",
              "    <tr>\n",
              "      <th>6816</th>\n",
              "      <td>MED</td>\n",
              "      <td>N</td>\n",
              "      <td>2</td>\n",
              "      <td>1</td>\n",
              "      <td>40.0</td>\n",
              "      <td>130.96</td>\n",
              "      <td>2017-08-23 17:21:51</td>\n",
              "      <td>2017</td>\n",
              "      <td>1008.5</td>\n",
              "    </tr>\n",
              "    <tr>\n",
              "      <th>6817</th>\n",
              "      <td>MIN</td>\n",
              "      <td>N</td>\n",
              "      <td>0</td>\n",
              "      <td>1</td>\n",
              "      <td>43.0</td>\n",
              "      <td>220.41</td>\n",
              "      <td>2018-09-19 16:21:38</td>\n",
              "      <td>2018</td>\n",
              "      <td>inf</td>\n",
              "    </tr>\n",
              "  </tbody>\n",
              "</table>\n",
              "<p>6818 rows × 9 columns</p>\n",
              "</div>"
            ],
            "text/plain": [
              "     CUSTODY_LEVEL BRADH  RACE  ...            admitted  year   total\n",
              "0              MIN     Y     2  ... 2018-08-24 01:46:33  2018  1009.0\n",
              "1              MAX     N     0  ... 2019-10-16 11:06:07  2019     inf\n",
              "2              MAX     N     0  ... 2019-11-10 02:32:10  2019     inf\n",
              "3              MIN     N     2  ... 2019-10-23 03:26:50  2019  1009.5\n",
              "4              MAX     Y     0  ... 2019-05-02 01:35:22  2019     inf\n",
              "...            ...   ...   ...  ...                 ...   ...     ...\n",
              "6813           MED     Y     0  ... 2017-02-03 21:36:59  2017     inf\n",
              "6814           MAX     Y     0  ... 2018-11-14 01:38:36  2018     inf\n",
              "6815           MAX     Y     0  ... 2018-01-22 23:57:24  2018     inf\n",
              "6816           MED     N     2  ... 2017-08-23 17:21:51  2017  1008.5\n",
              "6817           MIN     N     0  ... 2018-09-19 16:21:38  2018     inf\n",
              "\n",
              "[6818 rows x 9 columns]"
            ]
          },
          "metadata": {
            "tags": []
          },
          "execution_count": 49
        }
      ]
    },
    {
      "cell_type": "code",
      "metadata": {
        "id": "8mRusknm1h4k",
        "colab_type": "code",
        "colab": {
          "base_uri": "https://localhost:8080/",
          "height": 283
        },
        "outputId": "3e93fce4-c650-4b64-dc04-62f5b065017d"
      },
      "source": [
        "df['total'].info()\n"
      ],
      "execution_count": 50,
      "outputs": [
        {
          "output_type": "error",
          "ename": "AttributeError",
          "evalue": "ignored",
          "traceback": [
            "\u001b[0;31m---------------------------------------------------------------------------\u001b[0m",
            "\u001b[0;31mAttributeError\u001b[0m                            Traceback (most recent call last)",
            "\u001b[0;32m<ipython-input-50-b1c78586ce89>\u001b[0m in \u001b[0;36m<module>\u001b[0;34m()\u001b[0m\n\u001b[0;32m----> 1\u001b[0;31m \u001b[0mdf\u001b[0m\u001b[0;34m[\u001b[0m\u001b[0;34m'total'\u001b[0m\u001b[0;34m]\u001b[0m\u001b[0;34m.\u001b[0m\u001b[0minfo\u001b[0m\u001b[0;34m(\u001b[0m\u001b[0;34m)\u001b[0m\u001b[0;34m\u001b[0m\u001b[0;34m\u001b[0m\u001b[0m\n\u001b[0m",
            "\u001b[0;32m/usr/local/lib/python3.6/dist-packages/pandas/core/generic.py\u001b[0m in \u001b[0;36m__getattr__\u001b[0;34m(self, name)\u001b[0m\n\u001b[1;32m   5272\u001b[0m             \u001b[0;32mif\u001b[0m \u001b[0mself\u001b[0m\u001b[0;34m.\u001b[0m\u001b[0m_info_axis\u001b[0m\u001b[0;34m.\u001b[0m\u001b[0m_can_hold_identifiers_and_holds_name\u001b[0m\u001b[0;34m(\u001b[0m\u001b[0mname\u001b[0m\u001b[0;34m)\u001b[0m\u001b[0;34m:\u001b[0m\u001b[0;34m\u001b[0m\u001b[0;34m\u001b[0m\u001b[0m\n\u001b[1;32m   5273\u001b[0m                 \u001b[0;32mreturn\u001b[0m \u001b[0mself\u001b[0m\u001b[0;34m[\u001b[0m\u001b[0mname\u001b[0m\u001b[0;34m]\u001b[0m\u001b[0;34m\u001b[0m\u001b[0;34m\u001b[0m\u001b[0m\n\u001b[0;32m-> 5274\u001b[0;31m             \u001b[0;32mreturn\u001b[0m \u001b[0mobject\u001b[0m\u001b[0;34m.\u001b[0m\u001b[0m__getattribute__\u001b[0m\u001b[0;34m(\u001b[0m\u001b[0mself\u001b[0m\u001b[0;34m,\u001b[0m \u001b[0mname\u001b[0m\u001b[0;34m)\u001b[0m\u001b[0;34m\u001b[0m\u001b[0;34m\u001b[0m\u001b[0m\n\u001b[0m\u001b[1;32m   5275\u001b[0m \u001b[0;34m\u001b[0m\u001b[0m\n\u001b[1;32m   5276\u001b[0m     \u001b[0;32mdef\u001b[0m \u001b[0m__setattr__\u001b[0m\u001b[0;34m(\u001b[0m\u001b[0mself\u001b[0m\u001b[0;34m,\u001b[0m \u001b[0mname\u001b[0m\u001b[0;34m:\u001b[0m \u001b[0mstr\u001b[0m\u001b[0;34m,\u001b[0m \u001b[0mvalue\u001b[0m\u001b[0;34m)\u001b[0m \u001b[0;34m->\u001b[0m \u001b[0;32mNone\u001b[0m\u001b[0;34m:\u001b[0m\u001b[0;34m\u001b[0m\u001b[0;34m\u001b[0m\u001b[0m\n",
            "\u001b[0;31mAttributeError\u001b[0m: 'Series' object has no attribute 'info'"
          ]
        }
      ]
    },
    {
      "cell_type": "code",
      "metadata": {
        "id": "_FDJIItc1qwt",
        "colab_type": "code",
        "colab": {}
      },
      "source": [
        ""
      ],
      "execution_count": null,
      "outputs": []
    }
  ]
}